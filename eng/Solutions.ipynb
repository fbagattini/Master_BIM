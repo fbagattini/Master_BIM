{
 "cells": [
  {
   "cell_type": "markdown",
   "metadata": {},
   "source": [
    "5.4\n",
    "---"
   ]
  },
  {
   "cell_type": "code",
   "execution_count": 3,
   "metadata": {},
   "outputs": [
    {
     "name": "stdout",
     "output_type": "stream",
     "text": [
      "The number with index 0 is 10\n",
      "The number with index 1 is 2\n",
      "The number with index 2 is 4\n",
      "The number with index 3 is 8\n",
      "The number with index 4 is 1.7\n"
     ]
    },
    {
     "data": {
      "text/plain": [
       "[100, 4, 16, 64, 2.8899999999999997]"
      ]
     },
     "execution_count": 3,
     "metadata": {},
     "output_type": "execute_result"
    }
   ],
   "source": [
    "numbers = [10, 2, 4, 8, 1.7]\n",
    "squared_numbers = []\n",
    "\n",
    "for i, x in enumerate(numbers):\n",
    "    print('The number with index {} is {}'.format(i, x))\n",
    "    squared_numbers += [x**2]\n",
    "    \n",
    "squared_numbers"
   ]
  },
  {
   "cell_type": "markdown",
   "metadata": {},
   "source": [
    "5.5\n",
    "---"
   ]
  },
  {
   "cell_type": "code",
   "execution_count": 4,
   "metadata": {},
   "outputs": [
    {
     "data": {
      "text/plain": [
       "[[0, 'alessandro'],\n",
       " [1, 'elisa'],\n",
       " [2, 'francesco'],\n",
       " [3, 'giovanni'],\n",
       " [4, 'maria teresa']]"
      ]
     },
     "execution_count": 4,
     "metadata": {},
     "output_type": "execute_result"
    }
   ],
   "source": [
    "names = ['francesco', 'elisa', 'alessandro', 'giovanni', 'maria teresa']\n",
    "indexed_sorted_names = [[i, n] for i, n in enumerate(sorted(names))]\n",
    "\n",
    "indexed_sorted_names"
   ]
  },
  {
   "cell_type": "markdown",
   "metadata": {},
   "source": [
    "5.6\n",
    "---"
   ]
  },
  {
   "cell_type": "code",
   "execution_count": 5,
   "metadata": {},
   "outputs": [
    {
     "data": {
      "text/plain": [
       "[100, 4, 16, 64, 2.8899999999999997]"
      ]
     },
     "execution_count": 5,
     "metadata": {},
     "output_type": "execute_result"
    }
   ],
   "source": [
    "numbers = [10, 2, 4, 8, 1.7]\n",
    "squared_numbers = [x**2 for x in numbers]\n",
    "\n",
    "squared_numbers"
   ]
  },
  {
   "cell_type": "markdown",
   "metadata": {},
   "source": [
    "6.1, 6.2\n",
    "---"
   ]
  },
  {
   "cell_type": "code",
   "execution_count": 6,
   "metadata": {},
   "outputs": [
    {
     "name": "stdout",
     "output_type": "stream",
     "text": [
      "The square of 3 is 9, which is a multiple of 3 but not of 2\n",
      "The square of 6 is 36, which is a multiple of both 2 and 3\n",
      "The square of 5 is 25, which is neither a multiple of 2 nor 3\n",
      "The square of 8 is 64, which is a multiple of 2 but not of 3\n",
      "The square of 12 is 144, which is a multiple of both 2 and 3\n",
      "\n",
      "**************************************************************\n",
      "\n",
      "[36, 64, 144]\n",
      "[9, 36, 144]\n",
      "[64]\n"
     ]
    }
   ],
   "source": [
    "lst = [3,6,5,8,12]\n",
    "\n",
    "for element in lst:\n",
    "    if element**2 % 2 == 0 and element**2 % 3 == 0:\n",
    "        print('The square of {} is {}, which is a multiple of both 2 and 3'.format(element, element**2))\n",
    "    elif element**2 % 2 == 0:\n",
    "        print('The square of {} is {}, which is a multiple of 2 but not of 3'.format(element, element**2))\n",
    "    elif element**2 % 3 == 0:\n",
    "        print('The square of {} is {}, which is a multiple of 3 but not of 2'.format(element, element**2))\n",
    "    else:\n",
    "        print('The square of {} is {}, which is neither a multiple of 2 nor 3'.format(element, element**2))\n",
    "        \n",
    "print('\\n**************************************************************\\n')\n",
    "\n",
    "multiples_of_2 = [element**2 for element in lst if element**2 % 2 == 0]\n",
    "multiples_of_3 = [element**2 for element in lst if element**2 % 3 == 0]\n",
    "multiples_of_2_and_not_of_3 = [element**2 for element in lst if element**2 % 2 == 0 and not element**2 % 3 == 0]\n",
    "\n",
    "print(multiples_of_2)\n",
    "print(multiples_of_3)\n",
    "print(multiples_of_2_and_not_of_3)"
   ]
  },
  {
   "cell_type": "code",
   "execution_count": null,
   "metadata": {},
   "outputs": [],
   "source": [
    "#inizio dizionari"
   ]
  },
  {
   "cell_type": "markdown",
   "metadata": {},
   "source": [
    "7.1\n",
    "---"
   ]
  },
  {
   "cell_type": "code",
   "execution_count": 7,
   "metadata": {},
   "outputs": [
    {
     "name": "stdout",
     "output_type": "stream",
     "text": [
      "Mount Everest è alta 8858\n",
      "K2 è alta 8611\n",
      "Kangchenjunga è alta 8586\n",
      "La montagna numero 1 è K2 ed è alta 8611\n",
      "La montagna numero 2 è Kangchenjunga ed è alta 8586\n",
      "La montagna numero 3 è Mount Everest ed è alta 8858\n"
     ]
    }
   ],
   "source": [
    "heights = {}\n",
    "heights['Mount Everest'] = 8858\n",
    "heights['K2'] = 8611\n",
    "heights['Kangchenjunga'] = 8586\n",
    "\n",
    "for mountain, height in heights.items():\n",
    "    print('{} è alta {}'.format(mountain, height))\n",
    "    \n",
    "for i, mountain in enumerate(sorted(heights.keys())):\n",
    "    print('La montagna numero {} è {} ed è alta {}'.format(i+1, mountain, heights[mountain]))"
   ]
  },
  {
   "cell_type": "markdown",
   "metadata": {},
   "source": [
    "7.2\n",
    "---"
   ]
  },
  {
   "cell_type": "code",
   "execution_count": 8,
   "metadata": {},
   "outputs": [
    {
     "name": "stdout",
     "output_type": "stream",
     "text": [
      "La montagna numero 0 è Mount Everest, è alta 8858 e si trova in Nepal\n",
      "La montagna numero 1 è K2, è alta 8611 e si trova in Pakistan\n",
      "La montagna numero 2 è Kangchenjunga, è alta 8586 e si trova in Nepal\n"
     ]
    }
   ],
   "source": [
    "mountains = []\n",
    "\n",
    "mountains += [{'name':'Mount Everest', 'height':8858, 'country':'Nepal'}]\n",
    "mountains += [{'name':'K2', 'height':8611, 'country':'Pakistan'}]\n",
    "mountains += [{'name':'Kangchenjunga', 'height':8586, 'country':'Nepal'}]\n",
    "\n",
    "for i, m in enumerate(mountains):\n",
    "    print('La montagna numero {} è {}, è alta {} e si trova in {}'.format(i,\n",
    "                                                                          m['name'],\n",
    "                                                                          m['height'],\n",
    "                                                                          m['country']))"
   ]
  },
  {
   "cell_type": "code",
   "execution_count": 9,
   "metadata": {},
   "outputs": [
    {
     "name": "stdout",
     "output_type": "stream",
     "text": [
      "{'Mount Everest': 8858, 'K2': 8611, 'Kangchenjunga': 8586}\n"
     ]
    }
   ],
   "source": [
    "mountain_names = [m['name'] for m in mountains]\n",
    "mountain_heights = [m['height'] for m in mountains]\n",
    "\n",
    "heights = {}\n",
    "\n",
    "for i,n in enumerate(mountain_names):\n",
    "    heights[n] = mountain_heights[i]\n",
    "    \n",
    "print(heights)"
   ]
  },
  {
   "cell_type": "markdown",
   "metadata": {},
   "source": [
    "7.3\n",
    "---"
   ]
  },
  {
   "cell_type": "code",
   "execution_count": 5,
   "metadata": {},
   "outputs": [],
   "source": [
    "def show_estate_info(e):\n",
    "    print('Paese: {}'.format(e['country']))\n",
    "    print('Estensione (mq): {}'.format(e['extension']))\n",
    "    print('Terreno annesso?: {}'.format('Sì' if e['has_land'] else 'No'))\n",
    "    print('Prezzo: {}K Euro'.format(e['price']))"
   ]
  },
  {
   "cell_type": "code",
   "execution_count": 9,
   "metadata": {},
   "outputs": [
    {
     "name": "stdout",
     "output_type": "stream",
     "text": [
      "\n",
      "Immobile #0\n",
      "Paese: Italia\n",
      "Estensione (mq): 2000\n",
      "Terreno annesso?: No\n",
      "Prezzo: 10K Euro\n",
      "\n",
      "Immobile #1\n",
      "Paese: Spagna\n",
      "Estensione (mq): 12000\n",
      "Terreno annesso?: No\n",
      "Prezzo: 125K Euro\n",
      "\n",
      "Immobile #2\n",
      "Paese: Argentina\n",
      "Estensione (mq): 50000\n",
      "Terreno annesso?: Sì\n",
      "Prezzo: 300K Euro\n"
     ]
    }
   ],
   "source": [
    "estates = []\n",
    "\n",
    "e1 = {'country':'Italia',    'extension':2000,  'has_land':False, 'price':10}\n",
    "e2 = {'country':'Spagna',    'extension':12000, 'has_land':False, 'price':125}\n",
    "e3 = {'country':'Argentina', 'extension':50000, 'has_land':True,  'price':300}\n",
    "\n",
    "estates += [e1, e2, e3]\n",
    "\n",
    "for i, e in enumerate(estates):\n",
    "    print(f'\\nImmobile #{i}')#sintassi alternativa a format, disponibile da Python 3.6\n",
    "    show_estate_info(e)"
   ]
  },
  {
   "cell_type": "code",
   "execution_count": null,
   "metadata": {},
   "outputs": [],
   "source": [
    "################### fine dizionari, inizio numpy"
   ]
  },
  {
   "cell_type": "markdown",
   "metadata": {},
   "source": [
    "10.2\n",
    "---"
   ]
  },
  {
   "cell_type": "code",
   "execution_count": 22,
   "metadata": {},
   "outputs": [
    {
     "data": {
      "text/plain": [
       "array([[[ 64,  14,  27,  58, 221],\n",
       "        [219, 209,  50, 121, 198],\n",
       "        [ 45,  39,  12, 224, 207],\n",
       "        [148,   2,   4, 128, 183],\n",
       "        [213, 123,  87,  30, 114]],\n",
       "\n",
       "       [[115,  53,   6, 150, 200],\n",
       "        [106,  55, 148,  27,  26],\n",
       "        [ 75,  13, 233,  82, 135],\n",
       "        [199, 157, 146,  75, 255],\n",
       "        [103, 193,   8, 223, 165]],\n",
       "\n",
       "       [[254,  22, 187,  71,  79],\n",
       "        [159, 125, 193,  95, 168],\n",
       "        [234, 183,  10, 244, 208],\n",
       "        [163,  79, 111,  97, 124],\n",
       "        [252, 202, 136,  39,  55]],\n",
       "\n",
       "       ...,\n",
       "\n",
       "       [[105,  64,  30, 109,  84],\n",
       "        [205, 127,   1, 163, 106],\n",
       "        [247,  52, 170,  25,   9],\n",
       "        [139,  84,  16, 104, 152],\n",
       "        [208,  68, 195,  16,  51]],\n",
       "\n",
       "       [[ 65, 169,  28,  92, 241],\n",
       "        [157,  28, 217,   4,  81],\n",
       "        [  9,   1, 159,  92, 148],\n",
       "        [ 80, 144, 197,  75, 230],\n",
       "        [149,  99, 198, 133, 138]],\n",
       "\n",
       "       [[ 58, 191,  44, 133, 188],\n",
       "        [197,  44, 173, 236,  10],\n",
       "        [ 18, 216,  21,  80, 255],\n",
       "        [ 38, 251, 204, 200, 113],\n",
       "        [ 39, 129, 233, 179,  48]]])"
      ]
     },
     "execution_count": 22,
     "metadata": {},
     "output_type": "execute_result"
    }
   ],
   "source": [
    "import numpy as np\n",
    "import numpy.random as rdm\n",
    "\n",
    "n_frames = 50\n",
    "n_pixel_x = 5\n",
    "n_pixel_y = 5\n",
    "movie = rdm.randint(0, 256, (n_frames, n_pixel_x, n_pixel_y))\n",
    "\n",
    "movie"
   ]
  },
  {
   "cell_type": "code",
   "execution_count": 23,
   "metadata": {},
   "outputs": [
    {
     "data": {
      "text/plain": [
       "(50, 5, 5)"
      ]
     },
     "execution_count": 23,
     "metadata": {},
     "output_type": "execute_result"
    }
   ],
   "source": [
    "movie.shape"
   ]
  },
  {
   "cell_type": "code",
   "execution_count": 24,
   "metadata": {},
   "outputs": [
    {
     "data": {
      "text/plain": [
       "array([[120.96, 106.36, 113.72, 127.86, 112.8 ],\n",
       "       [129.88, 122.18, 116.76, 113.98, 133.6 ],\n",
       "       [120.84, 134.64, 119.06, 122.3 , 140.8 ],\n",
       "       [109.6 , 127.5 , 108.12, 134.06, 140.74],\n",
       "       [130.32, 140.62, 138.4 , 120.42, 135.66]])"
      ]
     },
     "execution_count": 24,
     "metadata": {},
     "output_type": "execute_result"
    }
   ],
   "source": [
    "pixel_mean_intensity = np.mean(movie, axis=0)\n",
    "pixel_mean_intensity"
   ]
  },
  {
   "cell_type": "code",
   "execution_count": 25,
   "metadata": {},
   "outputs": [
    {
     "data": {
      "text/plain": [
       "(5, 5)"
      ]
     },
     "execution_count": 25,
     "metadata": {},
     "output_type": "execute_result"
    }
   ],
   "source": [
    "pixel_mean_intensity.shape"
   ]
  },
  {
   "cell_type": "markdown",
   "metadata": {},
   "source": [
    "11.1\n",
    "---"
   ]
  },
  {
   "cell_type": "code",
   "execution_count": 6,
   "metadata": {},
   "outputs": [],
   "source": [
    "import numpy as np\n",
    "\n",
    "X_train = np.array([[1,2,3],\n",
    "                    [0,2,-1],\n",
    "                    [-1,2,3],\n",
    "                    [3,1,3]])\n",
    "\n",
    "x_test = np.array([1,1,2])"
   ]
  },
  {
   "cell_type": "code",
   "execution_count": 7,
   "metadata": {},
   "outputs": [
    {
     "data": {
      "text/plain": [
       "array([[ 1,  2,  3],\n",
       "       [ 0,  2, -1],\n",
       "       [-1,  2,  3],\n",
       "       [ 3,  1,  3]])"
      ]
     },
     "execution_count": 7,
     "metadata": {},
     "output_type": "execute_result"
    }
   ],
   "source": [
    "X_train"
   ]
  },
  {
   "cell_type": "code",
   "execution_count": 8,
   "metadata": {},
   "outputs": [
    {
     "data": {
      "text/plain": [
       "array([1, 1, 2])"
      ]
     },
     "execution_count": 8,
     "metadata": {},
     "output_type": "execute_result"
    }
   ],
   "source": [
    "x_test"
   ]
  },
  {
   "cell_type": "code",
   "execution_count": 9,
   "metadata": {},
   "outputs": [
    {
     "name": "stdout",
     "output_type": "stream",
     "text": [
      "[1 2 3]\n",
      "[ 0  2 -1]\n",
      "[-1  2  3]\n",
      "[3 1 3]\n"
     ]
    }
   ],
   "source": [
    "for x in X_train:\n",
    "    print(x)"
   ]
  },
  {
   "cell_type": "code",
   "execution_count": 10,
   "metadata": {},
   "outputs": [
    {
     "name": "stdout",
     "output_type": "stream",
     "text": [
      "1.4\n",
      "3.3\n",
      "2.4\n",
      "2.2\n"
     ]
    }
   ],
   "source": [
    "for x in X_train:\n",
    "    print(np.sqrt(np.sum((x - x_test) ** 2)).round(1))#distance"
   ]
  },
  {
   "cell_type": "code",
   "execution_count": 11,
   "metadata": {},
   "outputs": [
    {
     "data": {
      "text/plain": [
       "array([1, 1, 2])"
      ]
     },
     "execution_count": 11,
     "metadata": {},
     "output_type": "execute_result"
    }
   ],
   "source": [
    "x_test"
   ]
  },
  {
   "cell_type": "code",
   "execution_count": 12,
   "metadata": {},
   "outputs": [
    {
     "name": "stdout",
     "output_type": "stream",
     "text": [
      "\n",
      "train sample:  [1 2 3]\n",
      "component-wise differences: [0 1 1]\n",
      "squared differences: [0 1 1]\n",
      "sum of squared differences: 2\n",
      "distance: 1.4\n",
      "\n",
      "train sample:  [ 0  2 -1]\n",
      "component-wise differences: [-1  1 -3]\n",
      "squared differences: [1 1 9]\n",
      "sum of squared differences: 11\n",
      "distance: 3.3\n",
      "\n",
      "train sample:  [-1  2  3]\n",
      "component-wise differences: [-2  1  1]\n",
      "squared differences: [4 1 1]\n",
      "sum of squared differences: 6\n",
      "distance: 2.4\n",
      "\n",
      "train sample:  [3 1 3]\n",
      "component-wise differences: [2 0 1]\n",
      "squared differences: [4 0 1]\n",
      "sum of squared differences: 5\n",
      "distance: 2.2\n"
     ]
    }
   ],
   "source": [
    "for x in X_train:\n",
    "    \n",
    "    print('\\ntrain sample: ', x)\n",
    "\n",
    "    diff = x - x_test    \n",
    "    print('component-wise differences:', diff)\n",
    "    \n",
    "    squared_diff = (x - x_test) ** 2    \n",
    "    print('squared differences:', squared_diff)\n",
    "    \n",
    "    diff_sum = np.sum((x - x_test) ** 2)\n",
    "    print('sum of squared differences:', diff_sum)\n",
    "    \n",
    "    distance = np.sqrt(np.sum((x - x_test) ** 2))\n",
    "    print('distance:', distance.round(1))"
   ]
  },
  {
   "cell_type": "code",
   "execution_count": 13,
   "metadata": {},
   "outputs": [
    {
     "data": {
      "text/plain": [
       "array([[ 0,  1,  1],\n",
       "       [-1,  1, -3],\n",
       "       [-2,  1,  1],\n",
       "       [ 2,  0,  1]])"
      ]
     },
     "execution_count": 13,
     "metadata": {},
     "output_type": "execute_result"
    }
   ],
   "source": [
    "X_train - x_test#component-wise differences"
   ]
  },
  {
   "cell_type": "code",
   "execution_count": 14,
   "metadata": {},
   "outputs": [
    {
     "data": {
      "text/plain": [
       "array([[0, 1, 1],\n",
       "       [1, 1, 9],\n",
       "       [4, 1, 1],\n",
       "       [4, 0, 1]])"
      ]
     },
     "execution_count": 14,
     "metadata": {},
     "output_type": "execute_result"
    }
   ],
   "source": [
    "(X_train - x_test) ** 2#squared differences"
   ]
  },
  {
   "cell_type": "code",
   "execution_count": 15,
   "metadata": {},
   "outputs": [
    {
     "data": {
      "text/plain": [
       "array([ 2, 11,  6,  5])"
      ]
     },
     "execution_count": 15,
     "metadata": {},
     "output_type": "execute_result"
    }
   ],
   "source": [
    "np.sum((X_train - x_test) ** 2, axis=1)#sum of squared differences"
   ]
  },
  {
   "cell_type": "code",
   "execution_count": 16,
   "metadata": {},
   "outputs": [
    {
     "data": {
      "text/plain": [
       "array([1.41421356, 3.31662479, 2.44948974, 2.23606798])"
      ]
     },
     "execution_count": 16,
     "metadata": {},
     "output_type": "execute_result"
    }
   ],
   "source": [
    "np.sqrt(np.sum((X_train - x_test) ** 2, axis=1))#distances"
   ]
  },
  {
   "cell_type": "code",
   "execution_count": 17,
   "metadata": {},
   "outputs": [
    {
     "data": {
      "text/plain": [
       "array([1.4, 3.3, 2.4, 2.2])"
      ]
     },
     "execution_count": 17,
     "metadata": {},
     "output_type": "execute_result"
    }
   ],
   "source": [
    "np.sqrt(np.sum((X_train - x_test) ** 2, axis=1)).round(1)#rounded distances"
   ]
  },
  {
   "cell_type": "markdown",
   "metadata": {},
   "source": [
    "14.3\n",
    "---"
   ]
  },
  {
   "cell_type": "code",
   "execution_count": 30,
   "metadata": {},
   "outputs": [
    {
     "name": "stdout",
     "output_type": "stream",
     "text": [
      ".. _boston_dataset:\n",
      "\n",
      "Boston house prices dataset\n",
      "---------------------------\n",
      "\n",
      "**Data Set Characteristics:**  \n",
      "\n",
      "    :Number of Instances: 506 \n",
      "\n",
      "    :Number of Attributes: 13 numeric/categorical predictive. Median Value (attribute 14) is usually the target.\n",
      "\n",
      "    :Attribute Information (in order):\n",
      "        - CRIM     per capita crime rate by town\n",
      "        - ZN       proportion of residential land zoned for lots over 25,000 sq.ft.\n",
      "        - INDUS    proportion of non-retail business acres per town\n",
      "        - CHAS     Charles River dummy variable (= 1 if tract bounds river; 0 otherwise)\n",
      "        - NOX      nitric oxides concentration (parts per 10 million)\n",
      "        - RM       average number of rooms per dwelling\n",
      "        - AGE      proportion of owner-occupied units built prior to 1940\n",
      "        - DIS      weighted distances to five Boston employment centres\n",
      "        - RAD      index of accessibility to radial highways\n",
      "        - TAX      full-value property-tax rate per $10,000\n",
      "        - PTRATIO  pupil-teacher ratio by town\n",
      "        - B        1000(Bk - 0.63)^2 where Bk is the proportion of blacks by town\n",
      "        - LSTAT    % lower status of the population\n",
      "        - MEDV     Median value of owner-occupied homes in $1000's\n",
      "\n",
      "    :Missing Attribute Values: None\n",
      "\n",
      "    :Creator: Harrison, D. and Rubinfeld, D.L.\n",
      "\n",
      "This is a copy of UCI ML housing dataset.\n",
      "https://archive.ics.uci.edu/ml/machine-learning-databases/housing/\n",
      "\n",
      "\n",
      "This dataset was taken from the StatLib library which is maintained at Carnegie Mellon University.\n",
      "\n",
      "The Boston house-price data of Harrison, D. and Rubinfeld, D.L. 'Hedonic\n",
      "prices and the demand for clean air', J. Environ. Economics & Management,\n",
      "vol.5, 81-102, 1978.   Used in Belsley, Kuh & Welsch, 'Regression diagnostics\n",
      "...', Wiley, 1980.   N.B. Various transformations are used in the table on\n",
      "pages 244-261 of the latter.\n",
      "\n",
      "The Boston house-price data has been used in many machine learning papers that address regression\n",
      "problems.   \n",
      "     \n",
      ".. topic:: References\n",
      "\n",
      "   - Belsley, Kuh & Welsch, 'Regression diagnostics: Identifying Influential Data and Sources of Collinearity', Wiley, 1980. 244-261.\n",
      "   - Quinlan,R. (1993). Combining Instance-Based and Model-Based Learning. In Proceedings on the Tenth International Conference of Machine Learning, 236-243, University of Massachusetts, Amherst. Morgan Kaufmann.\n",
      "\n"
     ]
    }
   ],
   "source": [
    "#import libraries\n",
    "from sklearn import datasets, neighbors\n",
    "from sklearn.utils import shuffle\n",
    "from sklearn.preprocessing import MinMaxScaler\n",
    "from sklearn.neighbors import KNeighborsRegressor as KNN\n",
    "from sklearn.metrics import mean_absolute_error\n",
    "\n",
    "#load data\n",
    "boston = datasets.load_boston()\n",
    "X, y = boston['data'], boston['target']\n",
    "\n",
    "print(boston['DESCR'])"
   ]
  },
  {
   "cell_type": "code",
   "execution_count": 31,
   "metadata": {},
   "outputs": [
    {
     "name": "stdout",
     "output_type": "stream",
     "text": [
      "Model accuracy on test set: 2.845\n"
     ]
    }
   ],
   "source": [
    "#scale features between 0 and 1\n",
    "scaler = MinMaxScaler()\n",
    "X = scaler.fit_transform(X)\n",
    "\n",
    "#split data into train and test\n",
    "X, y = shuffle(X, y, random_state=0)\n",
    "X_train, X_test = X[:400], X[400:]\n",
    "y_train, y_test = y[:400], y[400:]\n",
    "\n",
    "#train the model\n",
    "model = KNN(n_neighbors=3).fit(X_train, y_train)\n",
    "\n",
    "#get predictions and assess model performance\n",
    "predictions = model.predict(X_test)\n",
    "mae = mean_absolute_error(y_test, predictions)\n",
    "print('Model accuracy on test set: {:.3f}'.format(mae))"
   ]
  },
  {
   "cell_type": "markdown",
   "metadata": {},
   "source": [
    "15.1\n",
    "---"
   ]
  },
  {
   "cell_type": "code",
   "execution_count": 50,
   "metadata": {},
   "outputs": [
    {
     "data": {
      "text/html": [
       "<div>\n",
       "<style scoped>\n",
       "    .dataframe tbody tr th:only-of-type {\n",
       "        vertical-align: middle;\n",
       "    }\n",
       "\n",
       "    .dataframe tbody tr th {\n",
       "        vertical-align: top;\n",
       "    }\n",
       "\n",
       "    .dataframe thead th {\n",
       "        text-align: right;\n",
       "    }\n",
       "</style>\n",
       "<table border=\"1\" class=\"dataframe\">\n",
       "  <thead>\n",
       "    <tr style=\"text-align: right;\">\n",
       "      <th></th>\n",
       "      <th>BOROUGH</th>\n",
       "      <th>NEIGHBORHOOD</th>\n",
       "      <th>BUILDING CLASS CATEGORY</th>\n",
       "      <th>TAX CLASS AT PRESENT</th>\n",
       "      <th>BLOCK</th>\n",
       "      <th>LOT</th>\n",
       "      <th>BUILDING CLASS AT PRESENT</th>\n",
       "      <th>ADDRESS</th>\n",
       "      <th>ZIP CODE</th>\n",
       "      <th>RESIDENTIAL UNITS</th>\n",
       "      <th>COMMERCIAL UNITS</th>\n",
       "      <th>LAND SQUARE FEET</th>\n",
       "      <th>GROSS SQUARE FEET</th>\n",
       "      <th>YEAR BUILT</th>\n",
       "      <th>TAX CLASS AT TIME OF SALE</th>\n",
       "      <th>BUILDING CLASS AT TIME OF SALE</th>\n",
       "      <th>SALE DATE</th>\n",
       "      <th>SALE PRICE</th>\n",
       "    </tr>\n",
       "  </thead>\n",
       "  <tbody>\n",
       "    <tr>\n",
       "      <th>0</th>\n",
       "      <td>MANHATTAN</td>\n",
       "      <td>ALPHABET CITY</td>\n",
       "      <td>07 RENTALS - WALKUP APARTMENTS</td>\n",
       "      <td>2A</td>\n",
       "      <td>392</td>\n",
       "      <td>6</td>\n",
       "      <td>C2</td>\n",
       "      <td>153 AVENUE B</td>\n",
       "      <td>10009</td>\n",
       "      <td>5</td>\n",
       "      <td>0</td>\n",
       "      <td>1633</td>\n",
       "      <td>6440</td>\n",
       "      <td>1900</td>\n",
       "      <td>2</td>\n",
       "      <td>C2</td>\n",
       "      <td>2017-07-19 00:00:00</td>\n",
       "      <td>6625000</td>\n",
       "    </tr>\n",
       "    <tr>\n",
       "      <th>1</th>\n",
       "      <td>MANHATTAN</td>\n",
       "      <td>ALPHABET CITY</td>\n",
       "      <td>07 RENTALS - WALKUP APARTMENTS</td>\n",
       "      <td>2B</td>\n",
       "      <td>402</td>\n",
       "      <td>21</td>\n",
       "      <td>C4</td>\n",
       "      <td>154 EAST 7TH STREET</td>\n",
       "      <td>10009</td>\n",
       "      <td>10</td>\n",
       "      <td>0</td>\n",
       "      <td>2272</td>\n",
       "      <td>6794</td>\n",
       "      <td>1913</td>\n",
       "      <td>2</td>\n",
       "      <td>C4</td>\n",
       "      <td>2016-09-23 00:00:00</td>\n",
       "      <td>3936272</td>\n",
       "    </tr>\n",
       "    <tr>\n",
       "      <th>2</th>\n",
       "      <td>MANHATTAN</td>\n",
       "      <td>ALPHABET CITY</td>\n",
       "      <td>07 RENTALS - WALKUP APARTMENTS</td>\n",
       "      <td>2A</td>\n",
       "      <td>404</td>\n",
       "      <td>55</td>\n",
       "      <td>C2</td>\n",
       "      <td>301 EAST 10TH   STREET</td>\n",
       "      <td>10009</td>\n",
       "      <td>6</td>\n",
       "      <td>0</td>\n",
       "      <td>2369</td>\n",
       "      <td>4615</td>\n",
       "      <td>1900</td>\n",
       "      <td>2</td>\n",
       "      <td>C2</td>\n",
       "      <td>2016-11-17 00:00:00</td>\n",
       "      <td>8000000</td>\n",
       "    </tr>\n",
       "    <tr>\n",
       "      <th>3</th>\n",
       "      <td>MANHATTAN</td>\n",
       "      <td>ALPHABET CITY</td>\n",
       "      <td>07 RENTALS - WALKUP APARTMENTS</td>\n",
       "      <td>2B</td>\n",
       "      <td>406</td>\n",
       "      <td>32</td>\n",
       "      <td>C4</td>\n",
       "      <td>210 AVENUE B</td>\n",
       "      <td>10009</td>\n",
       "      <td>8</td>\n",
       "      <td>0</td>\n",
       "      <td>1750</td>\n",
       "      <td>4226</td>\n",
       "      <td>1920</td>\n",
       "      <td>2</td>\n",
       "      <td>C4</td>\n",
       "      <td>2016-09-23 00:00:00</td>\n",
       "      <td>3192840</td>\n",
       "    </tr>\n",
       "    <tr>\n",
       "      <th>4</th>\n",
       "      <td>MANHATTAN</td>\n",
       "      <td>ALPHABET CITY</td>\n",
       "      <td>08 RENTALS - ELEVATOR APARTMENTS</td>\n",
       "      <td>2</td>\n",
       "      <td>387</td>\n",
       "      <td>153</td>\n",
       "      <td>D9</td>\n",
       "      <td>629 EAST 5TH STREET</td>\n",
       "      <td>10009</td>\n",
       "      <td>24</td>\n",
       "      <td>0</td>\n",
       "      <td>4489</td>\n",
       "      <td>18523</td>\n",
       "      <td>1920</td>\n",
       "      <td>2</td>\n",
       "      <td>D9</td>\n",
       "      <td>2016-11-07 00:00:00</td>\n",
       "      <td>16232000</td>\n",
       "    </tr>\n",
       "  </tbody>\n",
       "</table>\n",
       "</div>"
      ],
      "text/plain": [
       "     BOROUGH   NEIGHBORHOOD                      BUILDING CLASS CATEGORY  \\\n",
       "0  MANHATTAN  ALPHABET CITY  07 RENTALS - WALKUP APARTMENTS                \n",
       "1  MANHATTAN  ALPHABET CITY  07 RENTALS - WALKUP APARTMENTS                \n",
       "2  MANHATTAN  ALPHABET CITY  07 RENTALS - WALKUP APARTMENTS                \n",
       "3  MANHATTAN  ALPHABET CITY  07 RENTALS - WALKUP APARTMENTS                \n",
       "4  MANHATTAN  ALPHABET CITY  08 RENTALS - ELEVATOR APARTMENTS              \n",
       "\n",
       "  TAX CLASS AT PRESENT  BLOCK  LOT BUILDING CLASS AT PRESENT  \\\n",
       "0                   2A    392    6                        C2   \n",
       "1                   2B    402   21                        C4   \n",
       "2                   2A    404   55                        C2   \n",
       "3                   2B    406   32                        C4   \n",
       "4                    2    387  153                        D9   \n",
       "\n",
       "                  ADDRESS  ZIP CODE  RESIDENTIAL UNITS  COMMERCIAL UNITS  \\\n",
       "0            153 AVENUE B     10009                  5                 0   \n",
       "1     154 EAST 7TH STREET     10009                 10                 0   \n",
       "2  301 EAST 10TH   STREET     10009                  6                 0   \n",
       "3            210 AVENUE B     10009                  8                 0   \n",
       "4     629 EAST 5TH STREET     10009                 24                 0   \n",
       "\n",
       "   LAND SQUARE FEET  GROSS SQUARE FEET  YEAR BUILT  TAX CLASS AT TIME OF SALE  \\\n",
       "0              1633               6440        1900                          2   \n",
       "1              2272               6794        1913                          2   \n",
       "2              2369               4615        1900                          2   \n",
       "3              1750               4226        1920                          2   \n",
       "4              4489              18523        1920                          2   \n",
       "\n",
       "  BUILDING CLASS AT TIME OF SALE            SALE DATE  SALE PRICE  \n",
       "0                             C2  2017-07-19 00:00:00     6625000  \n",
       "1                             C4  2016-09-23 00:00:00     3936272  \n",
       "2                             C2  2016-11-17 00:00:00     8000000  \n",
       "3                             C4  2016-09-23 00:00:00     3192840  \n",
       "4                             D9  2016-11-07 00:00:00    16232000  "
      ]
     },
     "execution_count": 50,
     "metadata": {},
     "output_type": "execute_result"
    }
   ],
   "source": [
    "import pandas as pd\n",
    "\n",
    "df = pd.read_csv('data/nyc_rolling_sales.csv')\n",
    "df.head()"
   ]
  },
  {
   "cell_type": "markdown",
   "metadata": {},
   "source": [
    "Nell'ottica di predire il prezzo di una unità immobiliare o di un edificio, alcune colonne risultano inutili o ridondanti. Per esempio:\n",
    "- l'informazione data da *BOROUGH* è contenuta (con maggiore dettaglio) anche in *NEIGHBORHOOD* e in *ZIP CODE*; quale colonna scegliamo?\n",
    "- lo stesso vale (vedi glossario qui sotto) per le colonne relative alla *BUILDING CLASS*\n",
    "- *ADDRESS* e la coppia *BLOCK*+*LOT* (vedi glossario) sono identificativi *univoci*, e non sono adatti ad essere usati come feature; perchè?\n",
    "- l'utilità di *SALE DATE* dipende dal contesto: come la possiamo usare?\n",
    "- ...\n",
    "\n",
    "Glossario: https://www1.nyc.gov/assets/finance/downloads/pdf/07pdf/glossary_rsf071607.pdf."
   ]
  },
  {
   "cell_type": "code",
   "execution_count": 51,
   "metadata": {},
   "outputs": [
    {
     "data": {
      "text/plain": [
       "Index(['BOROUGH', 'NEIGHBORHOOD', 'BUILDING CLASS CATEGORY',\n",
       "       'TAX CLASS AT PRESENT', 'BLOCK', 'LOT', 'BUILDING CLASS AT PRESENT',\n",
       "       'ADDRESS', 'ZIP CODE', 'RESIDENTIAL UNITS', 'COMMERCIAL UNITS',\n",
       "       'LAND SQUARE FEET', 'GROSS SQUARE FEET', 'YEAR BUILT',\n",
       "       'TAX CLASS AT TIME OF SALE', 'BUILDING CLASS AT TIME OF SALE',\n",
       "       'SALE DATE', 'SALE PRICE'],\n",
       "      dtype='object')"
      ]
     },
     "execution_count": 51,
     "metadata": {},
     "output_type": "execute_result"
    }
   ],
   "source": [
    "df.columns"
   ]
  },
  {
   "cell_type": "code",
   "execution_count": 52,
   "metadata": {},
   "outputs": [],
   "source": [
    "df = df.drop(columns=['NEIGHBORHOOD',\n",
    "                      'ZIP CODE',\n",
    "                      'BLOCK',\n",
    "                      'LOT',\n",
    "                      'ADDRESS',\n",
    "                      'BUILDING CLASS AT PRESENT',\n",
    "                      'BUILDING CLASS AT TIME OF SALE',\n",
    "                      'TAX CLASS AT PRESENT',\n",
    "                      'SALE DATE'])"
   ]
  },
  {
   "cell_type": "code",
   "execution_count": 53,
   "metadata": {},
   "outputs": [
    {
     "data": {
      "text/html": [
       "<div>\n",
       "<style scoped>\n",
       "    .dataframe tbody tr th:only-of-type {\n",
       "        vertical-align: middle;\n",
       "    }\n",
       "\n",
       "    .dataframe tbody tr th {\n",
       "        vertical-align: top;\n",
       "    }\n",
       "\n",
       "    .dataframe thead th {\n",
       "        text-align: right;\n",
       "    }\n",
       "</style>\n",
       "<table border=\"1\" class=\"dataframe\">\n",
       "  <thead>\n",
       "    <tr style=\"text-align: right;\">\n",
       "      <th></th>\n",
       "      <th>BOROUGH</th>\n",
       "      <th>BUILDING CLASS CATEGORY</th>\n",
       "      <th>RESIDENTIAL UNITS</th>\n",
       "      <th>COMMERCIAL UNITS</th>\n",
       "      <th>LAND SQUARE FEET</th>\n",
       "      <th>GROSS SQUARE FEET</th>\n",
       "      <th>YEAR BUILT</th>\n",
       "      <th>TAX CLASS AT TIME OF SALE</th>\n",
       "      <th>SALE PRICE</th>\n",
       "    </tr>\n",
       "  </thead>\n",
       "  <tbody>\n",
       "    <tr>\n",
       "      <th>0</th>\n",
       "      <td>MANHATTAN</td>\n",
       "      <td>07 RENTALS - WALKUP APARTMENTS</td>\n",
       "      <td>5</td>\n",
       "      <td>0</td>\n",
       "      <td>1633</td>\n",
       "      <td>6440</td>\n",
       "      <td>1900</td>\n",
       "      <td>2</td>\n",
       "      <td>6625000</td>\n",
       "    </tr>\n",
       "    <tr>\n",
       "      <th>1</th>\n",
       "      <td>MANHATTAN</td>\n",
       "      <td>07 RENTALS - WALKUP APARTMENTS</td>\n",
       "      <td>10</td>\n",
       "      <td>0</td>\n",
       "      <td>2272</td>\n",
       "      <td>6794</td>\n",
       "      <td>1913</td>\n",
       "      <td>2</td>\n",
       "      <td>3936272</td>\n",
       "    </tr>\n",
       "    <tr>\n",
       "      <th>2</th>\n",
       "      <td>MANHATTAN</td>\n",
       "      <td>07 RENTALS - WALKUP APARTMENTS</td>\n",
       "      <td>6</td>\n",
       "      <td>0</td>\n",
       "      <td>2369</td>\n",
       "      <td>4615</td>\n",
       "      <td>1900</td>\n",
       "      <td>2</td>\n",
       "      <td>8000000</td>\n",
       "    </tr>\n",
       "    <tr>\n",
       "      <th>3</th>\n",
       "      <td>MANHATTAN</td>\n",
       "      <td>07 RENTALS - WALKUP APARTMENTS</td>\n",
       "      <td>8</td>\n",
       "      <td>0</td>\n",
       "      <td>1750</td>\n",
       "      <td>4226</td>\n",
       "      <td>1920</td>\n",
       "      <td>2</td>\n",
       "      <td>3192840</td>\n",
       "    </tr>\n",
       "    <tr>\n",
       "      <th>4</th>\n",
       "      <td>MANHATTAN</td>\n",
       "      <td>08 RENTALS - ELEVATOR APARTMENTS</td>\n",
       "      <td>24</td>\n",
       "      <td>0</td>\n",
       "      <td>4489</td>\n",
       "      <td>18523</td>\n",
       "      <td>1920</td>\n",
       "      <td>2</td>\n",
       "      <td>16232000</td>\n",
       "    </tr>\n",
       "  </tbody>\n",
       "</table>\n",
       "</div>"
      ],
      "text/plain": [
       "     BOROUGH                      BUILDING CLASS CATEGORY  RESIDENTIAL UNITS  \\\n",
       "0  MANHATTAN  07 RENTALS - WALKUP APARTMENTS                               5   \n",
       "1  MANHATTAN  07 RENTALS - WALKUP APARTMENTS                              10   \n",
       "2  MANHATTAN  07 RENTALS - WALKUP APARTMENTS                               6   \n",
       "3  MANHATTAN  07 RENTALS - WALKUP APARTMENTS                               8   \n",
       "4  MANHATTAN  08 RENTALS - ELEVATOR APARTMENTS                            24   \n",
       "\n",
       "   COMMERCIAL UNITS  LAND SQUARE FEET  GROSS SQUARE FEET  YEAR BUILT  \\\n",
       "0                 0              1633               6440        1900   \n",
       "1                 0              2272               6794        1913   \n",
       "2                 0              2369               4615        1900   \n",
       "3                 0              1750               4226        1920   \n",
       "4                 0              4489              18523        1920   \n",
       "\n",
       "   TAX CLASS AT TIME OF SALE  SALE PRICE  \n",
       "0                          2     6625000  \n",
       "1                          2     3936272  \n",
       "2                          2     8000000  \n",
       "3                          2     3192840  \n",
       "4                          2    16232000  "
      ]
     },
     "execution_count": 53,
     "metadata": {},
     "output_type": "execute_result"
    }
   ],
   "source": [
    "df.head()"
   ]
  },
  {
   "cell_type": "code",
   "execution_count": 54,
   "metadata": {},
   "outputs": [
    {
     "data": {
      "text/plain": [
       "(29280, 9)"
      ]
     },
     "execution_count": 54,
     "metadata": {},
     "output_type": "execute_result"
    }
   ],
   "source": [
    "df.shape"
   ]
  },
  {
   "cell_type": "markdown",
   "metadata": {},
   "source": [
    "Passiamo alla codifica one-hot delle feature nominali."
   ]
  },
  {
   "cell_type": "code",
   "execution_count": 55,
   "metadata": {},
   "outputs": [
    {
     "data": {
      "text/html": [
       "<div>\n",
       "<style scoped>\n",
       "    .dataframe tbody tr th:only-of-type {\n",
       "        vertical-align: middle;\n",
       "    }\n",
       "\n",
       "    .dataframe tbody tr th {\n",
       "        vertical-align: top;\n",
       "    }\n",
       "\n",
       "    .dataframe thead th {\n",
       "        text-align: right;\n",
       "    }\n",
       "</style>\n",
       "<table border=\"1\" class=\"dataframe\">\n",
       "  <thead>\n",
       "    <tr style=\"text-align: right;\">\n",
       "      <th></th>\n",
       "      <th>RESIDENTIAL UNITS</th>\n",
       "      <th>COMMERCIAL UNITS</th>\n",
       "      <th>LAND SQUARE FEET</th>\n",
       "      <th>GROSS SQUARE FEET</th>\n",
       "      <th>YEAR BUILT</th>\n",
       "      <th>SALE PRICE</th>\n",
       "      <th>BOR_BRONX</th>\n",
       "      <th>BOR_BROOKLYN</th>\n",
       "      <th>BOR_MANHATTAN</th>\n",
       "      <th>BOR_QUEENS</th>\n",
       "      <th>...</th>\n",
       "      <th>BC_34 THEATRES</th>\n",
       "      <th>BC_35 INDOOR PUBLIC AND CULTURAL FACILITIES</th>\n",
       "      <th>BC_36 OUTDOOR RECREATIONAL FACILITIES</th>\n",
       "      <th>BC_37 RELIGIOUS FACILITIES</th>\n",
       "      <th>BC_38 ASYLUMS AND HOMES</th>\n",
       "      <th>BC_40 SELECTED GOVERNMENTAL FACILITIES</th>\n",
       "      <th>BC_41 TAX CLASS 4 - OTHER</th>\n",
       "      <th>TC_1</th>\n",
       "      <th>TC_2</th>\n",
       "      <th>TC_4</th>\n",
       "    </tr>\n",
       "  </thead>\n",
       "  <tbody>\n",
       "    <tr>\n",
       "      <th>0</th>\n",
       "      <td>5</td>\n",
       "      <td>0</td>\n",
       "      <td>1633</td>\n",
       "      <td>6440</td>\n",
       "      <td>1900</td>\n",
       "      <td>6625000</td>\n",
       "      <td>0</td>\n",
       "      <td>0</td>\n",
       "      <td>1</td>\n",
       "      <td>0</td>\n",
       "      <td>...</td>\n",
       "      <td>0</td>\n",
       "      <td>0</td>\n",
       "      <td>0</td>\n",
       "      <td>0</td>\n",
       "      <td>0</td>\n",
       "      <td>0</td>\n",
       "      <td>0</td>\n",
       "      <td>0</td>\n",
       "      <td>1</td>\n",
       "      <td>0</td>\n",
       "    </tr>\n",
       "    <tr>\n",
       "      <th>1</th>\n",
       "      <td>10</td>\n",
       "      <td>0</td>\n",
       "      <td>2272</td>\n",
       "      <td>6794</td>\n",
       "      <td>1913</td>\n",
       "      <td>3936272</td>\n",
       "      <td>0</td>\n",
       "      <td>0</td>\n",
       "      <td>1</td>\n",
       "      <td>0</td>\n",
       "      <td>...</td>\n",
       "      <td>0</td>\n",
       "      <td>0</td>\n",
       "      <td>0</td>\n",
       "      <td>0</td>\n",
       "      <td>0</td>\n",
       "      <td>0</td>\n",
       "      <td>0</td>\n",
       "      <td>0</td>\n",
       "      <td>1</td>\n",
       "      <td>0</td>\n",
       "    </tr>\n",
       "    <tr>\n",
       "      <th>2</th>\n",
       "      <td>6</td>\n",
       "      <td>0</td>\n",
       "      <td>2369</td>\n",
       "      <td>4615</td>\n",
       "      <td>1900</td>\n",
       "      <td>8000000</td>\n",
       "      <td>0</td>\n",
       "      <td>0</td>\n",
       "      <td>1</td>\n",
       "      <td>0</td>\n",
       "      <td>...</td>\n",
       "      <td>0</td>\n",
       "      <td>0</td>\n",
       "      <td>0</td>\n",
       "      <td>0</td>\n",
       "      <td>0</td>\n",
       "      <td>0</td>\n",
       "      <td>0</td>\n",
       "      <td>0</td>\n",
       "      <td>1</td>\n",
       "      <td>0</td>\n",
       "    </tr>\n",
       "    <tr>\n",
       "      <th>3</th>\n",
       "      <td>8</td>\n",
       "      <td>0</td>\n",
       "      <td>1750</td>\n",
       "      <td>4226</td>\n",
       "      <td>1920</td>\n",
       "      <td>3192840</td>\n",
       "      <td>0</td>\n",
       "      <td>0</td>\n",
       "      <td>1</td>\n",
       "      <td>0</td>\n",
       "      <td>...</td>\n",
       "      <td>0</td>\n",
       "      <td>0</td>\n",
       "      <td>0</td>\n",
       "      <td>0</td>\n",
       "      <td>0</td>\n",
       "      <td>0</td>\n",
       "      <td>0</td>\n",
       "      <td>0</td>\n",
       "      <td>1</td>\n",
       "      <td>0</td>\n",
       "    </tr>\n",
       "    <tr>\n",
       "      <th>4</th>\n",
       "      <td>24</td>\n",
       "      <td>0</td>\n",
       "      <td>4489</td>\n",
       "      <td>18523</td>\n",
       "      <td>1920</td>\n",
       "      <td>16232000</td>\n",
       "      <td>0</td>\n",
       "      <td>0</td>\n",
       "      <td>1</td>\n",
       "      <td>0</td>\n",
       "      <td>...</td>\n",
       "      <td>0</td>\n",
       "      <td>0</td>\n",
       "      <td>0</td>\n",
       "      <td>0</td>\n",
       "      <td>0</td>\n",
       "      <td>0</td>\n",
       "      <td>0</td>\n",
       "      <td>0</td>\n",
       "      <td>1</td>\n",
       "      <td>0</td>\n",
       "    </tr>\n",
       "  </tbody>\n",
       "</table>\n",
       "<p>5 rows × 43 columns</p>\n",
       "</div>"
      ],
      "text/plain": [
       "   RESIDENTIAL UNITS  COMMERCIAL UNITS  LAND SQUARE FEET  GROSS SQUARE FEET  \\\n",
       "0                  5                 0              1633               6440   \n",
       "1                 10                 0              2272               6794   \n",
       "2                  6                 0              2369               4615   \n",
       "3                  8                 0              1750               4226   \n",
       "4                 24                 0              4489              18523   \n",
       "\n",
       "   YEAR BUILT  SALE PRICE  BOR_BRONX  BOR_BROOKLYN  BOR_MANHATTAN  BOR_QUEENS  \\\n",
       "0        1900     6625000          0             0              1           0   \n",
       "1        1913     3936272          0             0              1           0   \n",
       "2        1900     8000000          0             0              1           0   \n",
       "3        1920     3192840          0             0              1           0   \n",
       "4        1920    16232000          0             0              1           0   \n",
       "\n",
       "   ...  BC_34 THEATRES                                  \\\n",
       "0  ...                                               0   \n",
       "1  ...                                               0   \n",
       "2  ...                                               0   \n",
       "3  ...                                               0   \n",
       "4  ...                                               0   \n",
       "\n",
       "   BC_35 INDOOR PUBLIC AND CULTURAL FACILITIES     \\\n",
       "0                                               0   \n",
       "1                                               0   \n",
       "2                                               0   \n",
       "3                                               0   \n",
       "4                                               0   \n",
       "\n",
       "   BC_36 OUTDOOR RECREATIONAL FACILITIES           \\\n",
       "0                                               0   \n",
       "1                                               0   \n",
       "2                                               0   \n",
       "3                                               0   \n",
       "4                                               0   \n",
       "\n",
       "   BC_37 RELIGIOUS FACILITIES                      \\\n",
       "0                                               0   \n",
       "1                                               0   \n",
       "2                                               0   \n",
       "3                                               0   \n",
       "4                                               0   \n",
       "\n",
       "   BC_38 ASYLUMS AND HOMES                         \\\n",
       "0                                               0   \n",
       "1                                               0   \n",
       "2                                               0   \n",
       "3                                               0   \n",
       "4                                               0   \n",
       "\n",
       "   BC_40 SELECTED GOVERNMENTAL FACILITIES          \\\n",
       "0                                               0   \n",
       "1                                               0   \n",
       "2                                               0   \n",
       "3                                               0   \n",
       "4                                               0   \n",
       "\n",
       "   BC_41 TAX CLASS 4 - OTHER                       TC_1  TC_2  TC_4  \n",
       "0                                               0     0     1     0  \n",
       "1                                               0     0     1     0  \n",
       "2                                               0     0     1     0  \n",
       "3                                               0     0     1     0  \n",
       "4                                               0     0     1     0  \n",
       "\n",
       "[5 rows x 43 columns]"
      ]
     },
     "execution_count": 55,
     "metadata": {},
     "output_type": "execute_result"
    }
   ],
   "source": [
    "df = pd.get_dummies(df,\n",
    "                    prefix=['BOR',\n",
    "                            'BC',\n",
    "                            'TC'],#nuovi prefissi comuni\n",
    "                    columns=['BOROUGH',\n",
    "                             'BUILDING CLASS CATEGORY',\n",
    "                             'TAX CLASS AT TIME OF SALE'])#lista colonne da codificare\n",
    "\n",
    "df.head()"
   ]
  },
  {
   "cell_type": "code",
   "execution_count": 56,
   "metadata": {},
   "outputs": [
    {
     "data": {
      "text/plain": [
       "(29280, 43)"
      ]
     },
     "execution_count": 56,
     "metadata": {},
     "output_type": "execute_result"
    }
   ],
   "source": [
    "df.shape"
   ]
  },
  {
   "cell_type": "markdown",
   "metadata": {},
   "source": [
    "Siamo pronti per fare machine learning. Separiamo $X$ e $y$."
   ]
  },
  {
   "cell_type": "code",
   "execution_count": 57,
   "metadata": {},
   "outputs": [],
   "source": [
    "y = df['SALE PRICE']\n",
    "X = df.drop(columns=['SALE PRICE'])"
   ]
  },
  {
   "cell_type": "code",
   "execution_count": 58,
   "metadata": {},
   "outputs": [
    {
     "data": {
      "text/plain": [
       "((29280, 42), (29280,))"
      ]
     },
     "execution_count": 58,
     "metadata": {},
     "output_type": "execute_result"
    }
   ],
   "source": [
    "X.shape, y.shape"
   ]
  },
  {
   "cell_type": "markdown",
   "metadata": {},
   "source": [
    "Per trasformare un DataFrame in un array NumPy possiamo usare il costrutto\n",
    "\n",
    "        df.values"
   ]
  },
  {
   "cell_type": "code",
   "execution_count": 59,
   "metadata": {},
   "outputs": [
    {
     "data": {
      "text/plain": [
       "array([[     5,      0,   1633, ...,      0,      1,      0],\n",
       "       [    10,      0,   2272, ...,      0,      1,      0],\n",
       "       [     6,      0,   2369, ...,      0,      1,      0],\n",
       "       ...,\n",
       "       [     2,      0,   4000, ...,      1,      0,      0],\n",
       "       [     0,      7, 208033, ...,      0,      0,      1],\n",
       "       [     0,      1,  10796, ...,      0,      0,      1]])"
      ]
     },
     "execution_count": 59,
     "metadata": {},
     "output_type": "execute_result"
    }
   ],
   "source": [
    "X_np = X.values\n",
    "\n",
    "X_np"
   ]
  },
  {
   "cell_type": "markdown",
   "metadata": {},
   "source": [
    "<script>\n",
    "  $(document).ready(function(){\n",
    "    $('div.back-to-top').hide();\n",
    "    $('nav#menubar').hide();\n",
    "    $('div.prompt').hide();\n",
    "    $('.hidden-print').hide();\n",
    "  });\n",
    "</script>\n",
    "\n",
    "<footer id=\"attribution\" style=\"float:right; color:#999; background:#fff;\">\n",
    "Created with Jupyter, delivered by Fastly, rendered by Rackspace.\n",
    "</footer>"
   ]
  }
 ],
 "metadata": {
  "kernelspec": {
   "display_name": "Python 3",
   "language": "python",
   "name": "python3"
  },
  "language_info": {
   "codemirror_mode": {
    "name": "ipython",
    "version": 3
   },
   "file_extension": ".py",
   "mimetype": "text/x-python",
   "name": "python",
   "nbconvert_exporter": "python",
   "pygments_lexer": "ipython3",
   "version": "3.8.3"
  }
 },
 "nbformat": 4,
 "nbformat_minor": 2
}
