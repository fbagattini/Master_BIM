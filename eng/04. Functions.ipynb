{
 "cells": [
  {
   "cell_type": "markdown",
   "metadata": {},
   "source": [
    "*Contents*\n",
    "===\n",
    "- [Functions](#Functions)\n",
    "    - [Syntax](#Syntax)\n",
    "    - [Stack trace](#Stack-trace)\n",
    "    - [Return value](#Return-value)"
   ]
  },
  {
   "cell_type": "markdown",
   "metadata": {},
   "source": [
    "Functions\n",
    "===\n",
    "Often, when writing code, a given sequence of actions is repeated many times with only slight modifications.\n",
    "\n",
    "A *function* is a sequence of actions we give a name to and which can be invoked when needed. We have already seen some functions: generic like print or type, type-specific like upper, lower, replace and format."
   ]
  },
  {
   "cell_type": "markdown",
   "metadata": {},
   "source": [
    "Syntax\n",
    "---"
   ]
  },
  {
   "cell_type": "code",
   "execution_count": null,
   "metadata": {},
   "outputs": [],
   "source": [
    "def function_name(argument_1, argument_2):\n",
    "    #do something using argument_1 and argument_2\n",
    "    #possibly return a value\n",
    "    \n",
    "function_name(a, b)#function call"
   ]
  },
  {
   "cell_type": "markdown",
   "metadata": {},
   "source": [
    "The code in the cell above is a general example of function declaration.\n",
    "\n",
    "- **def** is a Python keyword\n",
    "- *function_name* is the name of the function, to be used at calling time\n",
    "- *argument_1* and *argument_2* are the function arguments; they are ordered and can be as many as needed."
   ]
  },
  {
   "cell_type": "markdown",
   "metadata": {},
   "source": [
    "Stack trace\n",
    "---\n",
    "\n",
    "Functions can call each other: all complex software works this way. The order in which calls are made is saved into the [*stack trace*](https://en.wikipedia.org/wiki/Stack_trace)."
   ]
  },
  {
   "cell_type": "code",
   "execution_count": 5,
   "metadata": {},
   "outputs": [
    {
     "name": "stdout",
     "output_type": "stream",
     "text": [
      "fun_1: I am about to call fun_2\n",
      "fun_2: ciao!\n"
     ]
    }
   ],
   "source": [
    "def fun_1(arg):\n",
    "    print('fun_1: I am about to call fun_2')\n",
    "    fun_2(arg)\n",
    "\n",
    "def fun_2(arg):\n",
    "    print('fun_2:', arg)\n",
    "\n",
    "fun_1('ciao!')"
   ]
  },
  {
   "cell_type": "markdown",
   "metadata": {},
   "source": [
    "Return value\n",
    "---\n",
    "Besides executing actions (like printing stuff), a function can *return* one or more values."
   ]
  },
  {
   "cell_type": "code",
   "execution_count": 2,
   "metadata": {},
   "outputs": [],
   "source": [
    "def product(a, b):\n",
    "    print('Executing and returning the result of {} multiplied by {}.'.format(a, b))\n",
    "    c = a*b\n",
    "    return c#return value"
   ]
  },
  {
   "cell_type": "markdown",
   "metadata": {},
   "source": [
    "As with variables, a function declared into a cell can be called from any other cell of the notebook."
   ]
  },
  {
   "cell_type": "code",
   "execution_count": 3,
   "metadata": {},
   "outputs": [
    {
     "name": "stdout",
     "output_type": "stream",
     "text": [
      "Executing and returning the result of 10 multiplied by 5.\n"
     ]
    },
    {
     "data": {
      "text/plain": [
       "50"
      ]
     },
     "execution_count": 3,
     "metadata": {},
     "output_type": "execute_result"
    }
   ],
   "source": [
    "product(10, 5)"
   ]
  },
  {
   "cell_type": "markdown",
   "metadata": {},
   "source": [
    "Note the double output: one print is executed within the function's body, while the other is the returned value.\n",
    "\n",
    "The latter can be assigned to a variable."
   ]
  },
  {
   "cell_type": "code",
   "execution_count": 4,
   "metadata": {},
   "outputs": [
    {
     "name": "stdout",
     "output_type": "stream",
     "text": [
      "Executing and returning the result of 20 multiplied by 50.\n"
     ]
    },
    {
     "data": {
      "text/plain": [
       "1000"
      ]
     },
     "execution_count": 4,
     "metadata": {},
     "output_type": "execute_result"
    }
   ],
   "source": [
    "res = product(20, 50)\n",
    "\n",
    "res"
   ]
  },
  {
   "cell_type": "markdown",
   "metadata": {},
   "source": [
    "<script>\n",
    "  $(document).ready(function(){\n",
    "    $('div.back-to-top').hide();\n",
    "    $('nav#menubar').hide();\n",
    "    $('div.prompt').hide();\n",
    "    $('.hidden-print').hide();\n",
    "  });\n",
    "</script>\n",
    "\n",
    "<footer id=\"attribution\" style=\"float:right; color:#999; background:#fff;\">\n",
    "Created with Jupyter, delivered by Fastly, rendered by Rackspace.\n",
    "</footer>"
   ]
  }
 ],
 "metadata": {
  "kernelspec": {
   "display_name": "Python 3",
   "language": "python",
   "name": "python3"
  },
  "language_info": {
   "codemirror_mode": {
    "name": "ipython",
    "version": 3
   },
   "file_extension": ".py",
   "mimetype": "text/x-python",
   "name": "python",
   "nbconvert_exporter": "python",
   "pygments_lexer": "ipython3",
   "version": "3.8.5"
  }
 },
 "nbformat": 4,
 "nbformat_minor": 2
}
