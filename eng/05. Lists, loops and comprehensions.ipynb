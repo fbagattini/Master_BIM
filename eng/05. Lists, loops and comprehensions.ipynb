{
 "cells": [
  {
   "cell_type": "markdown",
   "metadata": {},
   "source": [
    "*Contents*\n",
    "===\n",
    "- [Lists](#Lists)\n",
    "    - [Size and indexing](#Size-and-indexing)\n",
    "    - [Empty lists and basic operations](#Empty-lists-and-basic-operations)\n",
    "    - [Extracting](#Extracting)\n",
    "        - [*Exercise 1*](#Exercise-1)\n",
    "    - [Searching](#Searching)\n",
    "    - [Sorting](#Sorting)\n",
    "    - [Aggregated operations](#Aggregated-operations)\n",
    "        - [*Exercise 2*](#Exercise-2)\n",
    "    - [Mixed lists](#Mixed-lists)\n",
    "    - [*Slicing*](#Slicing)\n",
    "    - [*Exercise 3*](#Exercise-3)\n",
    "- [*for* loops](#for-loops)\n",
    "    - [Enumerating](#Enumerating)\n",
    "    - [*Exercise 4*](#Exercise-4)\n",
    "    - [List comprehensions](#List-comprehensions)\n",
    "    - [*Exercise 5*](#Exercise-5)\n",
    "    - [*Exercise 6*](#Exercise-6)"
   ]
  },
  {
   "cell_type": "markdown",
   "metadata": {},
   "source": [
    "Lists\n",
    "===\n",
    "A *list* is an ordered collection of objects, stored into a variable."
   ]
  },
  {
   "cell_type": "code",
   "execution_count": 35,
   "metadata": {},
   "outputs": [
    {
     "name": "stdout",
     "output_type": "stream",
     "text": [
      "<class 'list'>\n",
      "['triangle', 'square', 'pentagon']\n"
     ]
    }
   ],
   "source": [
    "shapes = ['triangle', 'square', 'pentagon']\n",
    "print(type(shapes))\n",
    "print(shapes)"
   ]
  },
  {
   "cell_type": "markdown",
   "metadata": {},
   "source": [
    "Size and indexing\n",
    "---\n",
    "The *len* function returns the size of a list."
   ]
  },
  {
   "cell_type": "code",
   "execution_count": 36,
   "metadata": {},
   "outputs": [
    {
     "data": {
      "text/plain": [
       "3"
      ]
     },
     "execution_count": 36,
     "metadata": {},
     "output_type": "execute_result"
    }
   ],
   "source": [
    "len(shapes)"
   ]
  },
  {
   "cell_type": "markdown",
   "metadata": {},
   "source": [
    "The elements inside a list can be accessed through a numerical *index*: the first position has index \"0\", the last \"len-1\"."
   ]
  },
  {
   "cell_type": "code",
   "execution_count": 37,
   "metadata": {},
   "outputs": [
    {
     "name": "stdout",
     "output_type": "stream",
     "text": [
      "triangle\n",
      "square\n",
      "pentagon\n"
     ]
    }
   ],
   "source": [
    "print(shapes[0])\n",
    "print(shapes[1])\n",
    "print(shapes[len(shapes)-1])"
   ]
  },
  {
   "cell_type": "markdown",
   "metadata": {},
   "source": [
    "Negative integers can be used to easily index the last elements."
   ]
  },
  {
   "cell_type": "code",
   "execution_count": 38,
   "metadata": {},
   "outputs": [
    {
     "name": "stdout",
     "output_type": "stream",
     "text": [
      "pentagon\n",
      "square\n"
     ]
    }
   ],
   "source": [
    "print(shapes[-1])#last\n",
    "print(shapes[-2])#second to last"
   ]
  },
  {
   "cell_type": "markdown",
   "metadata": {},
   "source": [
    "Empty lists and basic operations\n",
    "---\n",
    "Let's create an empty list and add some element to it."
   ]
  },
  {
   "cell_type": "code",
   "execution_count": 3,
   "metadata": {},
   "outputs": [
    {
     "data": {
      "text/plain": [
       "[]"
      ]
     },
     "execution_count": 3,
     "metadata": {},
     "output_type": "execute_result"
    }
   ],
   "source": [
    "shapes = []#empty list\n",
    "\n",
    "shapes"
   ]
  },
  {
   "cell_type": "markdown",
   "metadata": {},
   "source": [
    "When dealing with lists, Python interprets the + operator as a list concatenation."
   ]
  },
  {
   "cell_type": "code",
   "execution_count": 4,
   "metadata": {},
   "outputs": [
    {
     "data": {
      "text/plain": [
       "['triangle', 'square']"
      ]
     },
     "execution_count": 4,
     "metadata": {},
     "output_type": "execute_result"
    }
   ],
   "source": [
    "shapes = shapes + ['triangle', 'square']\n",
    "\n",
    "shapes"
   ]
  },
  {
   "cell_type": "code",
   "execution_count": 5,
   "metadata": {},
   "outputs": [
    {
     "data": {
      "text/plain": [
       "['triangle', 'square', 'pentagon']"
      ]
     },
     "execution_count": 5,
     "metadata": {},
     "output_type": "execute_result"
    }
   ],
   "source": [
    "shapes = shapes + ['pentagon']\n",
    "\n",
    "shapes"
   ]
  },
  {
   "cell_type": "markdown",
   "metadata": {},
   "source": [
    "**Remark**: adding a single element to a list is a special case of concatenation. Therefore, we again need square brackets: indeed, we are concatenating a list to another one containing just one element."
   ]
  },
  {
   "cell_type": "markdown",
   "metadata": {},
   "source": [
    "Concatenation (more broadly, the + operation) can be executed compactly."
   ]
  },
  {
   "cell_type": "code",
   "execution_count": 2,
   "metadata": {},
   "outputs": [
    {
     "data": {
      "text/plain": [
       "5"
      ]
     },
     "execution_count": 2,
     "metadata": {},
     "output_type": "execute_result"
    }
   ],
   "source": [
    "a = 0\n",
    "a += 5#compact syntax for 'a = a + 5'\n",
    "\n",
    "a"
   ]
  },
  {
   "cell_type": "code",
   "execution_count": 5,
   "metadata": {},
   "outputs": [
    {
     "data": {
      "text/plain": [
       "'ciao mamma!'"
      ]
     },
     "execution_count": 5,
     "metadata": {},
     "output_type": "execute_result"
    }
   ],
   "source": [
    "b = 'ciao'\n",
    "b += ' mamma!'#compact string concatenation\n",
    "\n",
    "b"
   ]
  },
  {
   "cell_type": "code",
   "execution_count": 6,
   "metadata": {},
   "outputs": [
    {
     "data": {
      "text/plain": [
       "['triangle', 'square', 'pentagon', 'hexagon']"
      ]
     },
     "execution_count": 6,
     "metadata": {},
     "output_type": "execute_result"
    }
   ],
   "source": [
    "shapes += ['hexagon']#compact list concatenation\n",
    "\n",
    "shapes"
   ]
  },
  {
   "cell_type": "markdown",
   "metadata": {},
   "source": [
    "A new element can be added at a specific position: all the subsequent one will be shifted to the right, and the size of the list will increase by 1."
   ]
  },
  {
   "cell_type": "code",
   "execution_count": 7,
   "metadata": {},
   "outputs": [
    {
     "data": {
      "text/plain": [
       "['triangle', 'square', 'rectangle', 'pentagon', 'hexagon']"
      ]
     },
     "execution_count": 7,
     "metadata": {},
     "output_type": "execute_result"
    }
   ],
   "source": [
    "shapes.insert(2, 'rectangle')#insert at position 2\n",
    "\n",
    "shapes"
   ]
  },
  {
   "cell_type": "markdown",
   "metadata": {},
   "source": [
    "The elements of a list can be changed at any time."
   ]
  },
  {
   "cell_type": "code",
   "execution_count": 8,
   "metadata": {},
   "outputs": [
    {
     "data": {
      "text/plain": [
       "['circle', 'square', 'rectangle', 'pentagon', 'hexagon']"
      ]
     },
     "execution_count": 8,
     "metadata": {},
     "output_type": "execute_result"
    }
   ],
   "source": [
    "shapes[0] = 'circle'#modification\n",
    "\n",
    "shapes"
   ]
  },
  {
   "cell_type": "markdown",
   "metadata": {},
   "source": [
    "To remove an element from a list we can use the function of the same name. "
   ]
  },
  {
   "cell_type": "code",
   "execution_count": 9,
   "metadata": {},
   "outputs": [
    {
     "data": {
      "text/plain": [
       "['circle', 'square', 'rectangle', 'pentagon']"
      ]
     },
     "execution_count": 9,
     "metadata": {},
     "output_type": "execute_result"
    }
   ],
   "source": [
    "shapes.remove('hexagon')#removal\n",
    "\n",
    "shapes"
   ]
  },
  {
   "cell_type": "markdown",
   "metadata": {},
   "source": [
    "Extracting\n",
    "---\n",
    "The *pop* function extracts an element from a list (by default, the last one), and returns it."
   ]
  },
  {
   "cell_type": "code",
   "execution_count": 10,
   "metadata": {},
   "outputs": [
    {
     "name": "stdout",
     "output_type": "stream",
     "text": [
      "['circle', 'square', 'rectangle']\n",
      "Last element: pentagon\n"
     ]
    }
   ],
   "source": [
    "last_element = shapes.pop()\n",
    "print(shapes)\n",
    "print('Last element:', last_element)"
   ]
  },
  {
   "cell_type": "markdown",
   "metadata": {},
   "source": [
    "### *Exercise 1* \n",
    "\n",
    "Take some minute to think about the difference between the functions we have seen so far (upper, lower, replace) and those such as insert, remove or pop."
   ]
  },
  {
   "cell_type": "markdown",
   "metadata": {},
   "source": [
    "Searching\n",
    "---\n",
    "We can check whether an object is contained in a list."
   ]
  },
  {
   "cell_type": "code",
   "execution_count": 10,
   "metadata": {},
   "outputs": [
    {
     "data": {
      "text/plain": [
       "True"
      ]
     },
     "execution_count": 10,
     "metadata": {},
     "output_type": "execute_result"
    }
   ],
   "source": [
    "'square' in shapes"
   ]
  },
  {
   "cell_type": "code",
   "execution_count": 11,
   "metadata": {},
   "outputs": [
    {
     "data": {
      "text/plain": [
       "False"
      ]
     },
     "execution_count": 11,
     "metadata": {},
     "output_type": "execute_result"
    }
   ],
   "source": [
    "'triangle' in shapes"
   ]
  },
  {
   "cell_type": "markdown",
   "metadata": {},
   "source": [
    "Sorting\n",
    "---\n",
    "A list can be sorted through the *sorted* function. Here too, Python is dynamically interpreting a basic operation (which one?) based on the type of the variables contained in the list.\n",
    "\n",
    "Strings will be sorted alphabetically."
   ]
  },
  {
   "cell_type": "code",
   "execution_count": 1,
   "metadata": {},
   "outputs": [
    {
     "data": {
      "text/plain": [
       "['circle', 'hexagon', 'square', 'triangle']"
      ]
     },
     "execution_count": 1,
     "metadata": {},
     "output_type": "execute_result"
    }
   ],
   "source": [
    "shapes = ['triangle', 'square', 'circle', 'hexagon']\n",
    "\n",
    "sorted(shapes)"
   ]
  },
  {
   "cell_type": "markdown",
   "metadata": {},
   "source": [
    "The sorted function creates (and returns) a *new* list: altering its elements won't affect the original one."
   ]
  },
  {
   "cell_type": "code",
   "execution_count": 2,
   "metadata": {},
   "outputs": [
    {
     "name": "stdout",
     "output_type": "stream",
     "text": [
      "sorted list: ['circle', 'hexagon', 'square', 'triangle']\n"
     ]
    }
   ],
   "source": [
    "sorted_shapes = sorted(shapes)#assigning the result to a variable\n",
    "print('sorted list:', sorted_shapes)"
   ]
  },
  {
   "cell_type": "code",
   "execution_count": 3,
   "metadata": {},
   "outputs": [
    {
     "name": "stdout",
     "output_type": "stream",
     "text": [
      "modified sorted list: ['rhombus', 'hexagon', 'square', 'triangle']\n"
     ]
    }
   ],
   "source": [
    "sorted_shapes[0] = 'rhombus'#modifying an element of the new list\n",
    "print('modified sorted list:', sorted_shapes)"
   ]
  },
  {
   "cell_type": "code",
   "execution_count": 4,
   "metadata": {},
   "outputs": [
    {
     "name": "stdout",
     "output_type": "stream",
     "text": [
      "original list: ['triangle', 'square', 'circle', 'hexagon']\n"
     ]
    }
   ],
   "source": [
    "print('original list:', shapes)"
   ]
  },
  {
   "cell_type": "markdown",
   "metadata": {},
   "source": [
    "The same applies to numerical lists. By convention, numbers are sorted in increasing order."
   ]
  },
  {
   "cell_type": "code",
   "execution_count": 18,
   "metadata": {},
   "outputs": [
    {
     "data": {
      "text/plain": [
       "[1, 3, 5, 6, 7, 8]"
      ]
     },
     "execution_count": 18,
     "metadata": {},
     "output_type": "execute_result"
    }
   ],
   "source": [
    "numbers = [3,6,1,7,8,5]\n",
    "\n",
    "sorted(numbers)"
   ]
  },
  {
   "cell_type": "markdown",
   "metadata": {},
   "source": [
    "The elements of a list can be sorted in reverse order using the *reverse* argument of the sorted function. It is an example of *optional argument*: if we don't give it a value (using '='), the function applies the default value (in this case, *False*).\n",
    "\n",
    "We will get back to True and False soon."
   ]
  },
  {
   "cell_type": "code",
   "execution_count": 25,
   "metadata": {},
   "outputs": [
    {
     "data": {
      "text/plain": [
       "[8, 7, 6, 5, 3, 1]"
      ]
     },
     "execution_count": 25,
     "metadata": {},
     "output_type": "execute_result"
    }
   ],
   "source": [
    "numbers = [3,6,1,7,8,5]\n",
    "\n",
    "sorted(numbers, reverse=True)#optional argument"
   ]
  },
  {
   "cell_type": "markdown",
   "metadata": {},
   "source": [
    "Aggregated operations\n",
    "---\n",
    "We can perform operations involving all of the object inside a list. With numerical lists, for example, we can compute the sum of the elements or the minimum and maximum value."
   ]
  },
  {
   "cell_type": "code",
   "execution_count": 1,
   "metadata": {},
   "outputs": [
    {
     "name": "stdout",
     "output_type": "stream",
     "text": [
      "lowest grade: 22\n",
      "highest grade: 30\n"
     ]
    }
   ],
   "source": [
    "grades = [28, 25, 22, 30, 30, 28, 26]\n",
    "print('lowest grade:', min(grades))\n",
    "print('highest grade:', max(grades))"
   ]
  },
  {
   "cell_type": "markdown",
   "metadata": {},
   "source": [
    "### *Exercise 2* \n",
    "\n",
    "Print the average grade using the format of the previous cell, (also) using the *sum* function."
   ]
  },
  {
   "cell_type": "code",
   "execution_count": 2,
   "metadata": {},
   "outputs": [
    {
     "data": {
      "text/plain": [
       "15"
      ]
     },
     "execution_count": 2,
     "metadata": {},
     "output_type": "execute_result"
    }
   ],
   "source": [
    "#FILL ME\n",
    "sum([10, 5])"
   ]
  },
  {
   "cell_type": "markdown",
   "metadata": {},
   "source": [
    "Mixed lists\n",
    "---\n",
    "In Python, a list can contain everything..."
   ]
  },
  {
   "cell_type": "code",
   "execution_count": 27,
   "metadata": {},
   "outputs": [
    {
     "data": {
      "text/plain": [
       "['apples', 'oranges', 32, 17]"
      ]
     },
     "execution_count": 27,
     "metadata": {},
     "output_type": "execute_result"
    }
   ],
   "source": [
    "stuff = []\n",
    "stuff += ['apples']\n",
    "stuff += ['oranges']\n",
    "stuff += [32]\n",
    "stuff += [17]\n",
    "\n",
    "stuff"
   ]
  },
  {
   "cell_type": "markdown",
   "metadata": {},
   "source": [
    "...even another list."
   ]
  },
  {
   "cell_type": "code",
   "execution_count": 28,
   "metadata": {},
   "outputs": [
    {
     "data": {
      "text/plain": [
       "['apples', 'oranges', 32, 17, [1, 2, 3, 4]]"
      ]
     },
     "execution_count": 28,
     "metadata": {},
     "output_type": "execute_result"
    }
   ],
   "source": [
    "another_list = [1,2,3,4]\n",
    "stuff += [another_list]\n",
    "\n",
    "stuff"
   ]
  },
  {
   "cell_type": "markdown",
   "metadata": {},
   "source": [
    "Attention here; the code above is different from:"
   ]
  },
  {
   "cell_type": "code",
   "execution_count": 29,
   "metadata": {},
   "outputs": [
    {
     "data": {
      "text/plain": [
       "['apples', 'oranges', 32, 17, 1, 2, 3, 4]"
      ]
     },
     "execution_count": 29,
     "metadata": {},
     "output_type": "execute_result"
    }
   ],
   "source": [
    "stuff = ['apples', 'oranges', 32, 17]\n",
    "\n",
    "another_list = [1,2,3,4]\n",
    "stuff += another_list\n",
    "\n",
    "stuff"
   ]
  },
  {
   "cell_type": "markdown",
   "metadata": {},
   "source": [
    "As we have mentioned earlier, to sort a list we need Python to dynamically interpret the '<' operator, which is not defined among all of the pairs of variable types."
   ]
  },
  {
   "cell_type": "code",
   "execution_count": 43,
   "metadata": {},
   "outputs": [
    {
     "ename": "TypeError",
     "evalue": "'<' not supported between instances of 'int' and 'str'",
     "output_type": "error",
     "traceback": [
      "\u001b[0;31m---------------------------------------------------------------------------\u001b[0m",
      "\u001b[0;31mTypeError\u001b[0m                                 Traceback (most recent call last)",
      "\u001b[0;32m<ipython-input-43-63b76547365d>\u001b[0m in \u001b[0;36m<module>\u001b[0;34m\u001b[0m\n\u001b[0;32m----> 1\u001b[0;31m \u001b[0mprint\u001b[0m\u001b[0;34m(\u001b[0m\u001b[0msorted\u001b[0m\u001b[0;34m(\u001b[0m\u001b[0mstuff\u001b[0m\u001b[0;34m)\u001b[0m\u001b[0;34m)\u001b[0m\u001b[0;34m\u001b[0m\u001b[0m\n\u001b[0m",
      "\u001b[0;31mTypeError\u001b[0m: '<' not supported between instances of 'int' and 'str'"
     ]
    }
   ],
   "source": [
    "print(sorted(stuff))"
   ]
  },
  {
   "cell_type": "markdown",
   "metadata": {},
   "source": [
    "*Slicing*\n",
    "---\n",
    "We can extract sublists compactly. This operation is called *slicing*."
   ]
  },
  {
   "cell_type": "code",
   "execution_count": 3,
   "metadata": {},
   "outputs": [],
   "source": [
    "letters = ['a', 'b', 'c', 'd', 'e', 'f', 'g', 'h']"
   ]
  },
  {
   "cell_type": "code",
   "execution_count": 4,
   "metadata": {},
   "outputs": [
    {
     "data": {
      "text/plain": [
       "['a', 'b', 'c']"
      ]
     },
     "execution_count": 4,
     "metadata": {},
     "output_type": "execute_result"
    }
   ],
   "source": [
    "letters[:3]#the first three / up to the third (included)"
   ]
  },
  {
   "cell_type": "code",
   "execution_count": 5,
   "metadata": {},
   "outputs": [
    {
     "data": {
      "text/plain": [
       "['d', 'e', 'f', 'g', 'h']"
      ]
     },
     "execution_count": 5,
     "metadata": {},
     "output_type": "execute_result"
    }
   ],
   "source": [
    "letters[3:]#from the third (excluded) onwards"
   ]
  },
  {
   "cell_type": "code",
   "execution_count": 6,
   "metadata": {},
   "outputs": [
    {
     "data": {
      "text/plain": [
       "['a', 'b', 'c', 'd', 'e', 'f', 'g', 'h']"
      ]
     },
     "execution_count": 6,
     "metadata": {},
     "output_type": "execute_result"
    }
   ],
   "source": [
    "letters[:3] + letters[3:]"
   ]
  },
  {
   "cell_type": "code",
   "execution_count": 7,
   "metadata": {
    "scrolled": true
   },
   "outputs": [
    {
     "data": {
      "text/plain": [
       "['d', 'e', 'f']"
      ]
     },
     "execution_count": 7,
     "metadata": {},
     "output_type": "execute_result"
    }
   ],
   "source": [
    "letters[3:6]"
   ]
  },
  {
   "cell_type": "markdown",
   "metadata": {},
   "source": [
    "*Exercise 3*\n",
    "---\n",
    "Try to play with lists and their operations:\n",
    "\n",
    "- create an empty list and fill it\n",
    "- insert, modify, delete elements\n",
    "- concatenate it with another list\n",
    "- insert another list into it, as a new element\n",
    "- sort it in natural and reverse order\n",
    "- extract slices and assign them to variables\n",
    "- recombine the slices to build the original list\n",
    "- ..."
   ]
  },
  {
   "cell_type": "code",
   "execution_count": 41,
   "metadata": {},
   "outputs": [],
   "source": [
    "#FILL ME"
   ]
  },
  {
   "cell_type": "markdown",
   "metadata": {},
   "source": [
    "***for*** loops\n",
    "===\n",
    "In computer programming, a *loop* is a particular construction where operations are repeated many times.\n",
    "\n",
    "Accessing the elements of a list through a *for* loop is an example of such construction."
   ]
  },
  {
   "cell_type": "code",
   "execution_count": 9,
   "metadata": {},
   "outputs": [
    {
     "name": "stdout",
     "output_type": "stream",
     "text": [
      "triangle\n",
      "square\n",
      "circle\n",
      "hexagon\n"
     ]
    }
   ],
   "source": [
    "shapes = ['triangle', 'square', 'circle', 'hexagon']\n",
    "\n",
    "for shape in shapes:\n",
    "    print(shape)#indented code"
   ]
  },
  {
   "cell_type": "markdown",
   "metadata": {},
   "source": [
    "**Remark**: as with functions, indentation is mandatory."
   ]
  },
  {
   "cell_type": "markdown",
   "metadata": {},
   "source": [
    "In the code of the above cell, *shape* contains, at each iteration of the loop, an element of the list. It is a variable (reassigned at each iteration) and can be given any name."
   ]
  },
  {
   "cell_type": "code",
   "execution_count": 10,
   "metadata": {},
   "outputs": [
    {
     "name": "stdout",
     "output_type": "stream",
     "text": [
      "triangle\n",
      "square\n",
      "circle\n",
      "hexagon\n"
     ]
    }
   ],
   "source": [
    "shapes = ['triangle', 'square', 'circle', 'hexagon']\n",
    "\n",
    "for x in shapes:\n",
    "    print(x)"
   ]
  },
  {
   "cell_type": "markdown",
   "metadata": {},
   "source": [
    "Enumerating\n",
    "---\n",
    "Let's suppose we want to know the index of the current iteration. In other words, along with the element, we want to know its position inside the list."
   ]
  },
  {
   "cell_type": "code",
   "execution_count": 15,
   "metadata": {},
   "outputs": [
    {
     "name": "stdout",
     "output_type": "stream",
     "text": [
      "The element with index 0 is triangle\n",
      "The element with index 1 is square\n",
      "The element with index 2 is circle\n",
      "The element with index 3 is hexagon\n"
     ]
    }
   ],
   "source": [
    "shapes = ['triangle', 'square', 'circle', 'hexagon']\n",
    "counter = 0\n",
    "\n",
    "for shape in shapes:\n",
    "    print('The element with index {} is {}'.format(counter, shape))\n",
    "    counter += 1"
   ]
  },
  {
   "cell_type": "markdown",
   "metadata": {},
   "source": [
    "This can be achieved compactly thanks to the *enumerate* function:\n",
    "\n",
    "        for index, element in enumerate(list):\n",
    "            ..."
   ]
  },
  {
   "cell_type": "code",
   "execution_count": 16,
   "metadata": {},
   "outputs": [
    {
     "name": "stdout",
     "output_type": "stream",
     "text": [
      "The element with index 0 is triangle\n",
      "The element with index 1 is square\n",
      "The element with index 2 is circle\n",
      "The element with index 3 is hexagon\n"
     ]
    }
   ],
   "source": [
    "shapes = ['triangle', 'square', 'circle', 'hexagon']\n",
    "\n",
    "for counter, shape in enumerate(shapes):#index, element\n",
    "    print('The element with index {} is {}'.format(counter, shape))"
   ]
  },
  {
   "cell_type": "markdown",
   "metadata": {},
   "source": [
    "As usual, *counter* and *shape* are just custom variable names. What really matters is their order!"
   ]
  },
  {
   "cell_type": "code",
   "execution_count": 17,
   "metadata": {},
   "outputs": [
    {
     "name": "stdout",
     "output_type": "stream",
     "text": [
      "The element with index 0 is triangle\n",
      "The element with index 1 is square\n",
      "The element with index 2 is circle\n",
      "The element with index 3 is hexagon\n"
     ]
    }
   ],
   "source": [
    "shapes = ['triangle', 'square', 'circle', 'hexagon']\n",
    "\n",
    "for i, x in enumerate(shapes):#prima indice, poi elemento\n",
    "    print('The element with index {} is {}'.format(i, x))"
   ]
  },
  {
   "cell_type": "markdown",
   "metadata": {},
   "source": [
    "**Remark**: every line (indented) within the body of the loop is executed at each iteration."
   ]
  },
  {
   "cell_type": "code",
   "execution_count": 23,
   "metadata": {},
   "outputs": [
    {
     "name": "stdout",
     "output_type": "stream",
     "text": [
      "The element with index 0 is triangle\n",
      "Hi mum!\n",
      "The element with index 1 is square\n",
      "Hi mum!\n",
      "The element with index 2 is circle\n",
      "Hi mum!\n",
      "The element with index 3 is hexagon\n",
      "Hi mum!\n"
     ]
    }
   ],
   "source": [
    "a = 'Hi mum!'\n",
    "shapes = ['triangle', 'square', 'circle', 'hexagon']\n",
    "\n",
    "for index, element in enumerate(shapes):\n",
    "    print('The element with index {} is {}'.format(index, element))\n",
    "    print(a)#indented = part of the loop's body"
   ]
  },
  {
   "cell_type": "code",
   "execution_count": 24,
   "metadata": {},
   "outputs": [
    {
     "name": "stdout",
     "output_type": "stream",
     "text": [
      "The element with index 0 is triangle\n",
      "The element with index 1 is square\n",
      "The element with index 2 is circle\n",
      "The element with index 3 is hexagon\n",
      "Hi mum!\n"
     ]
    }
   ],
   "source": [
    "a = 'Hi mum!'\n",
    "shapes = ['triangle', 'square', 'circle', 'hexagon']\n",
    "\n",
    "for index, element in enumerate(shapes):#prima indice, poi elemento\n",
    "    print('The element with index {} is {}'.format(index, element))\n",
    "\n",
    "print(a)#out of the loop's body"
   ]
  },
  {
   "cell_type": "markdown",
   "metadata": {},
   "source": [
    "*Exercise 4*\n",
    "---\n",
    "\n",
    "- create a list of ints, floats or mixed numbers\n",
    "- iterate over the numbers in the list, printing them along with their index\n",
    "- fill another list with the square of the numbers of the first list\n",
    "- print the new list to check on its content\n",
    "- as usual, comment your code"
   ]
  },
  {
   "cell_type": "code",
   "execution_count": 25,
   "metadata": {},
   "outputs": [
    {
     "name": "stdout",
     "output_type": "stream",
     "text": [
      "100\n"
     ]
    }
   ],
   "source": [
    "#FILL ME\n",
    "print(10**2)#square operator"
   ]
  },
  {
   "cell_type": "markdown",
   "metadata": {},
   "source": [
    "List comprehensions\n",
    "---\n",
    "Like we have seen in the previous exercise, using a loop to build a list from another one is a bit intricate."
   ]
  },
  {
   "cell_type": "code",
   "execution_count": 26,
   "metadata": {},
   "outputs": [
    {
     "name": "stdout",
     "output_type": "stream",
     "text": [
      "['FRANCESCO', 'ELISA', 'ALESSANDRO', 'GIOVANNI', 'MARIA TERESA']\n"
     ]
    }
   ],
   "source": [
    "names = ['francesco', 'elisa', 'alessandro', 'giovanni', 'maria teresa']\n",
    "capitalized_names = []#support list\n",
    "\n",
    "for n in names:\n",
    "    capitalized_names += [n.upper()]#filling the support list\n",
    "    \n",
    "print(capitalized_names)"
   ]
  },
  {
   "cell_type": "markdown",
   "metadata": {},
   "source": [
    "A *list comprehension* executes the above loop in one line:\n",
    "\n",
    "        [f(x) for x in list]  \n",
    "\n",
    "This way, it is easy to build a list from another one. List comprehensions are among the most elegant Python constructs, and are widely used even by advanced developers."
   ]
  },
  {
   "cell_type": "code",
   "execution_count": 27,
   "metadata": {},
   "outputs": [
    {
     "data": {
      "text/plain": [
       "['FRANCESCO', 'ELISA', 'ALESSANDRO', 'GIOVANNI', 'MARIA TERESA']"
      ]
     },
     "execution_count": 27,
     "metadata": {},
     "output_type": "execute_result"
    }
   ],
   "source": [
    "capitalized_names = [n.upper() for n in names]\n",
    "\n",
    "capitalized_names"
   ]
  },
  {
   "cell_type": "code",
   "execution_count": 28,
   "metadata": {},
   "outputs": [
    {
     "data": {
      "text/plain": [
       "['F', 'E', 'A', 'G', 'M']"
      ]
     },
     "execution_count": 28,
     "metadata": {},
     "output_type": "execute_result"
    }
   ],
   "source": [
    "capitalized_initials = [n.upper()[0] for n in names]\n",
    "\n",
    "capitalized_initials"
   ]
  },
  {
   "cell_type": "markdown",
   "metadata": {},
   "source": [
    "*Exercise 5*\n",
    "--\n",
    "List comprehensions can be used together with enumeration:\n",
    "\n",
    "        [f(index, element) for index, element in enumerate(list)]"
   ]
  },
  {
   "cell_type": "code",
   "execution_count": 29,
   "metadata": {},
   "outputs": [
    {
     "data": {
      "text/plain": [
       "[[0, 'francesco'],\n",
       " [1, 'elisa'],\n",
       " [2, 'alessandro'],\n",
       " [3, 'giovanni'],\n",
       " [4, 'maria teresa']]"
      ]
     },
     "execution_count": 29,
     "metadata": {},
     "output_type": "execute_result"
    }
   ],
   "source": [
    "indexed_names = [[i, n] for i, n in enumerate(names)]\n",
    "\n",
    "indexed_names"
   ]
  },
  {
   "cell_type": "markdown",
   "metadata": {},
   "source": [
    "Repeat the enumeration of the previous cell, printing the names in alphabetical order. Hint: you need just one line of code!"
   ]
  },
  {
   "cell_type": "code",
   "execution_count": 23,
   "metadata": {},
   "outputs": [
    {
     "data": {
      "text/plain": [
       "[[0, 'alessandro'],\n",
       " [1, 'elisa'],\n",
       " [2, 'francesco'],\n",
       " [3, 'giovanni'],\n",
       " [4, 'maria teresa']]"
      ]
     },
     "execution_count": 23,
     "metadata": {},
     "output_type": "execute_result"
    }
   ],
   "source": [
    "indexed_sorted_names = #FILL ME\n",
    "indexed_sorted_names"
   ]
  },
  {
   "cell_type": "markdown",
   "metadata": {},
   "source": [
    "*Exercise 6*\n",
    "---\n",
    "Repeat Exercise 4 (without the printing) using a list comprehension."
   ]
  },
  {
   "cell_type": "code",
   "execution_count": null,
   "metadata": {},
   "outputs": [],
   "source": [
    "#FILL ME"
   ]
  },
  {
   "cell_type": "markdown",
   "metadata": {},
   "source": [
    "<script>\n",
    "  $(document).ready(function(){\n",
    "    $('div.back-to-top').hide();\n",
    "    $('nav#menubar').hide();\n",
    "    $('div.prompt').hide();\n",
    "    $('.hidden-print').hide();\n",
    "  });\n",
    "</script>\n",
    "\n",
    "<footer id=\"attribution\" style=\"float:right; color:#999; background:#fff;\">\n",
    "Created with Jupyter, delivered by Fastly, rendered by Rackspace.\n",
    "</footer>"
   ]
  }
 ],
 "metadata": {
  "kernelspec": {
   "display_name": "Python 3",
   "language": "python",
   "name": "python3"
  },
  "language_info": {
   "codemirror_mode": {
    "name": "ipython",
    "version": 3
   },
   "file_extension": ".py",
   "mimetype": "text/x-python",
   "name": "python",
   "nbconvert_exporter": "python",
   "pygments_lexer": "ipython3",
   "version": "3.8.3"
  }
 },
 "nbformat": 4,
 "nbformat_minor": 2
}
