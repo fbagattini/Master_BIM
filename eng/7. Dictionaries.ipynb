{
 "cells": [
  {
   "cell_type": "markdown",
   "metadata": {},
   "source": [
    "*Contents*\n",
    "===\n",
    "- [A database of estates](#A-database-of-estates)\n",
    "    - [Dictionaries: definition and declaration](#Dictionaries:-definition-and-declaration)\n",
    "    - [Access](#Access)\n",
    "    - [Operations](#Operations)\n",
    "    - [Loops](#Loops)"
   ]
  },
  {
   "cell_type": "markdown",
   "metadata": {},
   "source": [
    "A database of estates\n",
    "===\n",
    "The elements of a list often have a meaning attached to. Let's suppose we want to build a database of estates, each defined by\n",
    "\n",
    "- coordinates as (lon, lat) in decimal degrees\n",
    "- extension (sqm)\n",
    "- presence of land\n",
    "- price, in thousands of Euro.\n",
    "\n",
    "We can use a list to contain these records; in turn, each estate will be a list of data. Also suppose that, initially, the database is empty, and that it is populated with a new record every time an estate is registered (for example, through the form of a web application)."
   ]
  },
  {
   "cell_type": "code",
   "execution_count": 34,
   "metadata": {},
   "outputs": [
    {
     "name": "stdout",
     "output_type": "stream",
     "text": [
      "\n",
      "Estate 0\n",
      "Coordinates: [12.3456, -56.789]\n",
      "Extension (smq): 2000\n",
      "Land: No\n",
      "Price: 10K Euro\n",
      "\n",
      "Estate 1\n",
      "Coordinates: [-8.9101, 60.1234]\n",
      "Extension (smq): 12000\n",
      "Land: No\n",
      "Price: 125K Euro\n",
      "\n",
      "Estate 2\n",
      "Coordinates: [45.6789, 10.3456]\n",
      "Extension (smq): 100\n",
      "Land: Yes\n",
      "Price: 350K Euro\n"
     ]
    }
   ],
   "source": [
    "estates = []#empty database\n",
    "\n",
    "e1 = [[12.3456, -56.7890], 2000 , False,   10]#estate registration\n",
    "estates += [e1]#adding the estate to the database\n",
    "\n",
    "e2 = [[-8.9101,  60.1234], 12000, False,  125]\n",
    "estates += [e2]\n",
    "\n",
    "e3 = [[45.6789,  10.3456], 100  , True,  350]\n",
    "estates += [e3]\n",
    "\n",
    "for i, e in enumerate(estates):\n",
    "    print('\\nEstate {}'.format(i))#'\\n' is 'new line'\n",
    "    print('Coordinates: {}'.format(e[0]))\n",
    "    print('Extension (smq): {}'.format(e[1]))\n",
    "    print('Land: {}'.format('Yes' if e[2] else 'No'))\n",
    "    print('Price: {}K Euro'.format(e[3]))"
   ]
  },
  {
   "cell_type": "markdown",
   "metadata": {},
   "source": [
    "When the features describing an estate are too many, however, to manage them with a list becomes troublesome. In fact, to have access to a specific feature, we need to know its position in the list."
   ]
  },
  {
   "cell_type": "markdown",
   "metadata": {},
   "source": [
    "Dictionaries: definition and declaration\n",
    "---\n",
    "\n",
    "A *dictionary* is a special Python container, where every element has a *key* (a unique identifier) and a *value*. As opposed to a list, a dictionary provide its elements with a semantic, that is, a unique meaning."
   ]
  },
  {
   "cell_type": "code",
   "execution_count": null,
   "metadata": {},
   "outputs": [],
   "source": [
    "dictionary_name = {key1:value1, key1:value2}"
   ]
  },
  {
   "cell_type": "markdown",
   "metadata": {},
   "source": [
    "The code in the cell above is a general example of declaration.\n",
    "\n",
    "- we use curly brackets {} to declare a dictionary\n",
    "- (key, value) pairs can be as many as needed\n",
    "- a key can't be repeated (each estate has *just one* price, one extension, ...)\n",
    "- values can be of any type (including lists and other dictionaries).\n",
    "\n",
    "Going back to our examples, we can implement the estate database as a list of dictionaries."
   ]
  },
  {
   "cell_type": "code",
   "execution_count": 36,
   "metadata": {},
   "outputs": [],
   "source": [
    "estates = []\n",
    "\n",
    "e1 = {'coordinates':[12.3456, -56.7890], 'extension':2000,  'has_land':False, 'price':10}\n",
    "estates += [e1]\n",
    "\n",
    "e2 = {'coordinates':[-8.9101,  60.1234], 'extension':12000, 'has_land':False, 'price':125}\n",
    "estates += [e2]\n",
    "\n",
    "e3 = {'coordinates':[45.6789,  10.3456], 'extension':100,   'has_land':True,  'price':350}\n",
    "estates += [e3]"
   ]
  },
  {
   "cell_type": "code",
   "execution_count": 37,
   "metadata": {},
   "outputs": [
    {
     "data": {
      "text/plain": [
       "{'coordinates': [12.3456, -56.789],\n",
       " 'extension': 2000,\n",
       " 'has_land': False,\n",
       " 'price': 10}"
      ]
     },
     "execution_count": 37,
     "metadata": {},
     "output_type": "execute_result"
    }
   ],
   "source": [
    "e1"
   ]
  },
  {
   "cell_type": "markdown",
   "metadata": {},
   "source": [
    "Access\n",
    "---\n",
    "Now we can easily access an estate's feature through the corresponding key."
   ]
  },
  {
   "cell_type": "code",
   "execution_count": 38,
   "metadata": {},
   "outputs": [
    {
     "data": {
      "text/plain": [
       "10"
      ]
     },
     "execution_count": 38,
     "metadata": {},
     "output_type": "execute_result"
    }
   ],
   "source": [
    "e1['price']"
   ]
  },
  {
   "cell_type": "code",
   "execution_count": 39,
   "metadata": {},
   "outputs": [
    {
     "name": "stdout",
     "output_type": "stream",
     "text": [
      "\n",
      "Estate 0\n",
      "Coordinates: [12.3456, -56.789]\n",
      "Extension (smq): 2000\n",
      "Land: No\n",
      "Price: 10K Euro\n",
      "\n",
      "Estate 1\n",
      "Coordinates: [-8.9101, 60.1234]\n",
      "Extension (smq): 12000\n",
      "Land: No\n",
      "Price: 125K Euro\n",
      "\n",
      "Estate 2\n",
      "Coordinates: [45.6789, 10.3456]\n",
      "Extension (smq): 100\n",
      "Land: Sì\n",
      "Price: 350K Euro\n"
     ]
    }
   ],
   "source": [
    "for i, e in enumerate(estates):\n",
    "    print('\\nEstate {}'.format(i))\n",
    "    print('Coordinates: {}'.format(e['coordinates']))\n",
    "    print('Extension (smq): {}'.format(e['extension']))\n",
    "    print('Land: {}'.format('Sì' if e['has_land'] else 'No'))\n",
    "    print('Price: {}K Euro'.format(e['price']))"
   ]
  },
  {
   "cell_type": "markdown",
   "metadata": {},
   "source": [
    "Such construction has several advantages; here is an example of use in combination with a list comprehension."
   ]
  },
  {
   "cell_type": "code",
   "execution_count": 40,
   "metadata": {},
   "outputs": [
    {
     "data": {
      "text/plain": [
       "[10, 125, 350]"
      ]
     },
     "execution_count": 40,
     "metadata": {},
     "output_type": "execute_result"
    }
   ],
   "source": [
    "[h['price'] for h in estates]"
   ]
  },
  {
   "cell_type": "markdown",
   "metadata": {},
   "source": [
    "Operations\n",
    "---\n",
    "As we did with lists, we'll have a look at the basic operations we can apply to a dictionary.\n",
    "\n",
    "Let's change the application domain. An estate agency rents apartments in a seaside town. Each apartment has a name and a price, and the agency wants to create and update a database to keep track of such data.\n",
    "\n",
    "How many dictionaries do we need?"
   ]
  },
  {
   "cell_type": "code",
   "execution_count": 41,
   "metadata": {},
   "outputs": [
    {
     "data": {
      "text/plain": [
       "{'Villa Bianca': 500, 'Red pine': 250, 'The hovel': 100}"
      ]
     },
     "execution_count": 41,
     "metadata": {},
     "output_type": "execute_result"
    }
   ],
   "source": [
    "prices = {}#database: empty dictionary\n",
    "\n",
    "prices['Villa Bianca'] = 500#insertion\n",
    "prices['Red pine'] = 250\n",
    "prices['The hovel'] = 100\n",
    "\n",
    "prices"
   ]
  },
  {
   "cell_type": "code",
   "execution_count": 42,
   "metadata": {},
   "outputs": [
    {
     "name": "stdout",
     "output_type": "stream",
     "text": [
      "The weekly price of Villa Bianca is 500 Euro.\n"
     ]
    }
   ],
   "source": [
    "print('The weekly price of Villa Bianca is {} Euro.'.format(prices['Villa Bianca']))"
   ]
  },
  {
   "cell_type": "markdown",
   "metadata": {},
   "source": [
    "The agency has a hard time renting *The hovel*..."
   ]
  },
  {
   "cell_type": "code",
   "execution_count": 30,
   "metadata": {},
   "outputs": [
    {
     "name": "stdout",
     "output_type": "stream",
     "text": [
      "Special offer! The weekly price of The hovel is 80 Euro.\n"
     ]
    }
   ],
   "source": [
    "prices['The hovel'] = 80#modification\n",
    "\n",
    "print('Special offer! The weekly price of The hovel is {} Euro.'.format(prices['The hovel']))"
   ]
  },
  {
   "cell_type": "markdown",
   "metadata": {},
   "source": [
    "Loops\n",
    "---\n",
    "Key-value pairs can be accessed through the *items* function. Key and values can also be accessed individually."
   ]
  },
  {
   "cell_type": "code",
   "execution_count": 43,
   "metadata": {},
   "outputs": [
    {
     "name": "stdout",
     "output_type": "stream",
     "text": [
      "The weekly price of Villa Bianca is 500 Euro\n",
      "The weekly price of Red pine is 250 Euro\n",
      "The weekly price of The hovel is 100 Euro\n"
     ]
    }
   ],
   "source": [
    "for apt, price in prices.items():#key/value\n",
    "    print('The weekly price of {} is {} Euro'.format(apt, price))"
   ]
  },
  {
   "cell_type": "code",
   "execution_count": 44,
   "metadata": {},
   "outputs": [
    {
     "name": "stdout",
     "output_type": "stream",
     "text": [
      "Apt name: Villa Bianca\n",
      "Apt name: Red pine\n",
      "Apt name: The hovel\n"
     ]
    }
   ],
   "source": [
    "for apt in prices.keys():#keys\n",
    "    print('Apt name:', apt)"
   ]
  },
  {
   "cell_type": "code",
   "execution_count": 45,
   "metadata": {},
   "outputs": [
    {
     "name": "stdout",
     "output_type": "stream",
     "text": [
      "Weekly price: 500\n",
      "Weekly price: 250\n",
      "Weekly price: 100\n"
     ]
    }
   ],
   "source": [
    "for price in prices.values():#values\n",
    "    print('Weekly price:', price)"
   ]
  },
  {
   "cell_type": "markdown",
   "metadata": {},
   "source": [
    "<script>\n",
    "  $(document).ready(function(){\n",
    "    $('div.back-to-top').hide();\n",
    "    $('nav#menubar').hide();\n",
    "    $('div.prompt').hide();\n",
    "    $('.hidden-print').hide();\n",
    "  });\n",
    "</script>\n",
    "\n",
    "<footer id=\"attribution\" style=\"float:right; color:#999; background:#fff;\">\n",
    "Created with Jupyter, delivered by Fastly, rendered by Rackspace.\n",
    "</footer>"
   ]
  }
 ],
 "metadata": {
  "kernelspec": {
   "display_name": "Python 3",
   "language": "python",
   "name": "python3"
  },
  "language_info": {
   "codemirror_mode": {
    "name": "ipython",
    "version": 3
   },
   "file_extension": ".py",
   "mimetype": "text/x-python",
   "name": "python",
   "nbconvert_exporter": "python",
   "pygments_lexer": "ipython3",
   "version": "3.8.3"
  }
 },
 "nbformat": 4,
 "nbformat_minor": 2
}
