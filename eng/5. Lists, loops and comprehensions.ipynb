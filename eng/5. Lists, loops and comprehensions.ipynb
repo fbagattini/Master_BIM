{
 "cells": [
  {
   "cell_type": "markdown",
   "metadata": {},
   "source": [
    "*Contents*\n",
    "===\n",
    "- [Lists](#Lists)\n",
    "    - [Size and indexing](#Size-and-indexing)\n",
    "    - [Empty lists and basic operations](#Empty-lists-and-basic-operations)\n",
    "    - [Extracting](#Extracting)\n",
    "        - [*Exercise 1*](#Exercise-1)\n",
    "    - [Searching](#Searching)\n",
    "    - [Sorting](#Sorting)\n",
    "    - [Aggregated operations](#Aggregated-operations)\n",
    "        - [*Exercise 2*](#Exercise-2)\n",
    "    - [Mixed lists](#Mixed-lists)\n",
    "    - [*Slicing*](#Slicing)\n",
    "    - [*Exercise 3*](#Exercise-3)\n",
    "- [*for* loops](#for-loops)\n",
    "    - [Enumerating](#Enumerating)\n",
    "    - [*Exercise 4*](#Exercise-4)\n",
    "    - [List comprehensions](#List-comprehensions)\n",
    "    - [*Exercise 5*](#Exercise-5)\n",
    "    - [*Exercise 6*](#Exercise-6)"
   ]
  },
  {
   "cell_type": "markdown",
   "metadata": {},
   "source": [
    "Lists\n",
    "===\n",
    "A *list* is an ordered collection of objects, stored into a variable."
   ]
  },
  {
   "cell_type": "code",
   "execution_count": 35,
   "metadata": {},
   "outputs": [
    {
     "name": "stdout",
     "output_type": "stream",
     "text": [
      "<class 'list'>\n",
      "['triangle', 'square', 'pentagon']\n"
     ]
    }
   ],
   "source": [
    "shapes = ['triangle', 'square', 'pentagon']\n",
    "print(type(shapes))\n",
    "print(shapes)"
   ]
  },
  {
   "cell_type": "markdown",
   "metadata": {},
   "source": [
    "Size and indexing\n",
    "---\n",
    "The *len* function returns the size of a list."
   ]
  },
  {
   "cell_type": "code",
   "execution_count": 36,
   "metadata": {},
   "outputs": [
    {
     "data": {
      "text/plain": [
       "3"
      ]
     },
     "execution_count": 36,
     "metadata": {},
     "output_type": "execute_result"
    }
   ],
   "source": [
    "len(shapes)"
   ]
  },
  {
   "cell_type": "markdown",
   "metadata": {},
   "source": [
    "The elements inside a list can be accessed through a numerical *index*: the first position has index \"0\", the last \"len-1\"."
   ]
  },
  {
   "cell_type": "code",
   "execution_count": 37,
   "metadata": {},
   "outputs": [
    {
     "name": "stdout",
     "output_type": "stream",
     "text": [
      "triangle\n",
      "square\n",
      "pentagon\n"
     ]
    }
   ],
   "source": [
    "print(shapes[0])\n",
    "print(shapes[1])\n",
    "print(shapes[len(shapes)-1])"
   ]
  },
  {
   "cell_type": "markdown",
   "metadata": {},
   "source": [
    "Negative integers can be used to easily index the last elements."
   ]
  },
  {
   "cell_type": "code",
   "execution_count": 38,
   "metadata": {},
   "outputs": [
    {
     "name": "stdout",
     "output_type": "stream",
     "text": [
      "pentagon\n",
      "square\n"
     ]
    }
   ],
   "source": [
    "print(shapes[-1])#last\n",
    "print(shapes[-2])#second to last"
   ]
  },
  {
   "cell_type": "markdown",
   "metadata": {},
   "source": [
    "Empty lists and basic operations\n",
    "---\n",
    "Let's create an empty list and add some element to it."
   ]
  },
  {
   "cell_type": "code",
   "execution_count": 3,
   "metadata": {},
   "outputs": [
    {
     "data": {
      "text/plain": [
       "[]"
      ]
     },
     "execution_count": 3,
     "metadata": {},
     "output_type": "execute_result"
    }
   ],
   "source": [
    "shapes = []#empty list\n",
    "\n",
    "shapes"
   ]
  },
  {
   "cell_type": "markdown",
   "metadata": {},
   "source": [
    "When dealing with lists, Python interprets the + operator as a list concatenation."
   ]
  },
  {
   "cell_type": "code",
   "execution_count": 4,
   "metadata": {},
   "outputs": [
    {
     "data": {
      "text/plain": [
       "['triangle', 'square']"
      ]
     },
     "execution_count": 4,
     "metadata": {},
     "output_type": "execute_result"
    }
   ],
   "source": [
    "shapes = shapes + ['triangle', 'square']\n",
    "\n",
    "shapes"
   ]
  },
  {
   "cell_type": "code",
   "execution_count": 5,
   "metadata": {},
   "outputs": [
    {
     "data": {
      "text/plain": [
       "['triangle', 'square', 'pentagon']"
      ]
     },
     "execution_count": 5,
     "metadata": {},
     "output_type": "execute_result"
    }
   ],
   "source": [
    "shapes = shapes + ['pentagon']\n",
    "\n",
    "shapes"
   ]
  },
  {
   "cell_type": "markdown",
   "metadata": {},
   "source": [
    "**Remark**: adding a single element to a list is a special case of concatenation. Therefore, we again need square brackets: indeed, we are concatenating a list to another one containing just one element."
   ]
  },
  {
   "cell_type": "markdown",
   "metadata": {},
   "source": [
    "Concatenation (more broadly, the + operation) can be executed compactly."
   ]
  },
  {
   "cell_type": "code",
   "execution_count": 2,
   "metadata": {},
   "outputs": [
    {
     "data": {
      "text/plain": [
       "5"
      ]
     },
     "execution_count": 2,
     "metadata": {},
     "output_type": "execute_result"
    }
   ],
   "source": [
    "a = 0\n",
    "a += 5#compact syntax for 'a = a + 5'\n",
    "\n",
    "a"
   ]
  },
  {
   "cell_type": "code",
   "execution_count": 5,
   "metadata": {},
   "outputs": [
    {
     "data": {
      "text/plain": [
       "'ciao mamma!'"
      ]
     },
     "execution_count": 5,
     "metadata": {},
     "output_type": "execute_result"
    }
   ],
   "source": [
    "b = 'ciao'\n",
    "b += ' mamma!'#compact string concatenation\n",
    "\n",
    "b"
   ]
  },
  {
   "cell_type": "code",
   "execution_count": 6,
   "metadata": {},
   "outputs": [
    {
     "data": {
      "text/plain": [
       "['triangle', 'square', 'pentagon', 'hexagon']"
      ]
     },
     "execution_count": 6,
     "metadata": {},
     "output_type": "execute_result"
    }
   ],
   "source": [
    "shapes += ['hexagon']#compact list concatenation\n",
    "\n",
    "shapes"
   ]
  },
  {
   "cell_type": "markdown",
   "metadata": {},
   "source": [
    "A new element can be added at a specific position: all the subsequent one will be shifted to the right, and the size of the list will increase by 1."
   ]
  },
  {
   "cell_type": "code",
   "execution_count": 7,
   "metadata": {},
   "outputs": [
    {
     "data": {
      "text/plain": [
       "['triangle', 'square', 'rectangle', 'pentagon', 'hexagon']"
      ]
     },
     "execution_count": 7,
     "metadata": {},
     "output_type": "execute_result"
    }
   ],
   "source": [
    "shapes.insert(2, 'rectangle')#insert at position 2\n",
    "\n",
    "shapes"
   ]
  },
  {
   "cell_type": "markdown",
   "metadata": {},
   "source": [
    "The elements of a list can be changed at any time."
   ]
  },
  {
   "cell_type": "code",
   "execution_count": 8,
   "metadata": {},
   "outputs": [
    {
     "data": {
      "text/plain": [
       "['circle', 'square', 'rectangle', 'pentagon', 'hexagon']"
      ]
     },
     "execution_count": 8,
     "metadata": {},
     "output_type": "execute_result"
    }
   ],
   "source": [
    "shapes[0] = 'circle'#modification\n",
    "\n",
    "shapes"
   ]
  },
  {
   "cell_type": "markdown",
   "metadata": {},
   "source": [
    "To remove an element from a list we can use the function of the same name. "
   ]
  },
  {
   "cell_type": "code",
   "execution_count": 9,
   "metadata": {},
   "outputs": [
    {
     "data": {
      "text/plain": [
       "['circle', 'square', 'rectangle', 'pentagon']"
      ]
     },
     "execution_count": 9,
     "metadata": {},
     "output_type": "execute_result"
    }
   ],
   "source": [
    "shapes.remove('hexagon')#removal\n",
    "\n",
    "shapes"
   ]
  },
  {
   "cell_type": "markdown",
   "metadata": {},
   "source": [
    "Extracting\n",
    "---\n",
    "The *pop* function extracts an element from a list (by default, the last one), and returns it."
   ]
  },
  {
   "cell_type": "code",
   "execution_count": 10,
   "metadata": {},
   "outputs": [
    {
     "name": "stdout",
     "output_type": "stream",
     "text": [
      "['circle', 'square', 'rectangle']\n",
      "Last element: pentagon\n"
     ]
    }
   ],
   "source": [
    "last_element = shapes.pop()\n",
    "print(shapes)\n",
    "print('Last element:', last_element)"
   ]
  },
  {
   "cell_type": "markdown",
   "metadata": {},
   "source": [
    "### *Exercise 1* \n",
    "\n",
    "Take some minute to think about the difference between the functions we have seen so far (upper, lower, replace) and those such as insert, remove or pop."
   ]
  },
  {
   "cell_type": "markdown",
   "metadata": {},
   "source": [
    "Searching\n",
    "---\n",
    "We can check whether an object is contained in a list."
   ]
  },
  {
   "cell_type": "code",
   "execution_count": 10,
   "metadata": {},
   "outputs": [
    {
     "data": {
      "text/plain": [
       "True"
      ]
     },
     "execution_count": 10,
     "metadata": {},
     "output_type": "execute_result"
    }
   ],
   "source": [
    "'square' in shapes"
   ]
  },
  {
   "cell_type": "code",
   "execution_count": 11,
   "metadata": {},
   "outputs": [
    {
     "data": {
      "text/plain": [
       "False"
      ]
     },
     "execution_count": 11,
     "metadata": {},
     "output_type": "execute_result"
    }
   ],
   "source": [
    "'triangle' in shapes"
   ]
  },
  {
   "cell_type": "markdown",
   "metadata": {},
   "source": [
    "Sorting\n",
    "---\n",
    "A list can be sorted through the *sorted* function. Here too, Python is dynamically interpreting a basic operation (which one?) based on the type of the variables contained in the list.\n",
    "\n",
    "Strings will be sorted alphabetically."
   ]
  },
  {
   "cell_type": "code",
   "execution_count": 1,
   "metadata": {},
   "outputs": [
    {
     "data": {
      "text/plain": [
       "['circle', 'hexagon', 'square', 'triangle']"
      ]
     },
     "execution_count": 1,
     "metadata": {},
     "output_type": "execute_result"
    }
   ],
   "source": [
    "shapes = ['triangle', 'square', 'circle', 'hexagon']\n",
    "\n",
    "sorted(shapes)"
   ]
  },
  {
   "cell_type": "markdown",
   "metadata": {},
   "source": [
    "The sorted function creates (and returns) a *new* list: altering its elements won't affect the original one."
   ]
  },
  {
   "cell_type": "code",
   "execution_count": 2,
   "metadata": {},
   "outputs": [
    {
     "name": "stdout",
     "output_type": "stream",
     "text": [
      "sorted list: ['circle', 'hexagon', 'square', 'triangle']\n"
     ]
    }
   ],
   "source": [
    "sorted_shapes = sorted(shapes)#assigning the result to a variable\n",
    "print('sorted list:', sorted_shapes)"
   ]
  },
  {
   "cell_type": "code",
   "execution_count": 3,
   "metadata": {},
   "outputs": [
    {
     "name": "stdout",
     "output_type": "stream",
     "text": [
      "modified sorted list: ['rhombus', 'hexagon', 'square', 'triangle']\n"
     ]
    }
   ],
   "source": [
    "sorted_shapes[0] = 'rhombus'#modifying an element of the new list\n",
    "print('modified sorted list:', sorted_shapes)"
   ]
  },
  {
   "cell_type": "code",
   "execution_count": 4,
   "metadata": {},
   "outputs": [
    {
     "name": "stdout",
     "output_type": "stream",
     "text": [
      "original list: ['triangle', 'square', 'circle', 'hexagon']\n"
     ]
    }
   ],
   "source": [
    "print('original list:', shapes)"
   ]
  },
  {
   "cell_type": "markdown",
   "metadata": {},
   "source": [
    "The same applies to numerical lists. By convention, numbers are sorted in increasing order."
   ]
  },
  {
   "cell_type": "code",
   "execution_count": 18,
   "metadata": {},
   "outputs": [
    {
     "data": {
      "text/plain": [
       "[1, 3, 5, 6, 7, 8]"
      ]
     },
     "execution_count": 18,
     "metadata": {},
     "output_type": "execute_result"
    }
   ],
   "source": [
    "numbers = [3,6,1,7,8,5]\n",
    "\n",
    "sorted(numbers)"
   ]
  },
  {
   "cell_type": "markdown",
   "metadata": {},
   "source": [
    "The elements of a list can be sorted in reverse order using the *reverse* argument of the sorted function. It is an example of *optional argument*: if we don't give it a value (using '='), the function applies the default value (in this case, *False*).\n",
    "\n",
    "We will get back to True and False soon."
   ]
  },
  {
   "cell_type": "code",
   "execution_count": 25,
   "metadata": {},
   "outputs": [
    {
     "data": {
      "text/plain": [
       "[8, 7, 6, 5, 3, 1]"
      ]
     },
     "execution_count": 25,
     "metadata": {},
     "output_type": "execute_result"
    }
   ],
   "source": [
    "numbers = [3,6,1,7,8,5]\n",
    "\n",
    "sorted(numbers, reverse=True)#optional argument"
   ]
  },
  {
   "cell_type": "markdown",
   "metadata": {},
   "source": [
    "Aggregated operations\n",
    "---\n",
    "E' possibile fare operazioni che coinvolgono tutti gli oggetti contenuti in una lista. Per quanto riguarda le liste numeriche, ad esempio, possiamo calcolare minimo, massimo e somma."
   ]
  },
  {
   "cell_type": "code",
   "execution_count": 1,
   "metadata": {},
   "outputs": [
    {
     "name": "stdout",
     "output_type": "stream",
     "text": [
      "voto minimo: 22\n",
      "voto massimo: 30\n"
     ]
    }
   ],
   "source": [
    "grades = [28, 25, 22, 30, 30, 28, 26]\n",
    "print('voto minimo:', min(grades))\n",
    "print('voto massimo:', max(grades))"
   ]
  },
  {
   "cell_type": "markdown",
   "metadata": {},
   "source": [
    "### *Exercise 2* \n",
    "\n",
    "Stampare il voto medio col formato qui sopra, usando (anche) la funzione *sum*."
   ]
  },
  {
   "cell_type": "code",
   "execution_count": 2,
   "metadata": {},
   "outputs": [
    {
     "data": {
      "text/plain": [
       "15"
      ]
     },
     "execution_count": 2,
     "metadata": {},
     "output_type": "execute_result"
    }
   ],
   "source": [
    "#FILL ME\n",
    "sum([10, 5])"
   ]
  },
  {
   "cell_type": "markdown",
   "metadata": {},
   "source": [
    "Mixed lists\n",
    "---\n",
    "In Python, una lista può contenere qualsiasi cosa."
   ]
  },
  {
   "cell_type": "code",
   "execution_count": 27,
   "metadata": {},
   "outputs": [
    {
     "data": {
      "text/plain": [
       "['apples', 'oranges', 32, 17]"
      ]
     },
     "execution_count": 27,
     "metadata": {},
     "output_type": "execute_result"
    }
   ],
   "source": [
    "stuff = []\n",
    "stuff += ['apples']\n",
    "stuff += ['oranges']\n",
    "stuff += [32]\n",
    "stuff += [17]\n",
    "\n",
    "stuff"
   ]
  },
  {
   "cell_type": "markdown",
   "metadata": {},
   "source": [
    "Anche un'altra lista."
   ]
  },
  {
   "cell_type": "code",
   "execution_count": 28,
   "metadata": {},
   "outputs": [
    {
     "data": {
      "text/plain": [
       "['apples', 'oranges', 32, 17, [1, 2, 3, 4]]"
      ]
     },
     "execution_count": 28,
     "metadata": {},
     "output_type": "execute_result"
    }
   ],
   "source": [
    "another_list = [1,2,3,4]\n",
    "stuff += [another_list]\n",
    "\n",
    "stuff"
   ]
  },
  {
   "cell_type": "markdown",
   "metadata": {},
   "source": [
    "Attenzione, è diverso da:"
   ]
  },
  {
   "cell_type": "code",
   "execution_count": 29,
   "metadata": {},
   "outputs": [
    {
     "data": {
      "text/plain": [
       "['apples', 'oranges', 32, 17, 1, 2, 3, 4]"
      ]
     },
     "execution_count": 29,
     "metadata": {},
     "output_type": "execute_result"
    }
   ],
   "source": [
    "stuff = ['apples', 'oranges', 32, 17]\n",
    "another_list = [1,2,3,4]\n",
    "stuff += another_list\n",
    "\n",
    "stuff"
   ]
  },
  {
   "cell_type": "markdown",
   "metadata": {},
   "source": [
    "L'ordinamento usa in modo dinamico l'operatore '<', che non è definito su tutte le coppie di tipi."
   ]
  },
  {
   "cell_type": "code",
   "execution_count": 43,
   "metadata": {},
   "outputs": [
    {
     "ename": "TypeError",
     "evalue": "'<' not supported between instances of 'int' and 'str'",
     "output_type": "error",
     "traceback": [
      "\u001b[0;31m---------------------------------------------------------------------------\u001b[0m",
      "\u001b[0;31mTypeError\u001b[0m                                 Traceback (most recent call last)",
      "\u001b[0;32m<ipython-input-43-63b76547365d>\u001b[0m in \u001b[0;36m<module>\u001b[0;34m\u001b[0m\n\u001b[0;32m----> 1\u001b[0;31m \u001b[0mprint\u001b[0m\u001b[0;34m(\u001b[0m\u001b[0msorted\u001b[0m\u001b[0;34m(\u001b[0m\u001b[0mstuff\u001b[0m\u001b[0;34m)\u001b[0m\u001b[0;34m)\u001b[0m\u001b[0;34m\u001b[0m\u001b[0m\n\u001b[0m",
      "\u001b[0;31mTypeError\u001b[0m: '<' not supported between instances of 'int' and 'str'"
     ]
    }
   ],
   "source": [
    "print(sorted(stuff))"
   ]
  },
  {
   "cell_type": "markdown",
   "metadata": {},
   "source": [
    "*Slicing*\n",
    "---\n",
    "Python permette l'estrazione di sottoliste (slicing) in modo compatto. "
   ]
  },
  {
   "cell_type": "code",
   "execution_count": 8,
   "metadata": {},
   "outputs": [],
   "source": [
    "letters = ['a', 'b', 'c', 'd', 'e', 'f', 'g', 'h']"
   ]
  },
  {
   "cell_type": "code",
   "execution_count": 9,
   "metadata": {},
   "outputs": [
    {
     "data": {
      "text/plain": [
       "['a', 'b', 'c']"
      ]
     },
     "execution_count": 9,
     "metadata": {},
     "output_type": "execute_result"
    }
   ],
   "source": [
    "letters[:3]#'le prime 3' / 'fino alla terza (inclusa)'"
   ]
  },
  {
   "cell_type": "code",
   "execution_count": 10,
   "metadata": {},
   "outputs": [
    {
     "data": {
      "text/plain": [
       "['d', 'e', 'f', 'g', 'h']"
      ]
     },
     "execution_count": 10,
     "metadata": {},
     "output_type": "execute_result"
    }
   ],
   "source": [
    "letters[3:]#'dalla terza (esclusa) in poi'"
   ]
  },
  {
   "cell_type": "code",
   "execution_count": 11,
   "metadata": {},
   "outputs": [
    {
     "data": {
      "text/plain": [
       "['a', 'b', 'c', 'd', 'e', 'f', 'g', 'h']"
      ]
     },
     "execution_count": 11,
     "metadata": {},
     "output_type": "execute_result"
    }
   ],
   "source": [
    "letters[:3] + letters[3:]"
   ]
  },
  {
   "cell_type": "code",
   "execution_count": 12,
   "metadata": {
    "scrolled": true
   },
   "outputs": [
    {
     "data": {
      "text/plain": [
       "['d', 'e', 'f']"
      ]
     },
     "execution_count": 12,
     "metadata": {},
     "output_type": "execute_result"
    }
   ],
   "source": [
    "letters[3:6]"
   ]
  },
  {
   "cell_type": "markdown",
   "metadata": {},
   "source": [
    "*Exercise 3*\n",
    "---\n",
    "Giocare un po' con le liste e con le operazioni che abbiamo visto:\n",
    "\n",
    "- creare una lista vuota e riempirla\n",
    "- inserirci, modificarne e cancellarne elementi\n",
    "- concatenarla con un'altra lista\n",
    "- aggiungerle un'altra lista\n",
    "- ordinarla in modo naturale e inverso\n",
    "- estrarne delle porzioni e assegnarle a variabili differenti; ricombinarle successivamente.\n",
    "- ..."
   ]
  },
  {
   "cell_type": "code",
   "execution_count": 41,
   "metadata": {},
   "outputs": [],
   "source": [
    "#FILL ME"
   ]
  },
  {
   "cell_type": "markdown",
   "metadata": {},
   "source": [
    "***for*** loops\n",
    "===\n",
    "Nella programmazione, un *ciclo* è un costrutto in cui si ripetono delle operazioni.\n",
    "\n",
    "In Python si può accedere in modo ordinato agli elementi di una lista attraverso un ciclo *for*.\n",
    "\n",
    "**Nota**: in Python l'indentazione è obbligatoria: Jupyter lo fa in automatico andando a capo dopo il for."
   ]
  },
  {
   "cell_type": "code",
   "execution_count": 92,
   "metadata": {},
   "outputs": [
    {
     "name": "stdout",
     "output_type": "stream",
     "text": [
      "triangle\n",
      "square\n",
      "circle\n",
      "hexagon\n"
     ]
    }
   ],
   "source": [
    "shapes = ['triangle', 'square', 'circle', 'hexagon']\n",
    "\n",
    "for shape in shapes:\n",
    "    print(shape)#codice indentato"
   ]
  },
  {
   "cell_type": "markdown",
   "metadata": {},
   "source": [
    "Nel codice qui sopra, *shape* contiene, ad ogni iterazione del ciclo, un oggetto della lista. E' una variabile, e può avere un nome qualsiasi."
   ]
  },
  {
   "cell_type": "code",
   "execution_count": 94,
   "metadata": {},
   "outputs": [
    {
     "name": "stdout",
     "output_type": "stream",
     "text": [
      "triangle\n",
      "square\n",
      "circle\n",
      "hexagon\n"
     ]
    }
   ],
   "source": [
    "shapes = ['triangle', 'square', 'circle', 'hexagon']\n",
    "\n",
    "for x in shapes:\n",
    "    print(x)#codice indentato"
   ]
  },
  {
   "cell_type": "markdown",
   "metadata": {},
   "source": [
    "Enumerating\n",
    "---\n",
    "Supponiamo di voler conoscere l'indice dell'iterazione corrente. In altre parole, oltre all'elemento, vogliamo conoscere anche la sua posizione nella lista."
   ]
  },
  {
   "cell_type": "code",
   "execution_count": 12,
   "metadata": {},
   "outputs": [
    {
     "name": "stdout",
     "output_type": "stream",
     "text": [
      "L'elemento in posizione 0 è triangle\n",
      "L'elemento in posizione 1 è square\n",
      "L'elemento in posizione 2 è circle\n",
      "L'elemento in posizione 3 è hexagon\n"
     ]
    }
   ],
   "source": [
    "shapes = ['triangle', 'square', 'circle', 'hexagon']\n",
    "counter = 0\n",
    "\n",
    "for shape in shapes:\n",
    "    print(\"L'elemento in posizione {} è {}\".format(counter, shape))#uso doppi apici perché stringa contiene '\n",
    "    counter += 1"
   ]
  },
  {
   "cell_type": "markdown",
   "metadata": {},
   "source": [
    "Quanto sopra si può realizzare in modo più compatto grazie alla funzione *enumerate*:\n",
    "\n",
    "        for index, element in enumerate(list):\n",
    "            ..."
   ]
  },
  {
   "cell_type": "code",
   "execution_count": 13,
   "metadata": {},
   "outputs": [
    {
     "name": "stdout",
     "output_type": "stream",
     "text": [
      "L'elemento in posizione 0 è triangle\n",
      "L'elemento in posizione 1 è square\n",
      "L'elemento in posizione 2 è circle\n",
      "L'elemento in posizione 3 è hexagon\n"
     ]
    }
   ],
   "source": [
    "shapes = ['triangle', 'square', 'circle', 'hexagon']\n",
    "\n",
    "for counter, shape in enumerate(shapes):#prima indice, poi elemento\n",
    "    print(\"L'elemento in posizione {} è {}\".format(counter, shape))"
   ]
  },
  {
   "cell_type": "markdown",
   "metadata": {},
   "source": [
    "Al solito, *counter* e *shape* sono solo nomi (qualsiasi) di variabile. Il loro ordine è invece obbligatorio!"
   ]
  },
  {
   "cell_type": "code",
   "execution_count": 14,
   "metadata": {},
   "outputs": [
    {
     "name": "stdout",
     "output_type": "stream",
     "text": [
      "L'elemento in posizione 0 è triangle\n",
      "L'elemento in posizione 1 è square\n",
      "L'elemento in posizione 2 è circle\n",
      "L'elemento in posizione 3 è hexagon\n"
     ]
    }
   ],
   "source": [
    "shapes = ['triangle', 'square', 'circle', 'hexagon']\n",
    "\n",
    "for i, x in enumerate(shapes):#prima indice, poi elemento\n",
    "    print(\"L'elemento in posizione {} è {}\".format(i, x))"
   ]
  },
  {
   "cell_type": "markdown",
   "metadata": {},
   "source": [
    "**Nota**: tutto quello che è indentato sotto il ciclo for viene eseguito, appunto, dentro il ciclo."
   ]
  },
  {
   "cell_type": "code",
   "execution_count": 13,
   "metadata": {},
   "outputs": [
    {
     "name": "stdout",
     "output_type": "stream",
     "text": [
      "L'elemento in posizione 0 è triangle\n",
      "Ciao mamma!\n",
      "L'elemento in posizione 1 è square\n",
      "Ciao mamma!\n",
      "L'elemento in posizione 2 è circle\n",
      "Ciao mamma!\n",
      "L'elemento in posizione 3 è hexagon\n",
      "Ciao mamma!\n"
     ]
    }
   ],
   "source": [
    "a = 'Ciao mamma!'\n",
    "shapes = ['triangle', 'square', 'circle', 'hexagon']\n",
    "\n",
    "for index, element in enumerate(shapes):\n",
    "    print(\"L'elemento in posizione {} è {}\".format(index, element))\n",
    "    print(a)#dentro il ciclo"
   ]
  },
  {
   "cell_type": "code",
   "execution_count": 14,
   "metadata": {},
   "outputs": [
    {
     "name": "stdout",
     "output_type": "stream",
     "text": [
      "L'elemento in posizione 0 è triangle\n",
      "L'elemento in posizione 1 è square\n",
      "L'elemento in posizione 2 è circle\n",
      "L'elemento in posizione 3 è hexagon\n",
      "Ciao mamma!\n"
     ]
    }
   ],
   "source": [
    "a = 'Ciao mamma!'\n",
    "shapes = ['triangle', 'square', 'circle', 'hexagon']\n",
    "\n",
    "for index, element in enumerate(shapes):#prima indice, poi elemento\n",
    "    print(\"L'elemento in posizione {} è {}\".format(index, element))\n",
    "\n",
    "print(a)#fuori dal ciclo"
   ]
  },
  {
   "cell_type": "markdown",
   "metadata": {},
   "source": [
    "*Exercise 4*\n",
    "---\n",
    "\n",
    "- creare una lista di numeri interi, float o misti\n",
    "- iterare sui numeri della lista, stampandoli insieme al loro indice\n",
    "- inserire in una lista di appoggio i quadrati dei numeri della lista\n",
    "- stampare la nuova lista per verificarne contenuto\n",
    "- come buona pratica, commentare il codice"
   ]
  },
  {
   "cell_type": "code",
   "execution_count": 81,
   "metadata": {},
   "outputs": [
    {
     "name": "stdout",
     "output_type": "stream",
     "text": [
      "100\n"
     ]
    }
   ],
   "source": [
    "#FILL ME\n",
    "print(10**2)#operatore 'al quadrato'"
   ]
  },
  {
   "cell_type": "markdown",
   "metadata": {},
   "source": [
    "List comprehensions\n",
    "---\n",
    "Come abbiamo visto nell'esercizio precedente, utilizzare un ciclo per costruire una lista a partire da un'altra è un po' macchinoso."
   ]
  },
  {
   "cell_type": "code",
   "execution_count": 16,
   "metadata": {},
   "outputs": [
    {
     "name": "stdout",
     "output_type": "stream",
     "text": [
      "['FRANCESCO', 'ELISA', 'ALESSANDRO', 'GIOVANNI', 'MARIA TERESA']\n"
     ]
    }
   ],
   "source": [
    "names = ['francesco', 'elisa', 'alessandro', 'giovanni', 'maria teresa']\n",
    "capitalized_names = []#lista di appoggio\n",
    "\n",
    "for n in names:\n",
    "    capitalized_names += [n.upper()]#riempo lista di appoggio\n",
    "    \n",
    "print(capitalized_names)"
   ]
  },
  {
   "cell_type": "markdown",
   "metadata": {},
   "source": [
    "Una *comprensione* esegue il ciclo in una riga, iterando sugli elementi della lista:\n",
    "\n",
    "        [f(x) for x in list]  \n",
    "\n",
    "In questo modo è possibile derivare nuove liste da una nota in modo comodo e compatto. E' uno dei costrutti base di Python più eleganti, ed è molto utilizzato."
   ]
  },
  {
   "cell_type": "code",
   "execution_count": 24,
   "metadata": {},
   "outputs": [
    {
     "data": {
      "text/plain": [
       "['FRANCESCO', 'ELISA', 'ALESSANDRO', 'GIOVANNI', 'MARIA TERESA']"
      ]
     },
     "execution_count": 24,
     "metadata": {},
     "output_type": "execute_result"
    }
   ],
   "source": [
    "capitalized_names = [n.upper() for n in names]\n",
    "\n",
    "capitalized_names"
   ]
  },
  {
   "cell_type": "code",
   "execution_count": 25,
   "metadata": {},
   "outputs": [
    {
     "data": {
      "text/plain": [
       "['F', 'E', 'A', 'G', 'M']"
      ]
     },
     "execution_count": 25,
     "metadata": {},
     "output_type": "execute_result"
    }
   ],
   "source": [
    "capitalized_initials = [n.upper()[0] for n in names]\n",
    "\n",
    "capitalized_initials"
   ]
  },
  {
   "cell_type": "markdown",
   "metadata": {},
   "source": [
    "*Exercise 5*\n",
    "--\n",
    "Le comprensioni di liste funzionano anche con l'enumerazione, cioè con l'indicizzazione dei singoli elementi:\n",
    "\n",
    "        [f(index, element) for index, element in enumerate(list)]"
   ]
  },
  {
   "cell_type": "code",
   "execution_count": 26,
   "metadata": {},
   "outputs": [
    {
     "data": {
      "text/plain": [
       "[[0, 'francesco'],\n",
       " [1, 'elisa'],\n",
       " [2, 'alessandro'],\n",
       " [3, 'giovanni'],\n",
       " [4, 'maria teresa']]"
      ]
     },
     "execution_count": 26,
     "metadata": {},
     "output_type": "execute_result"
    }
   ],
   "source": [
    "indexed_names = [[i, n] for i, n in enumerate(names)]\n",
    "\n",
    "indexed_names"
   ]
  },
  {
   "cell_type": "markdown",
   "metadata": {},
   "source": [
    "Ripetere l'enumerazione della cella precedente stampando i nomi in ordine alfabetico (una riga di codice!)."
   ]
  },
  {
   "cell_type": "code",
   "execution_count": 23,
   "metadata": {},
   "outputs": [
    {
     "data": {
      "text/plain": [
       "[[0, 'alessandro'],\n",
       " [1, 'elisa'],\n",
       " [2, 'francesco'],\n",
       " [3, 'giovanni'],\n",
       " [4, 'maria teresa']]"
      ]
     },
     "execution_count": 23,
     "metadata": {},
     "output_type": "execute_result"
    }
   ],
   "source": [
    "indexed_sorted_names = #FILL ME\n",
    "indexed_sorted_names"
   ]
  },
  {
   "cell_type": "markdown",
   "metadata": {},
   "source": [
    "*Exercise 6*\n",
    "---\n",
    "Ripetere l'esercizio 4 utilizzando una comprensione di lista."
   ]
  },
  {
   "cell_type": "code",
   "execution_count": null,
   "metadata": {},
   "outputs": [],
   "source": [
    "#FILL ME"
   ]
  },
  {
   "cell_type": "markdown",
   "metadata": {},
   "source": [
    "<script>\n",
    "  $(document).ready(function(){\n",
    "    $('div.back-to-top').hide();\n",
    "    $('nav#menubar').hide();\n",
    "    $('div.prompt').hide();\n",
    "    $('.hidden-print').hide();\n",
    "  });\n",
    "</script>\n",
    "\n",
    "<footer id=\"attribution\" style=\"float:right; color:#999; background:#fff;\">\n",
    "Created with Jupyter, delivered by Fastly, rendered by Rackspace.\n",
    "</footer>"
   ]
  }
 ],
 "metadata": {
  "kernelspec": {
   "display_name": "Python 3",
   "language": "python",
   "name": "python3"
  },
  "language_info": {
   "codemirror_mode": {
    "name": "ipython",
    "version": 3
   },
   "file_extension": ".py",
   "mimetype": "text/x-python",
   "name": "python",
   "nbconvert_exporter": "python",
   "pygments_lexer": "ipython3",
   "version": "3.8.3"
  }
 },
 "nbformat": 4,
 "nbformat_minor": 2
}
