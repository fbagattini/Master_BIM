{
 "cells": [
  {
   "cell_type": "markdown",
   "metadata": {},
   "source": [
    "*Contenuti*\n",
    "===\n",
    "- [Un database di proprietà immobiliari](#Un-database-di-proprietà-immobiliari)\n",
    "    - [Dizionari: definizione e sintassi](#Dizionari:-definizione-e-sintassi)\n",
    "    - [Accesso](#Accesso)\n",
    "    - [Operazioni su dizionario](#Operazioni-su-dizionario)\n",
    "    - [Ciclo sugli elementi di un dizionario](#Ciclo-sugli-elementi-di-un-dizionario)\n",
    "    - [*Esercizio 1*](#Esercizio-1)\n",
    "    - [*Esercizio 2*](#Esercizio-2)\n",
    "    - [*Esercizio 3*](#Esercizio-3)"
   ]
  },
  {
   "cell_type": "markdown",
   "metadata": {},
   "source": [
    "Un database di proprietà immobiliari\n",
    "===\n",
    "Spesso gli elementi di una lista hanno un significato particolare. Immaginiamo ad esempio di costruire un database di immobili, definiti da:\n",
    "\n",
    "- coordinate, come coppia (lon,lat) in gradi decimali\n",
    "- estensione in mq\n",
    "- presenza di terreno\n",
    "- prezzo, in migliaia di Euro\n",
    "\n",
    "Possiamo pensare di realizzare il database come una lista. A sua volta, ogni immboile sarà una lista di informazioni.\n",
    "\n",
    "Immaginiamo infine che all'inizio il database sia vuoto, e che venga popolato di nuovi record man mano che nuovi immobili vengono registrati (per esempio attraverso il form di un applicativo)."
   ]
  },
  {
   "cell_type": "code",
   "execution_count": 75,
   "metadata": {},
   "outputs": [
    {
     "name": "stdout",
     "output_type": "stream",
     "text": [
      "\n",
      "Proprietà 0 Coordinate:[12.3456, -56.789] Estensione(mq):2000 Terreno:False Prezzo(Eur):10K\n",
      "\n",
      "Proprietà 1 Coordinate:[-8.9101, 60.1234] Estensione(mq):12000 Terreno:False Prezzo(Eur):125K\n",
      "\n",
      "Proprietà 2 Coordinate:[45.6789, 10.3456] Estensione(mq):100 Terreno:True Prezzo(Eur):350K\n"
     ]
    }
   ],
   "source": [
    "properties = []#database vuoto\n",
    "\n",
    "r1 = [[12.3456, -56.7890], 2000 , False,   10]#creazione immobile\n",
    "properties += [r1]#aggiunta immobile al db\n",
    "\n",
    "r2 = [[-8.9101,  60.1234], 12000, False,  125]\n",
    "properties += [r2]\n",
    "\n",
    "r3 = [[45.6789,  10.3456], 100  , True,  350]\n",
    "properties += [r3]\n",
    "\n",
    "#...\n",
    "\n",
    "for i, prop in enumerate(properties):\n",
    "    print('\\nProprietà {} Coordinate:{} Estensione(mq):{} Terreno:{} Prezzo(Eur):{}K'.format(i,\n",
    "                                                                                             prop[0], \n",
    "                                                                                             prop[1],\n",
    "                                                                                             prop[2],\n",
    "                                                                                             prop[3]))"
   ]
  },
  {
   "cell_type": "markdown",
   "metadata": {},
   "source": [
    "Quando le informazioni di un immobile sono tante, però, gestirle in questo modo diventa scomodo. Infatti, per accedere ad una informazione dobbiamo saperne la posizione nella lista."
   ]
  },
  {
   "cell_type": "markdown",
   "metadata": {},
   "source": [
    "Dizionari: definizione e sintassi\n",
    "---\n",
    "\n",
    "Un *dizionario* è un contenitore speciale dove ogni elemento ha una *chiave* (cioè un identificatore univoco) e un *valore*."
   ]
  },
  {
   "cell_type": "code",
   "execution_count": null,
   "metadata": {},
   "outputs": [],
   "source": [
    "dictionary_name = {key1:value1, key1:value2}"
   ]
  },
  {
   "cell_type": "markdown",
   "metadata": {},
   "source": [
    "Il codice qui sopra è un esempio generale di come si dichiara un dizionario. \n",
    "\n",
    "- le coppie (chiave, valore) possono essere tante a piacere\n",
    "- i valori possono essere qualsiasi cosa (inclusi liste e altri dizionari)\n",
    "- una chiave non può essere ripetuta: per esempio, ciascun immobile avrà un solo prezzo, una sola metratura, ...\n",
    "- un dizionario si dichiara con le parentesi graffe.\n",
    "\n",
    "Tornando al nostro esempio, possiamo gestire il database di utenti come una lista di dizionari."
   ]
  },
  {
   "cell_type": "code",
   "execution_count": 76,
   "metadata": {},
   "outputs": [],
   "source": [
    "properties = []\n",
    "\n",
    "r1 = {'coordinates':[12.3456, -56.7890], 'extension':2000,  'has_land':False, 'price':10}\n",
    "properties += [r1]\n",
    "\n",
    "r2 = {'coordinates':[-8.9101,  60.1234], 'extension':12000, 'has_land':False, 'price':125}\n",
    "properties += [r2]\n",
    "\n",
    "r3 = {'coordinates':[45.6789,  10.3456], 'extension':100,   'has_land':True,  'price':350}\n",
    "properties += [r3]"
   ]
  },
  {
   "cell_type": "markdown",
   "metadata": {},
   "source": [
    "Accesso\n",
    "---\n",
    "Adesso possiamo accedere alle informazioni degli immobili in modo più compatto e leggibile, utilizzando la chiave che identifica un campo per ottenere il valore corrispondente."
   ]
  },
  {
   "cell_type": "code",
   "execution_count": 77,
   "metadata": {},
   "outputs": [
    {
     "name": "stdout",
     "output_type": "stream",
     "text": [
      "\n",
      "Proprietà 0 Coordinate:[12.3456, -56.789] Estensione(mq):2000 Terreno:False Prezzo(Eur):10K\n",
      "\n",
      "Proprietà 1 Coordinate:[-8.9101, 60.1234] Estensione(mq):12000 Terreno:False Prezzo(Eur):125K\n",
      "\n",
      "Proprietà 2 Coordinate:[45.6789, 10.3456] Estensione(mq):100 Terreno:True Prezzo(Eur):350K\n"
     ]
    }
   ],
   "source": [
    "for i, prop in enumerate(properties):\n",
    "    print('\\nProprietà {} Coordinate:{} Estensione(mq):{} Terreno:{} Prezzo(Eur):{}K'.format(i,\n",
    "                                                                                             prop['coordinates'], \n",
    "                                                                                             prop['extension'],\n",
    "                                                                                             prop['has_land'],\n",
    "                                                                                             prop['price']))"
   ]
  },
  {
   "cell_type": "markdown",
   "metadata": {},
   "source": [
    "Questo tipo di accesso è utile in molti contesti. Ecco un esempio con comprensione di lista."
   ]
  },
  {
   "cell_type": "code",
   "execution_count": 78,
   "metadata": {},
   "outputs": [
    {
     "data": {
      "text/plain": [
       "[10, 125, 350]"
      ]
     },
     "execution_count": 78,
     "metadata": {},
     "output_type": "execute_result"
    }
   ],
   "source": [
    "[prop['price'] for prop in properties]"
   ]
  },
  {
   "cell_type": "markdown",
   "metadata": {},
   "source": [
    "Operazioni su dizionario\n",
    "---\n",
    "Come abbiamo fatto per le liste, vediamo le operazioni di base che si possono fare su un dizionario.\n",
    "\n",
    "Cambiamo contesto applicativo. Un'agenzia immobiliare affitta appartamenti in una località marittima. Ciascun appartamento ha un nome univoco e un prezzo settimanale, e l'agenzia vuole costruire un database per contenere queste due informazioni: di quanti dizionari ho bisogno?"
   ]
  },
  {
   "cell_type": "code",
   "execution_count": 56,
   "metadata": {},
   "outputs": [
    {
     "data": {
      "text/plain": [
       "{'Villa Bianca': 500, 'Pino marittimo': 250, 'La stamberga': 100}"
      ]
     },
     "execution_count": 56,
     "metadata": {},
     "output_type": "execute_result"
    }
   ],
   "source": [
    "prices = {}#dizionario vuoto\n",
    "\n",
    "prices['Villa Bianca'] = 500#inserimento\n",
    "prices['Pino marittimo'] = 250\n",
    "prices['La stamberga'] = 100\n",
    "\n",
    "prices"
   ]
  },
  {
   "cell_type": "code",
   "execution_count": 62,
   "metadata": {},
   "outputs": [
    {
     "name": "stdout",
     "output_type": "stream",
     "text": [
      "Il prezzo settimanale di Villa Bianca è 500\n"
     ]
    }
   ],
   "source": [
    "print('Il prezzo settimanale di Villa Bianca è', prices['Villa Bianca'])#accesso tramite chiave"
   ]
  },
  {
   "cell_type": "code",
   "execution_count": 61,
   "metadata": {},
   "outputs": [
    {
     "name": "stdout",
     "output_type": "stream",
     "text": [
      "Il prezzo settimanale di La stamberga è 90\n"
     ]
    }
   ],
   "source": [
    "prices['La stamberga'] = 90#modifica del valore di una chiave esistente\n",
    "print('Il prezzo settimanale di La stamberga è', prices['La stamberga'])#accesso tramite chiave"
   ]
  },
  {
   "cell_type": "markdown",
   "metadata": {},
   "source": [
    "Ciclo sugli elementi di un dizionario\n",
    "---\n",
    "Attraverso la funzione *items* si accede alle coppie (chiave, valore) di un dizionario."
   ]
  },
  {
   "cell_type": "code",
   "execution_count": 64,
   "metadata": {},
   "outputs": [
    {
     "name": "stdout",
     "output_type": "stream",
     "text": [
      "Il prezzo settimanale di Villa Bianca è 500 Euro\n",
      "Il prezzo settimanale di Pino marittimo è 250 Euro\n",
      "Il prezzo settimanale di La stamberga è 90 Euro\n"
     ]
    }
   ],
   "source": [
    "for apt, price in prices.items():#chiave/valore\n",
    "    print('Il prezzo settimanale di {} è {} Euro'.format(apt, price))"
   ]
  },
  {
   "cell_type": "markdown",
   "metadata": {},
   "source": [
    "Si può accedere separatamente sia alle chiavi che ai valori."
   ]
  },
  {
   "cell_type": "code",
   "execution_count": 69,
   "metadata": {},
   "outputs": [
    {
     "name": "stdout",
     "output_type": "stream",
     "text": [
      "Denominazione: Villa Bianca\n",
      "Denominazione: Pino marittimo\n",
      "Denominazione: La stamberga\n"
     ]
    }
   ],
   "source": [
    "for apt in prices.keys():#chiavi\n",
    "    print('Denominazione:', apt)"
   ]
  },
  {
   "cell_type": "code",
   "execution_count": 71,
   "metadata": {},
   "outputs": [
    {
     "name": "stdout",
     "output_type": "stream",
     "text": [
      "Prezzo: 500\n",
      "Prezzo: 250\n",
      "Prezzo: 90\n"
     ]
    }
   ],
   "source": [
    "for price in prices.values():#valori\n",
    "    print('Prezzo:', price)"
   ]
  },
  {
   "cell_type": "markdown",
   "metadata": {},
   "source": [
    "I dizionari sono per costruzione *unordered*. Si può però accedere in modo ordinato a chiavi e valori: https://stackoverflow.com/questions/613183/how-do-i-sort-a-dictionary-by-value."
   ]
  },
  {
   "cell_type": "code",
   "execution_count": 74,
   "metadata": {},
   "outputs": [
    {
     "name": "stdout",
     "output_type": "stream",
     "text": [
      "Il prezzo di La stamberga è 90 Euro\n",
      "Il prezzo di Pino marittimo è 250 Euro\n",
      "Il prezzo di Villa Bianca è 500 Euro\n"
     ]
    }
   ],
   "source": [
    "for apt in sorted(prices.keys()):#ordinamento sulle chiavi\n",
    "    print('Il prezzo di {} è {} Euro'.format(apt, prices[apt]))"
   ]
  },
  {
   "cell_type": "markdown",
   "metadata": {},
   "source": [
    "*Esercizio 1*\n",
    "---\n",
    "Su https://en.wikipedia.org/wiki/List_of_mountains_by_elevation trovate l'elenco delle montagne più alte del mondo.\n",
    "\n",
    "- costruire una struttura dati *heights* che, per ognuna delle 5 montagne più alte, permetta di accedere all'altezza a partire dal nome\n",
    "- stampare le montagne in ordine alfabetico, riportandone nome, altezza e indice nell'ordinamento alfabetico\n",
    "        La montagna numero 1 è Kangchenjunga ed è alta 8,586 metri\n",
    "        La montagna numero 2 è K2 ed è alta 8,611 metri\n",
    "        ...\n",
    "        La montagna numero 5 è Mount Everest ed è alta 8,858 metri"
   ]
  },
  {
   "cell_type": "code",
   "execution_count": 4,
   "metadata": {},
   "outputs": [],
   "source": [
    "#FILL ME"
   ]
  },
  {
   "cell_type": "markdown",
   "metadata": {},
   "source": [
    "*Esercizio 2*\n",
    "---\n",
    "Utilizzando il link dell'esercizio precedente,\n",
    "\n",
    "- costruire un database *mountains* con le prime 5 montagne più alte\n",
    "- ogni record deve contenere nome, altezza e stato in cui si trova la montagna\n",
    "- stampare, in ordine di inserimento, tutte le informazioni di ogni montagna e l'indice di inserimento\n",
    "        La montagna numero 1 è Mount Everest, è alta 8858 metri e si trova in Nepal\n",
    "- costruire due liste *mountain_names* e *mountain_heights*, rispettivamente con nomi e altezze delle montagne inserite nel database\n",
    "- utilizzando le due liste, costruire lo stesso dizionario dell'esercizio precedente (l'ordine delle coppie non è importante)"
   ]
  },
  {
   "cell_type": "code",
   "execution_count": null,
   "metadata": {},
   "outputs": [],
   "source": [
    "#FILL ME"
   ]
  },
  {
   "cell_type": "markdown",
   "metadata": {},
   "source": [
    "*Esercizio 3*\n",
    "---\n",
    "Seguendo [quanto fatto in precedenza](#Dizionari:-definizione-e-sintassi), costruire un database di proprietà immobiliari con dati e campi a piacere.\n",
    "\n",
    "Definire una funzione che prenda in ingresso una singola proprietà immobiliare e ne stampi le informazioni, come [visto qui sopra](#Accesso).\n",
    "\n",
    "Iterare sugli immobili attraverso una enumerazione. Per ogni proprietà, stampare\n",
    "- l'indice di inserimento nel database\n",
    "- le sue informazioni, usando la funzione appena definita."
   ]
  },
  {
   "cell_type": "markdown",
   "metadata": {},
   "source": [
    "<script>\n",
    "  $(document).ready(function(){\n",
    "    $('div.back-to-top').hide();\n",
    "    $('nav#menubar').hide();\n",
    "    $('div.prompt').hide();\n",
    "    $('.hidden-print').hide();\n",
    "  });\n",
    "</script>\n",
    "\n",
    "<footer id=\"attribution\" style=\"float:right; color:#999; background:#fff;\">\n",
    "Created with Jupyter, delivered by Fastly, rendered by Rackspace.\n",
    "</footer>"
   ]
  }
 ],
 "metadata": {
  "kernelspec": {
   "display_name": "Python 3",
   "language": "python",
   "name": "python3"
  },
  "language_info": {
   "codemirror_mode": {
    "name": "ipython",
    "version": 3
   },
   "file_extension": ".py",
   "mimetype": "text/x-python",
   "name": "python",
   "nbconvert_exporter": "python",
   "pygments_lexer": "ipython3",
   "version": "3.6.8"
  }
 },
 "nbformat": 4,
 "nbformat_minor": 2
}
