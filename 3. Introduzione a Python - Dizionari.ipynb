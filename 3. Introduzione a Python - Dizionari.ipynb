{
 "cells": [
  {
   "cell_type": "markdown",
   "metadata": {},
   "source": [
    "*Contenuti*\n",
    "===\n",
    "- [Dizionari](#Dizionari)\n",
    "    - [Definizione e sintassi](#Definizione-e-sintassi)\n",
    "    - [Accesso](#Accesso)\n",
    "    - [Operazioni su dizionario](#Operazioni-su-dizionario)\n",
    "    - [Ciclo sugli elementi di un dizionario](#Ciclo-sugli-elementi-di-un-dizionario)\n",
    "    - [*Esercizio 1*](#Esercizio-1)\n",
    "    - [*Esercizio 2*](#Esercizio-2)"
   ]
  },
  {
   "cell_type": "markdown",
   "metadata": {},
   "source": [
    "Dizionari\n",
    "===\n",
    "Spesso gli elementi di una lista hanno un significato particolare. Immaginiamo ad esempio di costruire un database di utenti: ciascun utente ha un nome, un'età e un sesso.\n",
    "\n",
    "Possiamo pensare di realizzare il database come una lista. A sua volta, ogni contatto sarà una lista di informazioni."
   ]
  },
  {
   "cell_type": "code",
   "execution_count": 1,
   "metadata": {},
   "outputs": [
    {
     "name": "stdout",
     "output_type": "stream",
     "text": [
      "[['Francesco', 30, 'M'], ['Elisa', 27, 'F']]\n"
     ]
    }
   ],
   "source": [
    "users = []\n",
    "\n",
    "francesco = ['Francesco', 30, 'M']\n",
    "elisa = ['Elisa', 27, 'F']\n",
    "\n",
    "users += [francesco]\n",
    "users += [elisa]\n",
    "\n",
    "print(users)"
   ]
  },
  {
   "cell_type": "markdown",
   "metadata": {},
   "source": [
    "Vogliamo visualizzare le informazioni di ogni utente."
   ]
  },
  {
   "cell_type": "code",
   "execution_count": 2,
   "metadata": {},
   "outputs": [
    {
     "name": "stdout",
     "output_type": "stream",
     "text": [
      "Francesco(M) ha 30 anni\n",
      "Elisa(F) ha 27 anni\n"
     ]
    }
   ],
   "source": [
    "for user in users:\n",
    "    print('{}({}) ha {} anni'.format(user[0], user[2], user[1]))"
   ]
  },
  {
   "cell_type": "markdown",
   "metadata": {},
   "source": [
    "Quando le informazioni di un utente sono tante, però, gestirle in questo modo diventa scomodo. Infatti, per accedere ad un campo dobbiamo saperne la posizione nella lista."
   ]
  },
  {
   "cell_type": "markdown",
   "metadata": {},
   "source": [
    "Definizione e sintassi\n",
    "---\n",
    "\n",
    "Un *dizionario* è un contenitore speciale dove ogni elemento ha una *chiave* (cioè un identificatore univoco) e un *valore*."
   ]
  },
  {
   "cell_type": "code",
   "execution_count": null,
   "metadata": {},
   "outputs": [],
   "source": [
    "dictionary_name = {key1:value1, key1:value2}"
   ]
  },
  {
   "cell_type": "markdown",
   "metadata": {},
   "source": [
    "Il codice qui sopra è un esempio generale di come si dichiara un dizionario. \n",
    "\n",
    "- le coppie (chiave, valore) possono essere tante a piacere\n",
    "- i valori possono essere qualsiasi cosa (inclusi liste e altri dizionari)\n",
    "- una chiave non può essere ripetuta: per esempio, ciascun utente avrà un solo nome, una sola età, ...\n",
    "- un dizionario si dichiara con le parentesi graffe.\n",
    "\n",
    "Tornando al nostro esempio, possiamo gestire il database di utenti come una lista di dizionari."
   ]
  },
  {
   "cell_type": "code",
   "execution_count": 2,
   "metadata": {},
   "outputs": [
    {
     "name": "stdout",
     "output_type": "stream",
     "text": [
      "{'name': 'Francesco', 'age': 30, 'gender': 'M'}\n",
      "{'name': 'Elisa', 'age': 27, 'gender': 'F'}\n"
     ]
    }
   ],
   "source": [
    "francesco = {'name':'Francesco', 'age':30, 'gender':'M'}\n",
    "elisa = {'name':'Elisa', 'age':27, 'gender':'F'}\n",
    "print(francesco)\n",
    "print(elisa)"
   ]
  },
  {
   "cell_type": "code",
   "execution_count": 6,
   "metadata": {},
   "outputs": [
    {
     "data": {
      "text/plain": [
       "[{'name': 'Francesco', 'age': 30, 'gender': 'M'},\n",
       " {'name': 'Elisa', 'age': 27, 'gender': 'F'}]"
      ]
     },
     "execution_count": 6,
     "metadata": {},
     "output_type": "execute_result"
    }
   ],
   "source": [
    "[francesco, elisa]"
   ]
  },
  {
   "cell_type": "markdown",
   "metadata": {},
   "source": [
    "Accesso\n",
    "---\n",
    "Adesso possiamo accedere alle informazioni degli utenti in modo più compatto e leggibile, utilizzando la chiave che identifica un campo per ottenere il valore corrispondente."
   ]
  },
  {
   "cell_type": "code",
   "execution_count": 6,
   "metadata": {},
   "outputs": [
    {
     "name": "stdout",
     "output_type": "stream",
     "text": [
      "Francesco(M) ha 30 anni\n",
      "Elisa(F) ha 27 anni\n"
     ]
    }
   ],
   "source": [
    "for user in users:\n",
    "    print('{}({}) ha {} anni'.format(user['name'], user['gender'], user['age']))"
   ]
  },
  {
   "cell_type": "code",
   "execution_count": 7,
   "metadata": {},
   "outputs": [
    {
     "data": {
      "text/plain": [
       "['Francesco', 'Elisa']"
      ]
     },
     "execution_count": 7,
     "metadata": {},
     "output_type": "execute_result"
    }
   ],
   "source": [
    "[user['name'] for user in users]"
   ]
  },
  {
   "cell_type": "markdown",
   "metadata": {},
   "source": [
    "Operazioni su dizionario\n",
    "---\n",
    "Come abbiamo fatto per le liste, vediamo le operazioni di base che si possono fare su un dizionario."
   ]
  },
  {
   "cell_type": "code",
   "execution_count": 12,
   "metadata": {},
   "outputs": [
    {
     "data": {
      "text/plain": [
       "{'francesco': 3291015870, 'elisa': 3478090800}"
      ]
     },
     "execution_count": 12,
     "metadata": {},
     "output_type": "execute_result"
    }
   ],
   "source": [
    "tel_book = {}#dizionario vuoto\n",
    "\n",
    "tel_book['francesco'] = 3291015870#inserimento\n",
    "tel_book['elisa'] = 3478090800\n",
    "\n",
    "tel_book"
   ]
  },
  {
   "cell_type": "code",
   "execution_count": 13,
   "metadata": {},
   "outputs": [
    {
     "name": "stdout",
     "output_type": "stream",
     "text": [
      "Il numero di Francesco è 3291015870\n"
     ]
    }
   ],
   "source": [
    "print('Il numero di Francesco è', tel_book['francesco'])#accesso tramite chiave"
   ]
  },
  {
   "cell_type": "code",
   "execution_count": 14,
   "metadata": {},
   "outputs": [
    {
     "name": "stdout",
     "output_type": "stream",
     "text": [
      "Il nuovo numero di Francesco è 3289797970\n"
     ]
    }
   ],
   "source": [
    "tel_book['francesco'] = 3289797970#modifica del valore di una chiave esistente\n",
    "print('Il nuovo numero di Francesco è', tel_book['francesco'])"
   ]
  },
  {
   "cell_type": "markdown",
   "metadata": {},
   "source": [
    "Come abbiamo detto, un valore può essere qualsiasi cosa."
   ]
  },
  {
   "cell_type": "code",
   "execution_count": 15,
   "metadata": {},
   "outputs": [
    {
     "name": "stdout",
     "output_type": "stream",
     "text": [
      "I numeri di Alessandro sono [3205705700, 3289009000]\n"
     ]
    }
   ],
   "source": [
    "tel_book['alessandro'] = [3205705700, 3289009000]#lista come valore\n",
    "print('I numeri di Alessandro sono', tel_book['alessandro'])"
   ]
  },
  {
   "cell_type": "markdown",
   "metadata": {},
   "source": [
    "Ciclo sugli elementi di un dizionario\n",
    "---\n",
    "Attraverso la funzione *items* si accede alle coppie (chiave, valore) di un dizionario."
   ]
  },
  {
   "cell_type": "code",
   "execution_count": 16,
   "metadata": {},
   "outputs": [
    {
     "name": "stdout",
     "output_type": "stream",
     "text": [
      "Il numero di Francesco è 3289797970\n",
      "Il numero di Elisa è 3478090800\n",
      "Il numero di Alessandro è [3205705700, 3289009000]\n"
     ]
    }
   ],
   "source": [
    "for name, cell_number in tel_book.items():#chiave/valore\n",
    "    print('Il numero di {} è {}'.format(name.title(), cell_number))"
   ]
  },
  {
   "cell_type": "markdown",
   "metadata": {},
   "source": [
    "Si può accedere separatamente sia alle chiavi che ai valori."
   ]
  },
  {
   "cell_type": "code",
   "execution_count": 17,
   "metadata": {},
   "outputs": [
    {
     "name": "stdout",
     "output_type": "stream",
     "text": [
      "Nome: Francesco\n",
      "Nome: Elisa\n",
      "Nome: Alessandro\n"
     ]
    }
   ],
   "source": [
    "for name in tel_book.keys():#chiavi\n",
    "    print('Nome:', name.title())"
   ]
  },
  {
   "cell_type": "code",
   "execution_count": 18,
   "metadata": {},
   "outputs": [
    {
     "name": "stdout",
     "output_type": "stream",
     "text": [
      "Numero: 3289797970\n",
      "Numero: 3478090800\n",
      "Numero: [3205705700, 3289009000]\n"
     ]
    }
   ],
   "source": [
    "for number in tel_book.values():#valori\n",
    "    print('Numero:', number)"
   ]
  },
  {
   "cell_type": "markdown",
   "metadata": {},
   "source": [
    "I dizionari sono per costruzione *unordered*. Si può però accedere in modo ordinato a chiavi e valori: https://stackoverflow.com/questions/613183/how-do-i-sort-a-dictionary-by-value."
   ]
  },
  {
   "cell_type": "code",
   "execution_count": 11,
   "metadata": {},
   "outputs": [
    {
     "name": "stdout",
     "output_type": "stream",
     "text": [
      "Il numero di Elisa è 3478090800\n",
      "Il numero di Francesco è 3289797970\n",
      "Il numero di Michael è 3407876547\n"
     ]
    }
   ],
   "source": [
    "for name in sorted(tel_book.keys()):#ordinamento sulle chiavi\n",
    "    print('Il numero di {} è {}'.format(name.title(), tel_book[name]))"
   ]
  },
  {
   "cell_type": "markdown",
   "metadata": {},
   "source": [
    "*Esercizio 1*\n",
    "---\n",
    "Su https://en.wikipedia.org/wiki/List_of_mountains_by_elevation trovate l'elenco delle montagne più alte del mondo.\n",
    "\n",
    "- costruire una struttura dati *heights* che, per ognuna delle 5 montagne più alte, permetta di accedere all'altezza a partire dal nome\n",
    "- stampare le montagne in ordine alfabetico, riportandone nome, altezza e indice nell'ordinamento alfabetico\n",
    "        La montagna numero 1 è Kangchenjunga ed è alta 8,586 metri\n",
    "        La montagna numero 2 è K2 ed è alta 8,611 metri\n",
    "        ...\n",
    "        La montagna numero 5 è Mount Everest ed è alta 8,858 metri"
   ]
  },
  {
   "cell_type": "code",
   "execution_count": 4,
   "metadata": {},
   "outputs": [],
   "source": [
    "#FILL ME"
   ]
  },
  {
   "cell_type": "markdown",
   "metadata": {},
   "source": [
    "*Esercizio 2*\n",
    "---\n",
    "Utilizzando il link dell'esercizio precedente,\n",
    "\n",
    "- costruire un database *mountains* con le prime 5 montagne più alte\n",
    "- ogni record deve contenere nome, altezza e stato in cui si trova la montagna\n",
    "- stampare, in ordine di inserimento, tutte le informazioni di ogni montagna e l'indice di inserimento\n",
    "        La montagna numero 1 è Mount Everest, è alta 8858 metri e si trova in Nepal\n",
    "- costruire due liste *mountain_names* e *mountain_heights*, rispettivamente con nomi e altezze delle montagne inserite nel database\n",
    "- utilizzando le due liste, costruire lo stesso dizionario dell'esercizio precedente (l'ordine delle coppie non è importante)"
   ]
  },
  {
   "cell_type": "code",
   "execution_count": null,
   "metadata": {},
   "outputs": [],
   "source": [
    "#FILL ME"
   ]
  },
  {
   "cell_type": "markdown",
   "metadata": {},
   "source": [
    "<script>\n",
    "  $(document).ready(function(){\n",
    "    $('div.back-to-top').hide();\n",
    "    $('nav#menubar').hide();\n",
    "    $('div.prompt').hide();\n",
    "    $('.hidden-print').hide();\n",
    "  });\n",
    "</script>\n",
    "\n",
    "<footer id=\"attribution\" style=\"float:right; color:#999; background:#fff;\">\n",
    "Created with Jupyter, delivered by Fastly, rendered by Rackspace.\n",
    "</footer>"
   ]
  }
 ],
 "metadata": {
  "kernelspec": {
   "display_name": "Python 3",
   "language": "python",
   "name": "python3"
  },
  "language_info": {
   "codemirror_mode": {
    "name": "ipython",
    "version": 3
   },
   "file_extension": ".py",
   "mimetype": "text/x-python",
   "name": "python",
   "nbconvert_exporter": "python",
   "pygments_lexer": "ipython3",
   "version": "3.6.8"
  }
 },
 "nbformat": 4,
 "nbformat_minor": 2
}
