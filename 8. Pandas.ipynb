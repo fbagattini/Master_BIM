{
 "cells": [
  {
   "cell_type": "markdown",
   "metadata": {},
   "source": [
    "*Contenuti*\n",
    "===\n",
    "- [La libreria Pandas](#La-libreria-Pandas)\n",
    "    - [Il dataset *nyc-rolling-sales*](#Il-dataset-nyc-rolling-sales)"
   ]
  },
  {
   "cell_type": "markdown",
   "metadata": {},
   "source": [
    "La libreria Pandas\n",
    "===\n",
    "\n",
    "*Pandas* è la libreria di Python per la visualizzazione, manipolazione e analisi dei dati grezzi.\n",
    "\n",
    "Ispirata ai *dataframe* del linguaggio *R*, è relativamente nuova per Python. Mette a disposizione centinaia di funzioni, anche grafiche, e richiede un po' di sforzo iniziale. Con questo strumento, però, possiamo fare *tutto* senza uscire dal nostro notebook jupyter.\n",
    "\n",
    "In rete trovate svariate introduzioni all'utilizzo della libreria:\n",
    "\n",
    "- https://pandas.pydata.org/pandas-docs/stable/getting_started/10min.html\n",
    "- https://www.learndatasci.com/tutorials/python-pandas-tutorial-complete-introduction-for-beginners/\n",
    "- https://www.pythonforengineers.com/introduction-to-pandas/\n",
    "- https://www.codecademy.com/learn/data-processing-pandas/modules/dspath-intro-pandas\n",
    "\n",
    "\n",
    "In questo notebook vediamo alcuni esempi di utilizzo che sfruttiamo per ripulire un dataset realistico, in modo da poterci fare machine learning (con gli strumenti visti nelle Lezioni 6 e 7).\n",
    "\n",
    "Come al solito, importiamo la libreria e diamogli un nome convenzionale."
   ]
  },
  {
   "cell_type": "code",
   "execution_count": 14,
   "metadata": {},
   "outputs": [
    {
     "data": {
      "text/plain": [
       "'0.24.2'"
      ]
     },
     "execution_count": 14,
     "metadata": {},
     "output_type": "execute_result"
    }
   ],
   "source": [
    "import pandas as pd\n",
    "\n",
    "pd.__version__"
   ]
  },
  {
   "cell_type": "markdown",
   "metadata": {},
   "source": [
    "Il dataset *nyc-rolling-sales*\n",
    "---\n",
    "\n",
    "Finora abbiamo ottenuto dati:\n",
    "\n",
    "- generandoli casualmente\n",
    "- importandoli dai toy dataset di sklearn.\n",
    "\n",
    "Questi erano già in forma numerica, pronti per fare machine learning. Più realisticamente, troviamo dati su file .csv in formato misto.\n",
    "\n",
    "Quello che useremo in questo notebook è preso da *Kaggle*. Kaggle è un sito che ospita competizioni di machine learning, e un hub per la data science. E' utilissimo per fare pratica: oltre a molti dataset realistici, https://www.kaggle.com/datasets, sono disponibili centinaia di notebook come questo (chiamati *kernel*) con esempi pratici.\n",
    "\n",
    "In particolare, il dataset *nyc-rolling-sales* contiene le informazioni di tutti gli edifici e le unità abitative vendute a New York negli ultimi 12 mesi. In questo caso, il periodo considerato è 9/16 - 9/17:\n",
    "\n",
    "https://www.kaggle.com/new-york-city/nyc-property-sales.\n",
    "\n",
    "Qui trovate un glossario delle feature: https://www1.nyc.gov/assets/finance/downloads/pdf/07pdf/glossary_rsf071607.pdf"
   ]
  },
  {
   "cell_type": "code",
   "execution_count": 3,
   "metadata": {},
   "outputs": [
    {
     "data": {
      "text/html": [
       "<div>\n",
       "<style scoped>\n",
       "    .dataframe tbody tr th:only-of-type {\n",
       "        vertical-align: middle;\n",
       "    }\n",
       "\n",
       "    .dataframe tbody tr th {\n",
       "        vertical-align: top;\n",
       "    }\n",
       "\n",
       "    .dataframe thead th {\n",
       "        text-align: right;\n",
       "    }\n",
       "</style>\n",
       "<table border=\"1\" class=\"dataframe\">\n",
       "  <thead>\n",
       "    <tr style=\"text-align: right;\">\n",
       "      <th></th>\n",
       "      <th>BOROUGH</th>\n",
       "      <th>NEIGHBORHOOD</th>\n",
       "      <th>BUILDING CLASS</th>\n",
       "      <th>TAX CLASS AT PRESENT</th>\n",
       "      <th>BLOCK</th>\n",
       "      <th>LOT</th>\n",
       "      <th>BUILDING CLASS AT PRESENT</th>\n",
       "      <th>ADDRESS</th>\n",
       "      <th>APARTMENT NUMBER</th>\n",
       "      <th>ZIP CODE</th>\n",
       "      <th>RESIDENTIAL UNITS</th>\n",
       "      <th>COMMERCIAL UNITS</th>\n",
       "      <th>LAND SQUARE FEET</th>\n",
       "      <th>GROSS SQUARE FEET</th>\n",
       "      <th>YEAR BUILT</th>\n",
       "      <th>TAX CLASS</th>\n",
       "      <th>BUILDING CLASS AT TIME OF SALE</th>\n",
       "      <th>SALE DATE</th>\n",
       "      <th>SALE PRICE</th>\n",
       "    </tr>\n",
       "  </thead>\n",
       "  <tbody>\n",
       "    <tr>\n",
       "      <th>0</th>\n",
       "      <td>MANHATTAN</td>\n",
       "      <td>ALPHABET CITY</td>\n",
       "      <td>07 RENTALS - WALKUP APARTMENTS</td>\n",
       "      <td>2A</td>\n",
       "      <td>392</td>\n",
       "      <td>6</td>\n",
       "      <td>C2</td>\n",
       "      <td>153 AVENUE B</td>\n",
       "      <td></td>\n",
       "      <td>10009</td>\n",
       "      <td>5</td>\n",
       "      <td>0</td>\n",
       "      <td>1633</td>\n",
       "      <td>6440</td>\n",
       "      <td>1900</td>\n",
       "      <td>2</td>\n",
       "      <td>C2</td>\n",
       "      <td>2017-07-19 00:00:00</td>\n",
       "      <td>6625000</td>\n",
       "    </tr>\n",
       "    <tr>\n",
       "      <th>1</th>\n",
       "      <td>MANHATTAN</td>\n",
       "      <td>ALPHABET CITY</td>\n",
       "      <td>07 RENTALS - WALKUP APARTMENTS</td>\n",
       "      <td>2B</td>\n",
       "      <td>402</td>\n",
       "      <td>21</td>\n",
       "      <td>C4</td>\n",
       "      <td>154 EAST 7TH STREET</td>\n",
       "      <td></td>\n",
       "      <td>10009</td>\n",
       "      <td>10</td>\n",
       "      <td>0</td>\n",
       "      <td>2272</td>\n",
       "      <td>6794</td>\n",
       "      <td>1913</td>\n",
       "      <td>2</td>\n",
       "      <td>C4</td>\n",
       "      <td>2016-09-23 00:00:00</td>\n",
       "      <td>3936272</td>\n",
       "    </tr>\n",
       "    <tr>\n",
       "      <th>2</th>\n",
       "      <td>MANHATTAN</td>\n",
       "      <td>ALPHABET CITY</td>\n",
       "      <td>07 RENTALS - WALKUP APARTMENTS</td>\n",
       "      <td>2A</td>\n",
       "      <td>404</td>\n",
       "      <td>55</td>\n",
       "      <td>C2</td>\n",
       "      <td>301 EAST 10TH   STREET</td>\n",
       "      <td></td>\n",
       "      <td>10009</td>\n",
       "      <td>6</td>\n",
       "      <td>0</td>\n",
       "      <td>2369</td>\n",
       "      <td>4615</td>\n",
       "      <td>1900</td>\n",
       "      <td>2</td>\n",
       "      <td>C2</td>\n",
       "      <td>2016-11-17 00:00:00</td>\n",
       "      <td>8000000</td>\n",
       "    </tr>\n",
       "    <tr>\n",
       "      <th>3</th>\n",
       "      <td>MANHATTAN</td>\n",
       "      <td>ALPHABET CITY</td>\n",
       "      <td>07 RENTALS - WALKUP APARTMENTS</td>\n",
       "      <td>2B</td>\n",
       "      <td>406</td>\n",
       "      <td>32</td>\n",
       "      <td>C4</td>\n",
       "      <td>210 AVENUE B</td>\n",
       "      <td></td>\n",
       "      <td>10009</td>\n",
       "      <td>8</td>\n",
       "      <td>0</td>\n",
       "      <td>1750</td>\n",
       "      <td>4226</td>\n",
       "      <td>1920</td>\n",
       "      <td>2</td>\n",
       "      <td>C4</td>\n",
       "      <td>2016-09-23 00:00:00</td>\n",
       "      <td>3192840</td>\n",
       "    </tr>\n",
       "    <tr>\n",
       "      <th>4</th>\n",
       "      <td>MANHATTAN</td>\n",
       "      <td>ALPHABET CITY</td>\n",
       "      <td>08 RENTALS - ELEVATOR APARTMENTS</td>\n",
       "      <td>2</td>\n",
       "      <td>387</td>\n",
       "      <td>153</td>\n",
       "      <td>D9</td>\n",
       "      <td>629 EAST 5TH STREET</td>\n",
       "      <td></td>\n",
       "      <td>10009</td>\n",
       "      <td>24</td>\n",
       "      <td>0</td>\n",
       "      <td>4489</td>\n",
       "      <td>18523</td>\n",
       "      <td>1920</td>\n",
       "      <td>2</td>\n",
       "      <td>D9</td>\n",
       "      <td>2016-11-07 00:00:00</td>\n",
       "      <td>16232000</td>\n",
       "    </tr>\n",
       "  </tbody>\n",
       "</table>\n",
       "</div>"
      ],
      "text/plain": [
       "     BOROUGH   NEIGHBORHOOD                               BUILDING CLASS  \\\n",
       "0  MANHATTAN  ALPHABET CITY  07 RENTALS - WALKUP APARTMENTS                \n",
       "1  MANHATTAN  ALPHABET CITY  07 RENTALS - WALKUP APARTMENTS                \n",
       "2  MANHATTAN  ALPHABET CITY  07 RENTALS - WALKUP APARTMENTS                \n",
       "3  MANHATTAN  ALPHABET CITY  07 RENTALS - WALKUP APARTMENTS                \n",
       "4  MANHATTAN  ALPHABET CITY  08 RENTALS - ELEVATOR APARTMENTS              \n",
       "\n",
       "  TAX CLASS AT PRESENT  BLOCK  LOT BUILDING CLASS AT PRESENT  \\\n",
       "0                   2A    392    6                        C2   \n",
       "1                   2B    402   21                        C4   \n",
       "2                   2A    404   55                        C2   \n",
       "3                   2B    406   32                        C4   \n",
       "4                    2    387  153                        D9   \n",
       "\n",
       "                  ADDRESS APARTMENT NUMBER  ZIP CODE  RESIDENTIAL UNITS  \\\n",
       "0            153 AVENUE B                      10009                  5   \n",
       "1     154 EAST 7TH STREET                      10009                 10   \n",
       "2  301 EAST 10TH   STREET                      10009                  6   \n",
       "3            210 AVENUE B                      10009                  8   \n",
       "4     629 EAST 5TH STREET                      10009                 24   \n",
       "\n",
       "   COMMERCIAL UNITS  LAND SQUARE FEET  GROSS SQUARE FEET  YEAR BUILT  \\\n",
       "0                 0              1633               6440        1900   \n",
       "1                 0              2272               6794        1913   \n",
       "2                 0              2369               4615        1900   \n",
       "3                 0              1750               4226        1920   \n",
       "4                 0              4489              18523        1920   \n",
       "\n",
       "   TAX CLASS BUILDING CLASS AT TIME OF SALE            SALE DATE  SALE PRICE  \n",
       "0          2                             C2  2017-07-19 00:00:00     6625000  \n",
       "1          2                             C4  2016-09-23 00:00:00     3936272  \n",
       "2          2                             C2  2016-11-17 00:00:00     8000000  \n",
       "3          2                             C4  2016-09-23 00:00:00     3192840  \n",
       "4          2                             D9  2016-11-07 00:00:00    16232000  "
      ]
     },
     "execution_count": 3,
     "metadata": {},
     "output_type": "execute_result"
    }
   ],
   "source": [
    "df = pd.read_csv('data/nyc_rolling_sales.csv')\n",
    "\n",
    "df.head()"
   ]
  },
  {
   "cell_type": "code",
   "execution_count": 4,
   "metadata": {},
   "outputs": [
    {
     "data": {
      "text/plain": [
       "(29334, 19)"
      ]
     },
     "execution_count": 4,
     "metadata": {},
     "output_type": "execute_result"
    }
   ],
   "source": [
    "df.shape"
   ]
  },
  {
   "cell_type": "code",
   "execution_count": 6,
   "metadata": {},
   "outputs": [
    {
     "data": {
      "text/plain": [
       "Index(['BOROUGH', 'NEIGHBORHOOD', 'BUILDING CLASS', 'TAX CLASS AT PRESENT',\n",
       "       'BLOCK', 'LOT', 'BUILDING CLASS AT PRESENT', 'ADDRESS',\n",
       "       'APARTMENT NUMBER', 'ZIP CODE', 'RESIDENTIAL UNITS', 'COMMERCIAL UNITS',\n",
       "       'LAND SQUARE FEET', 'GROSS SQUARE FEET', 'YEAR BUILT', 'TAX CLASS',\n",
       "       'BUILDING CLASS AT TIME OF SALE', 'SALE DATE', 'SALE PRICE'],\n",
       "      dtype='object')"
      ]
     },
     "execution_count": 6,
     "metadata": {},
     "output_type": "execute_result"
    }
   ],
   "source": [
    "df.columns"
   ]
  },
  {
   "cell_type": "code",
   "execution_count": 5,
   "metadata": {},
   "outputs": [
    {
     "name": "stdout",
     "output_type": "stream",
     "text": [
      "<class 'pandas.core.frame.DataFrame'>\n",
      "RangeIndex: 29334 entries, 0 to 29333\n",
      "Data columns (total 19 columns):\n",
      "BOROUGH                           29334 non-null object\n",
      "NEIGHBORHOOD                      29334 non-null object\n",
      "BUILDING CLASS                    29334 non-null object\n",
      "TAX CLASS AT PRESENT              29334 non-null object\n",
      "BLOCK                             29334 non-null int64\n",
      "LOT                               29334 non-null int64\n",
      "BUILDING CLASS AT PRESENT         29334 non-null object\n",
      "ADDRESS                           29334 non-null object\n",
      "APARTMENT NUMBER                  29334 non-null object\n",
      "ZIP CODE                          29334 non-null int64\n",
      "RESIDENTIAL UNITS                 29334 non-null int64\n",
      "COMMERCIAL UNITS                  29334 non-null int64\n",
      "LAND SQUARE FEET                  29334 non-null int64\n",
      "GROSS SQUARE FEET                 29334 non-null int64\n",
      "YEAR BUILT                        29334 non-null int64\n",
      "TAX CLASS                         29334 non-null int64\n",
      "BUILDING CLASS AT TIME OF SALE    29334 non-null object\n",
      "SALE DATE                         29334 non-null object\n",
      "SALE PRICE                        29334 non-null int64\n",
      "dtypes: int64(10), object(9)\n",
      "memory usage: 4.3+ MB\n"
     ]
    }
   ],
   "source": [
    "df.info()"
   ]
  },
  {
   "cell_type": "code",
   "execution_count": 9,
   "metadata": {},
   "outputs": [
    {
     "data": {
      "text/plain": [
       "0     ALPHABET CITY\n",
       "1     ALPHABET CITY\n",
       "2     ALPHABET CITY\n",
       "3     ALPHABET CITY\n",
       "4     ALPHABET CITY\n",
       "5     ALPHABET CITY\n",
       "6     ALPHABET CITY\n",
       "7     ALPHABET CITY\n",
       "8     ALPHABET CITY\n",
       "9     ALPHABET CITY\n",
       "10    ALPHABET CITY\n",
       "11    ALPHABET CITY\n",
       "12          CHELSEA\n",
       "13          CHELSEA\n",
       "14          CHELSEA\n",
       "15          CHELSEA\n",
       "16          CHELSEA\n",
       "17          CHELSEA\n",
       "18          CHELSEA\n",
       "19          CHELSEA\n",
       "Name: NEIGHBORHOOD, dtype: object"
      ]
     },
     "execution_count": 9,
     "metadata": {},
     "output_type": "execute_result"
    }
   ],
   "source": [
    "df['NEIGHBORHOOD'].head(20)"
   ]
  },
  {
   "cell_type": "code",
   "execution_count": 10,
   "metadata": {},
   "outputs": [
    {
     "data": {
      "text/html": [
       "<div>\n",
       "<style scoped>\n",
       "    .dataframe tbody tr th:only-of-type {\n",
       "        vertical-align: middle;\n",
       "    }\n",
       "\n",
       "    .dataframe tbody tr th {\n",
       "        vertical-align: top;\n",
       "    }\n",
       "\n",
       "    .dataframe thead th {\n",
       "        text-align: right;\n",
       "    }\n",
       "</style>\n",
       "<table border=\"1\" class=\"dataframe\">\n",
       "  <thead>\n",
       "    <tr style=\"text-align: right;\">\n",
       "      <th></th>\n",
       "      <th>SALE DATE</th>\n",
       "      <th>NEIGHBORHOOD</th>\n",
       "      <th>SALE PRICE</th>\n",
       "    </tr>\n",
       "  </thead>\n",
       "  <tbody>\n",
       "    <tr>\n",
       "      <th>0</th>\n",
       "      <td>2017-07-19 00:00:00</td>\n",
       "      <td>ALPHABET CITY</td>\n",
       "      <td>6625000</td>\n",
       "    </tr>\n",
       "    <tr>\n",
       "      <th>1</th>\n",
       "      <td>2016-09-23 00:00:00</td>\n",
       "      <td>ALPHABET CITY</td>\n",
       "      <td>3936272</td>\n",
       "    </tr>\n",
       "    <tr>\n",
       "      <th>2</th>\n",
       "      <td>2016-11-17 00:00:00</td>\n",
       "      <td>ALPHABET CITY</td>\n",
       "      <td>8000000</td>\n",
       "    </tr>\n",
       "    <tr>\n",
       "      <th>3</th>\n",
       "      <td>2016-09-23 00:00:00</td>\n",
       "      <td>ALPHABET CITY</td>\n",
       "      <td>3192840</td>\n",
       "    </tr>\n",
       "    <tr>\n",
       "      <th>4</th>\n",
       "      <td>2016-11-07 00:00:00</td>\n",
       "      <td>ALPHABET CITY</td>\n",
       "      <td>16232000</td>\n",
       "    </tr>\n",
       "    <tr>\n",
       "      <th>5</th>\n",
       "      <td>2016-10-17 00:00:00</td>\n",
       "      <td>ALPHABET CITY</td>\n",
       "      <td>10350000</td>\n",
       "    </tr>\n",
       "    <tr>\n",
       "      <th>6</th>\n",
       "      <td>2017-06-21 00:00:00</td>\n",
       "      <td>ALPHABET CITY</td>\n",
       "      <td>11900000</td>\n",
       "    </tr>\n",
       "    <tr>\n",
       "      <th>7</th>\n",
       "      <td>2016-10-13 00:00:00</td>\n",
       "      <td>ALPHABET CITY</td>\n",
       "      <td>28000000</td>\n",
       "    </tr>\n",
       "    <tr>\n",
       "      <th>8</th>\n",
       "      <td>2016-11-15 00:00:00</td>\n",
       "      <td>ALPHABET CITY</td>\n",
       "      <td>3300000</td>\n",
       "    </tr>\n",
       "    <tr>\n",
       "      <th>9</th>\n",
       "      <td>2017-01-30 00:00:00</td>\n",
       "      <td>ALPHABET CITY</td>\n",
       "      <td>7215000</td>\n",
       "    </tr>\n",
       "    <tr>\n",
       "      <th>10</th>\n",
       "      <td>2017-04-03 00:00:00</td>\n",
       "      <td>ALPHABET CITY</td>\n",
       "      <td>4750000</td>\n",
       "    </tr>\n",
       "    <tr>\n",
       "      <th>11</th>\n",
       "      <td>2016-09-28 00:00:00</td>\n",
       "      <td>ALPHABET CITY</td>\n",
       "      <td>3700000</td>\n",
       "    </tr>\n",
       "    <tr>\n",
       "      <th>12</th>\n",
       "      <td>2016-12-30 00:00:00</td>\n",
       "      <td>CHELSEA</td>\n",
       "      <td>7425000</td>\n",
       "    </tr>\n",
       "    <tr>\n",
       "      <th>13</th>\n",
       "      <td>2017-01-30 00:00:00</td>\n",
       "      <td>CHELSEA</td>\n",
       "      <td>10</td>\n",
       "    </tr>\n",
       "    <tr>\n",
       "      <th>14</th>\n",
       "      <td>2017-01-30 00:00:00</td>\n",
       "      <td>CHELSEA</td>\n",
       "      <td>10</td>\n",
       "    </tr>\n",
       "    <tr>\n",
       "      <th>15</th>\n",
       "      <td>2017-01-30 00:00:00</td>\n",
       "      <td>CHELSEA</td>\n",
       "      <td>10</td>\n",
       "    </tr>\n",
       "    <tr>\n",
       "      <th>16</th>\n",
       "      <td>2017-04-17 00:00:00</td>\n",
       "      <td>CHELSEA</td>\n",
       "      <td>7750000</td>\n",
       "    </tr>\n",
       "    <tr>\n",
       "      <th>17</th>\n",
       "      <td>2017-02-02 00:00:00</td>\n",
       "      <td>CHELSEA</td>\n",
       "      <td>8300000</td>\n",
       "    </tr>\n",
       "    <tr>\n",
       "      <th>18</th>\n",
       "      <td>2016-09-08 00:00:00</td>\n",
       "      <td>CHELSEA</td>\n",
       "      <td>16000000</td>\n",
       "    </tr>\n",
       "    <tr>\n",
       "      <th>19</th>\n",
       "      <td>2016-10-26 00:00:00</td>\n",
       "      <td>CHELSEA</td>\n",
       "      <td>5950000</td>\n",
       "    </tr>\n",
       "  </tbody>\n",
       "</table>\n",
       "</div>"
      ],
      "text/plain": [
       "              SALE DATE   NEIGHBORHOOD  SALE PRICE\n",
       "0   2017-07-19 00:00:00  ALPHABET CITY     6625000\n",
       "1   2016-09-23 00:00:00  ALPHABET CITY     3936272\n",
       "2   2016-11-17 00:00:00  ALPHABET CITY     8000000\n",
       "3   2016-09-23 00:00:00  ALPHABET CITY     3192840\n",
       "4   2016-11-07 00:00:00  ALPHABET CITY    16232000\n",
       "5   2016-10-17 00:00:00  ALPHABET CITY    10350000\n",
       "6   2017-06-21 00:00:00  ALPHABET CITY    11900000\n",
       "7   2016-10-13 00:00:00  ALPHABET CITY    28000000\n",
       "8   2016-11-15 00:00:00  ALPHABET CITY     3300000\n",
       "9   2017-01-30 00:00:00  ALPHABET CITY     7215000\n",
       "10  2017-04-03 00:00:00  ALPHABET CITY     4750000\n",
       "11  2016-09-28 00:00:00  ALPHABET CITY     3700000\n",
       "12  2016-12-30 00:00:00        CHELSEA     7425000\n",
       "13  2017-01-30 00:00:00        CHELSEA          10\n",
       "14  2017-01-30 00:00:00        CHELSEA          10\n",
       "15  2017-01-30 00:00:00        CHELSEA          10\n",
       "16  2017-04-17 00:00:00        CHELSEA     7750000\n",
       "17  2017-02-02 00:00:00        CHELSEA     8300000\n",
       "18  2016-09-08 00:00:00        CHELSEA    16000000\n",
       "19  2016-10-26 00:00:00        CHELSEA     5950000"
      ]
     },
     "execution_count": 10,
     "metadata": {},
     "output_type": "execute_result"
    }
   ],
   "source": [
    "df[['SALE DATE', 'NEIGHBORHOOD', 'SALE PRICE']].head(20)"
   ]
  },
  {
   "cell_type": "code",
   "execution_count": 179,
   "metadata": {},
   "outputs": [
    {
     "data": {
      "text/plain": [
       "BOROUGH\n",
       "BRONX            7.062025e+05\n",
       "BROOKLYN         1.129855e+06\n",
       "MANHATTAN        4.334480e+06\n",
       "QUEENS           7.237156e+05\n",
       "STATEN ISLAND    5.179431e+05\n",
       "Name: SALE PRICE, dtype: float64"
      ]
     },
     "execution_count": 179,
     "metadata": {},
     "output_type": "execute_result"
    }
   ],
   "source": [
    "df['SALE PRICE'].groupby(df['BOROUGH']).mean()"
   ]
  },
  {
   "cell_type": "code",
   "execution_count": 177,
   "metadata": {},
   "outputs": [
    {
     "data": {
      "text/plain": [
       "BOROUGH\n",
       "BRONX            1\n",
       "BROOKLYN         1\n",
       "MANHATTAN        1\n",
       "QUEENS           1\n",
       "STATEN ISLAND    1\n",
       "Name: SALE PRICE, dtype: int64"
      ]
     },
     "execution_count": 177,
     "metadata": {},
     "output_type": "execute_result"
    }
   ],
   "source": [
    "df['SALE PRICE'].groupby(df['BOROUGH']).min()"
   ]
  },
  {
   "cell_type": "code",
   "execution_count": 180,
   "metadata": {},
   "outputs": [],
   "source": [
    "df['SALE DATE'] = pd.to_datetime(df['SALE DATE'])\n",
    "df = df.set_index('SALE DATE', drop=True)"
   ]
  },
  {
   "cell_type": "code",
   "execution_count": 187,
   "metadata": {},
   "outputs": [
    {
     "data": {
      "text/plain": [
       "SALE DATE\n",
       "2016-09-01    851271.645244\n",
       "2016-09-16    928348.543144\n",
       "2016-10-01    823684.128643\n",
       "2016-10-16    809065.521888\n",
       "2016-10-31    831371.945455\n",
       "2016-11-15    848214.110204\n",
       "2016-11-30    856729.024908\n",
       "2016-12-15    995040.702586\n",
       "2016-12-30    904295.495108\n",
       "2017-01-14    810984.841418\n",
       "2017-01-29    916665.802208\n",
       "2017-02-13    878464.148490\n",
       "2017-02-28    746626.152878\n",
       "2017-03-15    823906.835855\n",
       "2017-03-30    867795.073506\n",
       "2017-04-14    817190.491987\n",
       "2017-04-29    899754.872624\n",
       "2017-05-14    906857.268486\n",
       "2017-05-29    874236.799267\n",
       "2017-06-13    885527.277738\n",
       "2017-06-28    923077.003469\n",
       "2017-07-13    964154.137134\n",
       "2017-07-28    981022.417962\n",
       "2017-08-12    957996.879739\n",
       "2017-08-27    987409.445055\n",
       "Freq: 15D, Name: SALE PRICE, dtype: float64"
      ]
     },
     "execution_count": 187,
     "metadata": {},
     "output_type": "execute_result"
    }
   ],
   "source": [
    "grouper = pd.Grouper(level='SALE DATE', freq='15d')\n",
    "df['SALE PRICE'].groupby(grouper).mean()"
   ]
  },
  {
   "cell_type": "code",
   "execution_count": 188,
   "metadata": {},
   "outputs": [
    {
     "data": {
      "text/plain": [
       "<matplotlib.axes._subplots.AxesSubplot at 0x7faf30437ef0>"
      ]
     },
     "execution_count": 188,
     "metadata": {},
     "output_type": "execute_result"
    },
    {
     "data": {
      "image/png": "[encoded data removed]",
      "text/plain": [
       "<Figure size 432x288 with 1 Axes>"
      ]
     },
     "metadata": {
      "needs_background": "light"
     },
     "output_type": "display_data"
    }
   ],
   "source": [
    "price_by_15days = df['SALE PRICE'].groupby(grouper).mean()\n",
    "\n",
    "price_by_15days.plot()"
   ]
  },
  {
   "cell_type": "code",
   "execution_count": 175,
   "metadata": {},
   "outputs": [
    {
     "data": {
      "text/plain": [
       "<matplotlib.axes._subplots.AxesSubplot at 0x7faf30e1f160>"
      ]
     },
     "execution_count": 175,
     "metadata": {},
     "output_type": "execute_result"
    },
    {
     "data": {
      "image/png": "[encoded data removed]",
      "text/plain": [
       "<Figure size 432x288 with 1 Axes>"
      ]
     },
     "metadata": {
      "needs_background": "light"
     },
     "output_type": "display_data"
    }
   ],
   "source": [
    "(df['SALE PRICE']).plot()"
   ]
  },
  {
   "cell_type": "code",
   "execution_count": null,
   "metadata": {},
   "outputs": [],
   "source": [
    "df.head()"
   ]
  },
  {
   "cell_type": "code",
   "execution_count": 112,
   "metadata": {},
   "outputs": [],
   "source": [
    "df = df.drop(columns=['ADDRESS', 'ZIP CODE'])\n",
    "\n",
    "# df.head()"
   ]
  },
  {
   "cell_type": "code",
   "execution_count": 100,
   "metadata": {},
   "outputs": [
    {
     "data": {
      "text/plain": [
       "(28946, 10)"
      ]
     },
     "execution_count": 100,
     "metadata": {},
     "output_type": "execute_result"
    }
   ],
   "source": [
    "df.shape"
   ]
  },
  {
   "cell_type": "code",
   "execution_count": 135,
   "metadata": {},
   "outputs": [],
   "source": [
    "df = pd.get_dummies(df, prefix=['BOR', 'BC', 'TC'], columns=['BOROUGH', 'BUILDING CLASS', 'TAX CLASS'])"
   ]
  },
  {
   "cell_type": "code",
   "execution_count": 136,
   "metadata": {},
   "outputs": [
    {
     "data": {
      "text/html": [
       "<div>\n",
       "<style scoped>\n",
       "    .dataframe tbody tr th:only-of-type {\n",
       "        vertical-align: middle;\n",
       "    }\n",
       "\n",
       "    .dataframe tbody tr th {\n",
       "        vertical-align: top;\n",
       "    }\n",
       "\n",
       "    .dataframe thead th {\n",
       "        text-align: right;\n",
       "    }\n",
       "</style>\n",
       "<table border=\"1\" class=\"dataframe\">\n",
       "  <thead>\n",
       "    <tr style=\"text-align: right;\">\n",
       "      <th></th>\n",
       "      <th>RESIDENTIAL UNITS</th>\n",
       "      <th>COMMERCIAL UNITS</th>\n",
       "      <th>LAND SQUARE FEET</th>\n",
       "      <th>GROSS SQUARE FEET</th>\n",
       "      <th>YEAR BUILT</th>\n",
       "      <th>SALE PRICE</th>\n",
       "      <th>BOR_BRONX</th>\n",
       "      <th>BOR_BROOKLYN</th>\n",
       "      <th>BOR_MANHATTAN</th>\n",
       "      <th>BOR_QUEENS</th>\n",
       "      <th>...</th>\n",
       "      <th>BC_RENTALS - 4-10 UNIT</th>\n",
       "      <th>BC_RENTALS - ELEVATOR APARTMENTS</th>\n",
       "      <th>BC_RENTALS - WALKUP APARTMENTS</th>\n",
       "      <th>BC_STORE BUILDINGS</th>\n",
       "      <th>BC_THREE FAMILY DWELLINGS</th>\n",
       "      <th>BC_TWO FAMILY DWELLINGS</th>\n",
       "      <th>BC_WAREHOUSES</th>\n",
       "      <th>TC_1</th>\n",
       "      <th>TC_2</th>\n",
       "      <th>TC_4</th>\n",
       "    </tr>\n",
       "    <tr>\n",
       "      <th>SALE DATE</th>\n",
       "      <th></th>\n",
       "      <th></th>\n",
       "      <th></th>\n",
       "      <th></th>\n",
       "      <th></th>\n",
       "      <th></th>\n",
       "      <th></th>\n",
       "      <th></th>\n",
       "      <th></th>\n",
       "      <th></th>\n",
       "      <th></th>\n",
       "      <th></th>\n",
       "      <th></th>\n",
       "      <th></th>\n",
       "      <th></th>\n",
       "      <th></th>\n",
       "      <th></th>\n",
       "      <th></th>\n",
       "      <th></th>\n",
       "      <th></th>\n",
       "      <th></th>\n",
       "    </tr>\n",
       "  </thead>\n",
       "  <tbody>\n",
       "    <tr>\n",
       "      <th>2017-07-19</th>\n",
       "      <td>5</td>\n",
       "      <td>0</td>\n",
       "      <td>1633</td>\n",
       "      <td>6440</td>\n",
       "      <td>1900</td>\n",
       "      <td>6625000</td>\n",
       "      <td>0</td>\n",
       "      <td>0</td>\n",
       "      <td>1</td>\n",
       "      <td>0</td>\n",
       "      <td>...</td>\n",
       "      <td>0</td>\n",
       "      <td>0</td>\n",
       "      <td>1</td>\n",
       "      <td>0</td>\n",
       "      <td>0</td>\n",
       "      <td>0</td>\n",
       "      <td>0</td>\n",
       "      <td>0</td>\n",
       "      <td>1</td>\n",
       "      <td>0</td>\n",
       "    </tr>\n",
       "    <tr>\n",
       "      <th>2016-09-23</th>\n",
       "      <td>10</td>\n",
       "      <td>0</td>\n",
       "      <td>2272</td>\n",
       "      <td>6794</td>\n",
       "      <td>1913</td>\n",
       "      <td>3936272</td>\n",
       "      <td>0</td>\n",
       "      <td>0</td>\n",
       "      <td>1</td>\n",
       "      <td>0</td>\n",
       "      <td>...</td>\n",
       "      <td>0</td>\n",
       "      <td>0</td>\n",
       "      <td>1</td>\n",
       "      <td>0</td>\n",
       "      <td>0</td>\n",
       "      <td>0</td>\n",
       "      <td>0</td>\n",
       "      <td>0</td>\n",
       "      <td>1</td>\n",
       "      <td>0</td>\n",
       "    </tr>\n",
       "    <tr>\n",
       "      <th>2016-11-17</th>\n",
       "      <td>6</td>\n",
       "      <td>0</td>\n",
       "      <td>2369</td>\n",
       "      <td>4615</td>\n",
       "      <td>1900</td>\n",
       "      <td>8000000</td>\n",
       "      <td>0</td>\n",
       "      <td>0</td>\n",
       "      <td>1</td>\n",
       "      <td>0</td>\n",
       "      <td>...</td>\n",
       "      <td>0</td>\n",
       "      <td>0</td>\n",
       "      <td>1</td>\n",
       "      <td>0</td>\n",
       "      <td>0</td>\n",
       "      <td>0</td>\n",
       "      <td>0</td>\n",
       "      <td>0</td>\n",
       "      <td>1</td>\n",
       "      <td>0</td>\n",
       "    </tr>\n",
       "    <tr>\n",
       "      <th>2016-09-23</th>\n",
       "      <td>8</td>\n",
       "      <td>0</td>\n",
       "      <td>1750</td>\n",
       "      <td>4226</td>\n",
       "      <td>1920</td>\n",
       "      <td>3192840</td>\n",
       "      <td>0</td>\n",
       "      <td>0</td>\n",
       "      <td>1</td>\n",
       "      <td>0</td>\n",
       "      <td>...</td>\n",
       "      <td>0</td>\n",
       "      <td>0</td>\n",
       "      <td>1</td>\n",
       "      <td>0</td>\n",
       "      <td>0</td>\n",
       "      <td>0</td>\n",
       "      <td>0</td>\n",
       "      <td>0</td>\n",
       "      <td>1</td>\n",
       "      <td>0</td>\n",
       "    </tr>\n",
       "    <tr>\n",
       "      <th>2016-11-15</th>\n",
       "      <td>3</td>\n",
       "      <td>1</td>\n",
       "      <td>1520</td>\n",
       "      <td>3360</td>\n",
       "      <td>1910</td>\n",
       "      <td>3300000</td>\n",
       "      <td>0</td>\n",
       "      <td>0</td>\n",
       "      <td>1</td>\n",
       "      <td>0</td>\n",
       "      <td>...</td>\n",
       "      <td>1</td>\n",
       "      <td>0</td>\n",
       "      <td>0</td>\n",
       "      <td>0</td>\n",
       "      <td>0</td>\n",
       "      <td>0</td>\n",
       "      <td>0</td>\n",
       "      <td>0</td>\n",
       "      <td>1</td>\n",
       "      <td>0</td>\n",
       "    </tr>\n",
       "  </tbody>\n",
       "</table>\n",
       "<p>5 rows × 25 columns</p>\n",
       "</div>"
      ],
      "text/plain": [
       "            RESIDENTIAL UNITS  COMMERCIAL UNITS  LAND SQUARE FEET  \\\n",
       "SALE DATE                                                           \n",
       "2017-07-19                  5                 0              1633   \n",
       "2016-09-23                 10                 0              2272   \n",
       "2016-11-17                  6                 0              2369   \n",
       "2016-09-23                  8                 0              1750   \n",
       "2016-11-15                  3                 1              1520   \n",
       "\n",
       "            GROSS SQUARE FEET  YEAR BUILT  SALE PRICE  BOR_BRONX  \\\n",
       "SALE DATE                                                          \n",
       "2017-07-19               6440        1900     6625000          0   \n",
       "2016-09-23               6794        1913     3936272          0   \n",
       "2016-11-17               4615        1900     8000000          0   \n",
       "2016-09-23               4226        1920     3192840          0   \n",
       "2016-11-15               3360        1910     3300000          0   \n",
       "\n",
       "            BOR_BROOKLYN  BOR_MANHATTAN  BOR_QUEENS  ...  \\\n",
       "SALE DATE                                            ...   \n",
       "2017-07-19             0              1           0  ...   \n",
       "2016-09-23             0              1           0  ...   \n",
       "2016-11-17             0              1           0  ...   \n",
       "2016-09-23             0              1           0  ...   \n",
       "2016-11-15             0              1           0  ...   \n",
       "\n",
       "            BC_RENTALS - 4-10 UNIT                       \\\n",
       "SALE DATE                                                 \n",
       "2017-07-19                                            0   \n",
       "2016-09-23                                            0   \n",
       "2016-11-17                                            0   \n",
       "2016-09-23                                            0   \n",
       "2016-11-15                                            1   \n",
       "\n",
       "            BC_RENTALS - ELEVATOR APARTMENTS             \\\n",
       "SALE DATE                                                 \n",
       "2017-07-19                                            0   \n",
       "2016-09-23                                            0   \n",
       "2016-11-17                                            0   \n",
       "2016-09-23                                            0   \n",
       "2016-11-15                                            0   \n",
       "\n",
       "            BC_RENTALS - WALKUP APARTMENTS               \\\n",
       "SALE DATE                                                 \n",
       "2017-07-19                                            1   \n",
       "2016-09-23                                            1   \n",
       "2016-11-17                                            1   \n",
       "2016-09-23                                            1   \n",
       "2016-11-15                                            0   \n",
       "\n",
       "            BC_STORE BUILDINGS                           \\\n",
       "SALE DATE                                                 \n",
       "2017-07-19                                            0   \n",
       "2016-09-23                                            0   \n",
       "2016-11-17                                            0   \n",
       "2016-09-23                                            0   \n",
       "2016-11-15                                            0   \n",
       "\n",
       "            BC_THREE FAMILY DWELLINGS                    \\\n",
       "SALE DATE                                                 \n",
       "2017-07-19                                            0   \n",
       "2016-09-23                                            0   \n",
       "2016-11-17                                            0   \n",
       "2016-09-23                                            0   \n",
       "2016-11-15                                            0   \n",
       "\n",
       "            BC_TWO FAMILY DWELLINGS                      \\\n",
       "SALE DATE                                                 \n",
       "2017-07-19                                            0   \n",
       "2016-09-23                                            0   \n",
       "2016-11-17                                            0   \n",
       "2016-09-23                                            0   \n",
       "2016-11-15                                            0   \n",
       "\n",
       "            BC_WAREHOUSES                                TC_1  TC_2  TC_4  \n",
       "SALE DATE                                                                  \n",
       "2017-07-19                                            0     0     1     0  \n",
       "2016-09-23                                            0     0     1     0  \n",
       "2016-11-17                                            0     0     1     0  \n",
       "2016-09-23                                            0     0     1     0  \n",
       "2016-11-15                                            0     0     1     0  \n",
       "\n",
       "[5 rows x 25 columns]"
      ]
     },
     "execution_count": 136,
     "metadata": {},
     "output_type": "execute_result"
    }
   ],
   "source": [
    "df.head()"
   ]
  },
  {
   "cell_type": "code",
   "execution_count": 140,
   "metadata": {},
   "outputs": [
    {
     "data": {
      "text/plain": [
       "((27713, 24), (27713,))"
      ]
     },
     "execution_count": 140,
     "metadata": {},
     "output_type": "execute_result"
    }
   ],
   "source": [
    "# y = df.pop('SALE PRICE')\n",
    "# X = df.values\n",
    "X.shape, y.shape"
   ]
  },
  {
   "cell_type": "code",
   "execution_count": 144,
   "metadata": {},
   "outputs": [
    {
     "name": "stderr",
     "output_type": "stream",
     "text": [
      "/home/frensis/anaconda3/lib/python3.6/site-packages/sklearn/utils/validation.py:595: DataConversionWarning: Data with input dtype int64 was converted to float64 by MinMaxScaler.\n",
      "  warnings.warn(msg, DataConversionWarning)\n"
     ]
    }
   ],
   "source": [
    "from sklearn.utils import shuffle\n",
    "from sklearn.preprocessing import MinMaxScaler\n",
    "\n",
    "X, y = shuffle(X, y, random_state=0)\n",
    "X = MinMaxScaler().fit_transform(X)"
   ]
  },
  {
   "cell_type": "code",
   "execution_count": 154,
   "metadata": {},
   "outputs": [],
   "source": [
    "X_tr = X[:15_000]\n",
    "X_val = X[15_000:20_000]\n",
    "X_test = X[20_000:]\n",
    "\n",
    "y_tr = y[:15_000]\n",
    "y_val = y[15_000:20_000]\n",
    "y_test = y[20_000:]\n",
    "\n"
   ]
  },
  {
   "cell_type": "code",
   "execution_count": 113,
   "metadata": {},
   "outputs": [
    {
     "data": {
      "text/plain": [
       "count    2.848400e+04\n",
       "mean     8.804945e+05\n",
       "std      1.068849e+06\n",
       "min      1.000000e+00\n",
       "25%      4.196660e+05\n",
       "50%      6.099655e+05\n",
       "75%      9.250000e+05\n",
       "max      1.000000e+07\n",
       "Name: SALE PRICE, dtype: float64"
      ]
     },
     "execution_count": 113,
     "metadata": {},
     "output_type": "execute_result"
    }
   ],
   "source": [
    "df['SALE PRICE'].describe()"
   ]
  },
  {
   "cell_type": "code",
   "execution_count": 120,
   "metadata": {},
   "outputs": [],
   "source": [
    "df['SALE PRICE'] >= 1000"
   ]
  },
  {
   "cell_type": "code",
   "execution_count": 124,
   "metadata": {},
   "outputs": [
    {
     "data": {
      "text/plain": [
       "3"
      ]
     },
     "execution_count": 124,
     "metadata": {},
     "output_type": "execute_result"
    }
   ],
   "source": [
    "sum([True, True, False, True])"
   ]
  },
  {
   "cell_type": "code",
   "execution_count": 127,
   "metadata": {},
   "outputs": [
    {
     "data": {
      "text/plain": [
       "0"
      ]
     },
     "execution_count": 127,
     "metadata": {},
     "output_type": "execute_result"
    }
   ],
   "source": [
    "sum(df['SALE PRICE'] < 1000)"
   ]
  },
  {
   "cell_type": "code",
   "execution_count": 121,
   "metadata": {},
   "outputs": [],
   "source": [
    "df = df[df['SALE PRICE'] >= 1000]"
   ]
  },
  {
   "cell_type": "code",
   "execution_count": 122,
   "metadata": {},
   "outputs": [
    {
     "data": {
      "text/plain": [
       "count    2.771300e+04\n",
       "mean     9.049892e+05\n",
       "std      1.073338e+06\n",
       "min      1.000000e+03\n",
       "25%      4.300000e+05\n",
       "50%      6.250000e+05\n",
       "75%      9.400000e+05\n",
       "max      1.000000e+07\n",
       "Name: SALE PRICE, dtype: float64"
      ]
     },
     "execution_count": 122,
     "metadata": {},
     "output_type": "execute_result"
    }
   ],
   "source": [
    "df['SALE PRICE'].describe()"
   ]
  },
  {
   "cell_type": "code",
   "execution_count": 129,
   "metadata": {},
   "outputs": [
    {
     "data": {
      "text/plain": [
       "<matplotlib.axes._subplots.AxesSubplot at 0x7faf506ce4e0>"
      ]
     },
     "execution_count": 129,
     "metadata": {},
     "output_type": "execute_result"
    },
    {
     "data": {
      "image/png": "[encoded data removed]",
      "text/plain": [
       "<Figure size 432x288 with 1 Axes>"
      ]
     },
     "metadata": {
      "needs_background": "light"
     },
     "output_type": "display_data"
    }
   ],
   "source": [
    "df['SALE PRICE'].hist()"
   ]
  },
  {
   "cell_type": "code",
   "execution_count": 131,
   "metadata": {},
   "outputs": [
    {
     "data": {
      "text/plain": [
       "<matplotlib.axes._subplots.AxesSubplot at 0x7faf506253c8>"
      ]
     },
     "execution_count": 131,
     "metadata": {},
     "output_type": "execute_result"
    },
    {
     "data": {
      "image/png": "[encoded data removed]",
      "text/plain": [
       "<Figure size 432x288 with 1 Axes>"
      ]
     },
     "metadata": {
      "needs_background": "light"
     },
     "output_type": "display_data"
    }
   ],
   "source": [
    "import seaborn as sns\n",
    "\n",
    "sns.distplot(df['SALE PRICE'])"
   ]
  },
  {
   "cell_type": "markdown",
   "metadata": {},
   "source": [
    "<script>\n",
    "  $(document).ready(function(){\n",
    "    $('div.back-to-top').hide();\n",
    "    $('nav#menubar').hide();\n",
    "    $('div.prompt').hide();\n",
    "    $('.hidden-print').hide();\n",
    "  });\n",
    "</script>\n",
    "\n",
    "<footer id=\"attribution\" style=\"float:right; color:#999; background:#fff;\">\n",
    "Created with Jupyter, delivered by Fastly, rendered by Rackspace.\n",
    "</footer>"
   ]
  }
 ],
 "metadata": {
  "kernelspec": {
   "display_name": "Python 3",
   "language": "python",
   "name": "python3"
  },
  "language_info": {
   "codemirror_mode": {
    "name": "ipython",
    "version": 3
   },
   "file_extension": ".py",
   "mimetype": "text/x-python",
   "name": "python",
   "nbconvert_exporter": "python",
   "pygments_lexer": "ipython3",
   "version": "3.6.8"
  }
 },
 "nbformat": 4,
 "nbformat_minor": 2
}
