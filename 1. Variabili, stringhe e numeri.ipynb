{
 "cells": [
  {
   "cell_type": "markdown",
   "metadata": {},
   "source": [
    "*Contenuti*\n",
    "===\n",
    "- [Info](#Info)\n",
    "- [Hello, world!](#Hello,-world!)\n",
    "- [Commenti](#Commenti)\n",
    "- [Variabili](#Variabili)\n",
    "- [Qualche tipo: stringhe e numeri](#Qualche-tipo:-stringhe-e-numeri)\n",
    "    - [Stringhe](#Stringhe)\n",
    "    - [Numeri: interi e float](#Numeri:-interi-e-float)\n",
    "    - [Stampare stringhe e numeri](#Stampare-stringhe-e-numeri)\n",
    "- [*Esercizio*](#Esercizio)"
   ]
  },
  {
   "cell_type": "markdown",
   "metadata": {},
   "source": [
    "Info\n",
    "---\n",
    "**Python** è un linguaggio di programmazione di alto livello: https://en.wikipedia.org/wiki/Python_(programming_language). Su https://docs.python.org/3 trovate la documentazione ufficiale del linguaggio. *Python Data Science Handbook* (http://shop.oreilly.com/product/0636920034919.do) e *Introduction to Machine Learning with Python* (http://shop.oreilly.com/product/0636920030515.do) sono due ottimi libri per imparare Python nel contesto della Data Science.\n",
    "\n",
    "**Anaconda** è una distribuzione di Python pensata per la Data Science: https://www.anaconda.com/distribution/.\n",
    "\n",
    "**Jupyter** (https://jupyter.org/) è una delle librerie Python che troviamo dentro Anaconda. Oltre ad essere un *ambiente di sviluppo* interattivo, incredibilmente efficiente nella prototipazione di idee e algoritmi, è molto comodo per realizzare presentazioni a carattere scientifico.\n",
    "\n",
    "Queste lezioni sono realizzate con Jupyter. Ciascun file Jupyter è detto *notebook*, e ha estensione .ipynb."
   ]
  },
  {
   "cell_type": "markdown",
   "metadata": {},
   "source": [
    "Hello, world!\n",
    "--\n",
    "La prima cosa che si fa quando si impara un nuovo linguaggio di programmazione è stampare *Hello, world!*"
   ]
  },
  {
   "cell_type": "code",
   "execution_count": 55,
   "metadata": {},
   "outputs": [
    {
     "name": "stdout",
     "output_type": "stream",
     "text": [
      "Hello, world!\n"
     ]
    }
   ],
   "source": [
    "print('Hello, world!')"
   ]
  },
  {
   "cell_type": "markdown",
   "metadata": {},
   "source": [
    "Abbiamo usato la *funzione* print. Vedremo presto in dettaglio cosa è una funzione. Possiamo intanto pensare ad un comando che\n",
    "\n",
    "- ha un nome specifico\n",
    "- accetta uno o più input\n",
    "- fa *qualcosa* che abbia qualcosa a che fare col nome."
   ]
  },
  {
   "cell_type": "markdown",
   "metadata": {},
   "source": [
    "Commenti\n",
    "---\n",
    "I *commenti* sono fondamentali nella programmazione: aiutano a scrivere, organizzare e leggere il codice."
   ]
  },
  {
   "cell_type": "code",
   "execution_count": 56,
   "metadata": {},
   "outputs": [
    {
     "name": "stdout",
     "output_type": "stream",
     "text": [
      "Questo non è un commento.\n"
     ]
    }
   ],
   "source": [
    "#Questo è un commento: non produce nessuna azione quando il codice viene compilato\n",
    "print('Questo non è un commento.')"
   ]
  },
  {
   "cell_type": "markdown",
   "metadata": {},
   "source": [
    "Variabili\n",
    "---\n",
    "Una *variabile* contiene un valore, che può essere cambiato in qualsiasi momento."
   ]
  },
  {
   "cell_type": "code",
   "execution_count": 3,
   "metadata": {},
   "outputs": [
    {
     "name": "stdout",
     "output_type": "stream",
     "text": [
      "Hello, world!\n"
     ]
    }
   ],
   "source": [
    "a = 'Hello, world!'\n",
    "print(a)"
   ]
  },
  {
   "cell_type": "code",
   "execution_count": 4,
   "metadata": {},
   "outputs": [
    {
     "name": "stdout",
     "output_type": "stream",
     "text": [
      "Ciao, mondo!\n"
     ]
    }
   ],
   "source": [
    "a = 'Ciao, mondo!'\n",
    "print(a)"
   ]
  },
  {
   "cell_type": "markdown",
   "metadata": {},
   "source": [
    "Una variabile dichiarata in una *cella* del notebook può essere usata in tutte le altre celle."
   ]
  },
  {
   "cell_type": "code",
   "execution_count": 5,
   "metadata": {},
   "outputs": [
    {
     "data": {
      "text/plain": [
       "'Ciao, mondo!'"
      ]
     },
     "execution_count": 5,
     "metadata": {},
     "output_type": "execute_result"
    }
   ],
   "source": [
    "a"
   ]
  },
  {
   "cell_type": "markdown",
   "metadata": {},
   "source": [
    "Ogni cella funziona come un di terminale interattivo. E' quindi possibile stampare il valore di una variabile senza utilizzare la funzione print, a patto che questo venga fatto nell'ultima riga della cella. In queste lezioni userò entrambi i costrutti."
   ]
  },
  {
   "cell_type": "code",
   "execution_count": 6,
   "metadata": {},
   "outputs": [
    {
     "name": "stdout",
     "output_type": "stream",
     "text": [
      "Ciao, mamma!\n"
     ]
    }
   ],
   "source": [
    "a\n",
    "b = 'Ciao, mamma!'\n",
    "print(b)"
   ]
  },
  {
   "cell_type": "code",
   "execution_count": 7,
   "metadata": {},
   "outputs": [
    {
     "name": "stdout",
     "output_type": "stream",
     "text": [
      "Ciao, mondo!\n",
      "Ciao, mamma!\n"
     ]
    }
   ],
   "source": [
    "print(a)\n",
    "b = 'Ciao, mamma!'\n",
    "print(b)"
   ]
  },
  {
   "cell_type": "markdown",
   "metadata": {},
   "source": [
    "Jupyter dà la possibilità di conoscere tutte le variabili memorizzate attraverso il comando\n",
    "\n",
    "        %whos"
   ]
  },
  {
   "cell_type": "code",
   "execution_count": 8,
   "metadata": {},
   "outputs": [
    {
     "name": "stdout",
     "output_type": "stream",
     "text": [
      "Variable   Type    Data/Info\n",
      "----------------------------\n",
      "a          str     Ciao, mondo!\n",
      "b          str     Ciao, mamma!\n"
     ]
    }
   ],
   "source": [
    "%whos"
   ]
  },
  {
   "cell_type": "markdown",
   "metadata": {},
   "source": [
    "Qualche tipo: stringhe e numeri\n",
    "---\n",
    "Python intuisce da solo di che *tipo* è una variabile, in base a come questa viene dichiarata. Ci sono diversi tipi *built-in*, e il programmatore può definirne di nuovi."
   ]
  },
  {
   "cell_type": "code",
   "execution_count": 62,
   "metadata": {},
   "outputs": [
    {
     "data": {
      "text/plain": [
       "str"
      ]
     },
     "execution_count": 62,
     "metadata": {},
     "output_type": "execute_result"
    }
   ],
   "source": [
    "a = 'ciao'#dichiarata come stringa, cioè con gli apici\n",
    "type(a)#la funzione type restituisce il tipo di una variabile"
   ]
  },
  {
   "cell_type": "code",
   "execution_count": 63,
   "metadata": {},
   "outputs": [
    {
     "data": {
      "text/plain": [
       "int"
      ]
     },
     "execution_count": 63,
     "metadata": {},
     "output_type": "execute_result"
    }
   ],
   "source": [
    "a = 1#dichiarata come intero \n",
    "type(a)"
   ]
  },
  {
   "cell_type": "code",
   "execution_count": 64,
   "metadata": {},
   "outputs": [
    {
     "data": {
      "text/plain": [
       "float"
      ]
     },
     "execution_count": 64,
     "metadata": {},
     "output_type": "execute_result"
    }
   ],
   "source": [
    "a = 1.1#float (decimale)\n",
    "type(a)"
   ]
  },
  {
   "cell_type": "code",
   "execution_count": 65,
   "metadata": {},
   "outputs": [
    {
     "data": {
      "text/plain": [
       "list"
      ]
     },
     "execution_count": 65,
     "metadata": {},
     "output_type": "execute_result"
    }
   ],
   "source": [
    "a = []#lista\n",
    "type(a)"
   ]
  },
  {
   "cell_type": "markdown",
   "metadata": {},
   "source": [
    "### Stringhe\n",
    "\n",
    "Una *stringa* è un insieme ordinato di caratteri. Può essere contenuta da 'singoli' o \"doppi\" apici, non fa differenza."
   ]
  },
  {
   "cell_type": "code",
   "execution_count": 66,
   "metadata": {},
   "outputs": [
    {
     "data": {
      "text/plain": [
       "'ciao mamma!'"
      ]
     },
     "execution_count": 66,
     "metadata": {},
     "output_type": "execute_result"
    }
   ],
   "source": [
    "a = 'ciao mamma!'\n",
    "a"
   ]
  },
  {
   "cell_type": "code",
   "execution_count": 67,
   "metadata": {},
   "outputs": [
    {
     "data": {
      "text/plain": [
       "'ciao mamma!'"
      ]
     },
     "execution_count": 67,
     "metadata": {},
     "output_type": "execute_result"
    }
   ],
   "source": [
    "b = \"ciao mamma!\"\n",
    "b"
   ]
  },
  {
   "cell_type": "markdown",
   "metadata": {},
   "source": [
    "Alle stringhe (come a tutti i tipi di variabili) possono essere applicate delle funzioni, come print vista in precedenza."
   ]
  },
  {
   "cell_type": "code",
   "execution_count": 68,
   "metadata": {},
   "outputs": [
    {
     "data": {
      "text/plain": [
       "'francesco'"
      ]
     },
     "execution_count": 68,
     "metadata": {},
     "output_type": "execute_result"
    }
   ],
   "source": [
    "a = 'Francesco'\n",
    "a.lower()#trasforma la stringa in minuscolo"
   ]
  },
  {
   "cell_type": "markdown",
   "metadata": {},
   "source": [
    "**Nota**: per invocare la funzione lower sto usando la sintassi\n",
    "\n",
    "        variabile.funzione()\n",
    "        \n",
    "Cosa c'è di diverso rispetto a print?"
   ]
  },
  {
   "cell_type": "code",
   "execution_count": 69,
   "metadata": {},
   "outputs": [
    {
     "data": {
      "text/plain": [
       "'FRANCESCO'"
      ]
     },
     "execution_count": 69,
     "metadata": {},
     "output_type": "execute_result"
    }
   ],
   "source": [
    "a.upper()#trasforma la stringa in maiuscolo"
   ]
  },
  {
   "cell_type": "code",
   "execution_count": 70,
   "metadata": {},
   "outputs": [
    {
     "data": {
      "text/plain": [
       "'Francesca'"
      ]
     },
     "execution_count": 70,
     "metadata": {},
     "output_type": "execute_result"
    }
   ],
   "source": [
    "b = a.replace('o','a')#costruisce una nuova stringa operando una sostituzione di carattere\n",
    "b"
   ]
  },
  {
   "cell_type": "markdown",
   "metadata": {},
   "source": [
    "Due stringhe possono essere concatenate con l'operazione *+*: il risultato è una nuova stringa."
   ]
  },
  {
   "cell_type": "code",
   "execution_count": 71,
   "metadata": {},
   "outputs": [],
   "source": [
    "a = 'Ciao mamma, guarda come'\n",
    "b = ' mi diverto'\n",
    "c =  a + b"
   ]
  },
  {
   "cell_type": "code",
   "execution_count": 72,
   "metadata": {},
   "outputs": [
    {
     "data": {
      "text/plain": [
       "str"
      ]
     },
     "execution_count": 72,
     "metadata": {},
     "output_type": "execute_result"
    }
   ],
   "source": [
    "type(c)"
   ]
  },
  {
   "cell_type": "markdown",
   "metadata": {},
   "source": [
    "### Numeri: interi e float\n",
    "\n",
    "*int* (numeri interi) e *float* (numeri decimali) sono altri due tipi built-in di Python. "
   ]
  },
  {
   "cell_type": "code",
   "execution_count": 73,
   "metadata": {},
   "outputs": [
    {
     "data": {
      "text/plain": [
       "2.0"
      ]
     },
     "execution_count": 73,
     "metadata": {},
     "output_type": "execute_result"
    }
   ],
   "source": [
    "a = 1#intero\n",
    "b = 1.0#float\n",
    "c = a + b\n",
    "c"
   ]
  },
  {
   "cell_type": "markdown",
   "metadata": {},
   "source": [
    "Per convenzione, operazioni tra interi e float restituiscono float."
   ]
  },
  {
   "cell_type": "code",
   "execution_count": 74,
   "metadata": {},
   "outputs": [
    {
     "data": {
      "text/plain": [
       "float"
      ]
     },
     "execution_count": 74,
     "metadata": {},
     "output_type": "execute_result"
    }
   ],
   "source": [
    "type(c)"
   ]
  },
  {
   "cell_type": "markdown",
   "metadata": {},
   "source": [
    "Le operazioni aritmetiche hanno una priorità: moltiplicazione e divisione vengono eseguite per prime. La priorità viene alterata dalle parentesi."
   ]
  },
  {
   "cell_type": "code",
   "execution_count": 75,
   "metadata": {},
   "outputs": [
    {
     "data": {
      "text/plain": [
       "25"
      ]
     },
     "execution_count": 75,
     "metadata": {},
     "output_type": "execute_result"
    }
   ],
   "source": [
    "2*10+5#2*10 viene eseguito prima"
   ]
  },
  {
   "cell_type": "code",
   "execution_count": 76,
   "metadata": {},
   "outputs": [
    {
     "data": {
      "text/plain": [
       "30"
      ]
     },
     "execution_count": 76,
     "metadata": {},
     "output_type": "execute_result"
    }
   ],
   "source": [
    "2*(10+5)#adesso 10+5 viene eseguito prima"
   ]
  },
  {
   "cell_type": "markdown",
   "metadata": {},
   "source": [
    "Notare che Python interpreta l'operazione di addizione, +, in base al tipo con cui opera."
   ]
  },
  {
   "cell_type": "markdown",
   "metadata": {},
   "source": [
    "### Stampare stringhe e numeri"
   ]
  },
  {
   "cell_type": "code",
   "execution_count": 77,
   "metadata": {},
   "outputs": [
    {
     "name": "stdout",
     "output_type": "stream",
     "text": [
      "Oggi è il 28\n"
     ]
    }
   ],
   "source": [
    "a = 'Oggi è il'\n",
    "b = 28\n",
    "print(a, b)#print aggiunge uno spazio tra gli argomenti e converte b in una stringa"
   ]
  },
  {
   "cell_type": "code",
   "execution_count": 78,
   "metadata": {},
   "outputs": [
    {
     "name": "stdout",
     "output_type": "stream",
     "text": [
      "Oggi ci sono 25.7 gradi\n"
     ]
    }
   ],
   "source": [
    "a = 'Oggi ci sono'\n",
    "b = 25.7\n",
    "c = 'gradi'\n",
    "print(a, b, c)"
   ]
  },
  {
   "cell_type": "markdown",
   "metadata": {},
   "source": [
    "Un'alternativa comoda è utilizzare i *segnaposto* e la funzione *format*."
   ]
  },
  {
   "cell_type": "code",
   "execution_count": 79,
   "metadata": {},
   "outputs": [
    {
     "name": "stdout",
     "output_type": "stream",
     "text": [
      "Il risultato di 10 diviso 2 è 5.0\n"
     ]
    }
   ],
   "source": [
    "a = 10\n",
    "b = 2\n",
    "c = a/b\n",
    "print('Il risultato di {} diviso {} è {}'.format(a, b, c))"
   ]
  },
  {
   "cell_type": "markdown",
   "metadata": {},
   "source": [
    "Il costrutto qui sopra è utile se si vuole specificare un formato di stampa."
   ]
  },
  {
   "cell_type": "code",
   "execution_count": 80,
   "metadata": {},
   "outputs": [
    {
     "name": "stdout",
     "output_type": "stream",
     "text": [
      "Il risultato di 10 diviso 3 è 3.3333333333333335\n"
     ]
    }
   ],
   "source": [
    "a = 10\n",
    "b = 3\n",
    "c = a/b\n",
    "print('Il risultato di {} diviso {} è {}'.format(a, b, c))"
   ]
  },
  {
   "cell_type": "code",
   "execution_count": 81,
   "metadata": {},
   "outputs": [
    {
     "name": "stdout",
     "output_type": "stream",
     "text": [
      "Il risultato di 10 diviso 3 è 3.33\n"
     ]
    }
   ],
   "source": [
    "a = 10\n",
    "b = 3\n",
    "c = a/b\n",
    "print('Il risultato di {} diviso {} è {:.2f}'.format(a, b, c))"
   ]
  },
  {
   "cell_type": "markdown",
   "metadata": {},
   "source": [
    "Ricordiamoci che una stringa è una variabile, e che print non fa altro che stamparla."
   ]
  },
  {
   "cell_type": "code",
   "execution_count": 82,
   "metadata": {},
   "outputs": [
    {
     "data": {
      "text/plain": [
       "'Il risultato di 10 diviso 3 è 3.33'"
      ]
     },
     "execution_count": 82,
     "metadata": {},
     "output_type": "execute_result"
    }
   ],
   "source": [
    "'Il risultato di {} diviso {} è {:.2f}'.format(a, b, c)"
   ]
  },
  {
   "cell_type": "code",
   "execution_count": 83,
   "metadata": {},
   "outputs": [
    {
     "data": {
      "text/plain": [
       "'Il risultato di 10 diviso 3 è 3.33'"
      ]
     },
     "execution_count": 83,
     "metadata": {},
     "output_type": "execute_result"
    }
   ],
   "source": [
    "d = 'Il risultato di {} diviso {} è {:.2f}'\n",
    "d.format(a, b, c)"
   ]
  },
  {
   "cell_type": "markdown",
   "metadata": {},
   "source": [
    "***Esercizio***\n",
    "---\n",
    "- dichiarare due variabili numeriche\n",
    "- eseguire un'operazione qualsiasi che le coinvolga\n",
    "- salvare il risultato in un terza variabile\n",
    "- stampare il risultato nella forma *Il risultato è ... ed è di tipo ...*\n",
    "- se il risultato è un float, stampare solo le prime 3 cifre decimali\n",
    "- commentare le righe del codice con il significato delle azioni corrispondenti"
   ]
  },
  {
   "cell_type": "code",
   "execution_count": null,
   "metadata": {},
   "outputs": [],
   "source": [
    "#FILL ME"
   ]
  },
  {
   "cell_type": "markdown",
   "metadata": {},
   "source": [
    "<script>\n",
    "  $(document).ready(function(){\n",
    "    $('div.back-to-top').hide();\n",
    "    $('nav#menubar').hide();\n",
    "    $('div.prompt').hide();\n",
    "    $('.hidden-print').hide();\n",
    "  });\n",
    "</script>\n",
    "\n",
    "<footer id=\"attribution\" style=\"float:right; color:#999; background:#fff;\">\n",
    "Created with Jupyter, delivered by Fastly, rendered by Rackspace.\n",
    "</footer>"
   ]
  }
 ],
 "metadata": {
  "kernelspec": {
   "display_name": "Python 3",
   "language": "python",
   "name": "python3"
  },
  "language_info": {
   "codemirror_mode": {
    "name": "ipython",
    "version": 3
   },
   "file_extension": ".py",
   "mimetype": "text/x-python",
   "name": "python",
   "nbconvert_exporter": "python",
   "pygments_lexer": "ipython3",
   "version": "3.6.8"
  }
 },
 "nbformat": 4,
 "nbformat_minor": 2
}
