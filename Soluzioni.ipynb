{
 "cells": [
  {
   "cell_type": "markdown",
   "metadata": {},
   "source": [
    "- [3.4](#3.4)\n",
    "- [3.5](#3.5)\n",
    "- [3.6](#3.6)\n",
    "\n",
    "- [4.1, 4.2](#4.1,-4.2)\n",
    "- [5.1](#5.1)\n",
    "- [5.2](#5.2)\n",
    "- [5.3](#5.3)\n",
    "\n",
    "- [6.2](#6.2)\n",
    "- [6.3](#6.3)\n",
    "- [6.4](#6.4)\n",
    "- [KNN1](#KNN1)\n",
    "- [KNN2](#KNN2)\n",
    "- [6.5](#6.5)\n",
    "- [7.4](#7.4)"
   ]
  },
  {
   "cell_type": "markdown",
   "metadata": {},
   "source": [
    "3.4\n",
    "---"
   ]
  },
  {
   "cell_type": "code",
   "execution_count": 2,
   "metadata": {},
   "outputs": [
    {
     "name": "stdout",
     "output_type": "stream",
     "text": [
      "Il numero in posizione 0 è 10\n",
      "Il numero in posizione 1 è 2\n",
      "Il numero in posizione 2 è 4\n",
      "Il numero in posizione 3 è 8\n",
      "Il numero in posizione 4 è 1.7\n"
     ]
    },
    {
     "data": {
      "text/plain": [
       "[100, 4, 16, 64, 2.8899999999999997]"
      ]
     },
     "execution_count": 2,
     "metadata": {},
     "output_type": "execute_result"
    }
   ],
   "source": [
    "numbers = [10, 2, 4, 8, 1.7]\n",
    "squared_numbers = []\n",
    "\n",
    "for i, x in enumerate(numbers):\n",
    "    print('Il numero in posizione {} è {}'.format(i, x))\n",
    "    squared_numbers += [x**2]\n",
    "    \n",
    "squared_numbers"
   ]
  },
  {
   "cell_type": "markdown",
   "metadata": {},
   "source": [
    "3.5\n",
    "---"
   ]
  },
  {
   "cell_type": "code",
   "execution_count": 2,
   "metadata": {},
   "outputs": [
    {
     "data": {
      "text/plain": [
       "[[0, 'alessandro'],\n",
       " [1, 'elisa'],\n",
       " [2, 'francesco'],\n",
       " [3, 'giovanni'],\n",
       " [4, 'maria teresa']]"
      ]
     },
     "execution_count": 2,
     "metadata": {},
     "output_type": "execute_result"
    }
   ],
   "source": [
    "names = ['francesco', 'elisa', 'alessandro', 'giovanni', 'maria teresa']\n",
    "indexed_sorted_names = [[i, n] for i, n in enumerate(sorted(names))]\n",
    "\n",
    "indexed_sorted_names"
   ]
  },
  {
   "cell_type": "markdown",
   "metadata": {},
   "source": [
    "3.6\n",
    "---"
   ]
  },
  {
   "cell_type": "code",
   "execution_count": 3,
   "metadata": {},
   "outputs": [
    {
     "data": {
      "text/plain": [
       "[100, 4, 16, 64, 2.8899999999999997]"
      ]
     },
     "execution_count": 3,
     "metadata": {},
     "output_type": "execute_result"
    }
   ],
   "source": [
    "numbers = [10, 2, 4, 8, 1.7]\n",
    "squared_numbers = [x**2 for x in numbers]\n",
    "\n",
    "squared_numbers"
   ]
  },
  {
   "cell_type": "markdown",
   "metadata": {},
   "source": [
    "4.1, 4.2\n",
    "---"
   ]
  },
  {
   "cell_type": "code",
   "execution_count": null,
   "metadata": {},
   "outputs": [],
   "source": [
    "lst = [3,6,5,8,12]\n",
    "\n",
    "for element in lst:\n",
    "    if element**2 % 2 == 0 and element**2 % 3 == 0:\n",
    "        print('Il quadrato di {} è {}, che è multiplo sia di 2 che di 3'.format(element, element**2))\n",
    "    elif element**2 % 2 == 0:\n",
    "        print('Il quadrato di {} è {}, che è multiplo di 2 ma non di 3'.format(element, element**2))\n",
    "    elif element**2 % 3 == 0:\n",
    "        print('Il quadrato di {} è {}, che è multiplo di 3 ma non di 2'.format(element, element**2))\n",
    "    else:\n",
    "        print('Il quadrato di {} è {}, che non è multiplo né di 2 né di 3'.format(element, element**2))\n",
    "        \n",
    "print('\\n*******************\\n')\n",
    "\n",
    "multiples_of_2 = [element**2 for element in lst if element**2 % 2 == 0]\n",
    "multiples_of_3 = [element**2 for element in lst if element**2 % 3 == 0]\n",
    "multiples_of_2_and_not_of_3 = [element**2 for element in lst if element**2 % 2 == 0 and not element**2 % 3 == 0]\n",
    "\n",
    "print(multiples_of_2)\n",
    "print(multiples_of_3)\n",
    "print(multiples_of_2_and_not_of_3)"
   ]
  },
  {
   "cell_type": "markdown",
   "metadata": {},
   "source": [
    "5.1\n",
    "---"
   ]
  },
  {
   "cell_type": "code",
   "execution_count": null,
   "metadata": {},
   "outputs": [],
   "source": [
    "heights = {}\n",
    "heights['Mount Everest'] = 8858\n",
    "heights['K2'] = 8611\n",
    "heights['Kangchenjunga'] = 8586\n",
    "\n",
    "for mountain, height in heights.items():\n",
    "    print('{} è alta {}'.format(mountain, height))\n",
    "    \n",
    "for i, mountain in enumerate(sorted(heights.keys())):\n",
    "    print('La montagna numero {} è {} ed è alta {}'.format(i+1, mountain, heights[mountain]))"
   ]
  },
  {
   "cell_type": "markdown",
   "metadata": {},
   "source": [
    "5.2\n",
    "---"
   ]
  },
  {
   "cell_type": "code",
   "execution_count": null,
   "metadata": {},
   "outputs": [],
   "source": [
    "mountains = []\n",
    "\n",
    "mountains += [{'name':'Mount Everest', 'height':8858, 'country':'Nepal'}]\n",
    "mountains += [{'name':'K2', 'height':8611, 'country':'Pakistan'}]\n",
    "mountains += [{'name':'Kangchenjunga', 'height':8586, 'country':'Nepal'}]\n",
    "\n",
    "for i, m in enumerate(mountains):\n",
    "    print('La montagna numero {} è {}, è alta {} e si trova in {}'.format(i,\n",
    "                                                                          m['name'],\n",
    "                                                                          m['height'],\n",
    "                                                                          m['country']))"
   ]
  },
  {
   "cell_type": "code",
   "execution_count": null,
   "metadata": {},
   "outputs": [],
   "source": [
    "mountain_names = [m['name'] for m in mountains]\n",
    "mountain_heights = [m['height'] for m in mountains]\n",
    "\n",
    "heights = {}\n",
    "\n",
    "for i,n in enumerate(mountain_names):\n",
    "    heights[n] = mountain_heights[i]\n",
    "    \n",
    "print(heights)"
   ]
  },
  {
   "cell_type": "markdown",
   "metadata": {},
   "source": [
    "5.3\n",
    "---"
   ]
  },
  {
   "cell_type": "code",
   "execution_count": 37,
   "metadata": {},
   "outputs": [],
   "source": [
    "def show_property_info(prop):\n",
    "    print('Paese: {}'.format(prop['country']))\n",
    "    print('Estensione (mq): {}'.format(prop['extension']))\n",
    "    print('Terreno annesso?: {}'.format('Sì' if prop['has_land'] else 'No'))\n",
    "    print('Prezzo: {:.2f}'.format(prop['price']))"
   ]
  },
  {
   "cell_type": "code",
   "execution_count": 38,
   "metadata": {},
   "outputs": [
    {
     "name": "stdout",
     "output_type": "stream",
     "text": [
      "\n",
      "Proprietà #0\n",
      "Paese: Italia\n",
      "Estensione (mq): 2000\n",
      "Terreno annesso?: No\n",
      "Prezzo: 10.00\n",
      "\n",
      "Proprietà #1\n",
      "Paese: Spagna\n",
      "Estensione (mq): 12000\n",
      "Terreno annesso?: No\n",
      "Prezzo: 125.00\n",
      "\n",
      "Proprietà #2\n",
      "Paese: Argentina\n",
      "Estensione (mq): 50000\n",
      "Terreno annesso?: Sì\n",
      "Prezzo: 300.00\n"
     ]
    }
   ],
   "source": [
    "properties = []\n",
    "\n",
    "r1 = {'country':'Italia',    'extension':2000,  'has_land':False, 'price':10}\n",
    "r2 = {'country':'Spagna',    'extension':12000, 'has_land':False, 'price':125}\n",
    "r3 = {'country':'Argentina', 'extension':50000, 'has_land':True,  'price':300}\n",
    "\n",
    "properties += [r1, r2, r3]\n",
    "\n",
    "for i, prop in enumerate(properties):\n",
    "    print(f'\\nProprietà #{i}')#sintassi alternativa a format, disponibile da Python 3.6\n",
    "    show_property_info(prop)"
   ]
  },
  {
   "cell_type": "code",
   "execution_count": null,
   "metadata": {},
   "outputs": [],
   "source": [
    "###################"
   ]
  },
  {
   "cell_type": "markdown",
   "metadata": {},
   "source": [
    "6.2\n",
    "---"
   ]
  },
  {
   "cell_type": "code",
   "execution_count": 2,
   "metadata": {},
   "outputs": [
    {
     "name": "stdout",
     "output_type": "stream",
     "text": [
      "0.9992693936220786\n",
      "0.9992693936220851\n",
      "323 ms ± 1.59 ms per loop (mean ± std. dev. of 7 runs, 1 loop each)\n",
      "2.3 ms ± 15.9 µs per loop (mean ± std. dev. of 7 runs, 100 loops each)\n"
     ]
    }
   ],
   "source": [
    "import numpy as np\n",
    "import numpy.random as rdm\n",
    "from math import sqrt\n",
    "\n",
    "def py_std(x):\n",
    "    mean_val = sum(x) / len(x)\n",
    "    return sqrt(sum((val-mean_val)**2 for val in x) / len(x))\n",
    "\n",
    "large_array = rdm.normal(size=(1000000,))\n",
    "\n",
    "print(py_std(large_array))\n",
    "print(np.std(large_array))\n",
    "%timeit py_std(large_array)\n",
    "%timeit np.std(large_array)"
   ]
  },
  {
   "cell_type": "markdown",
   "metadata": {},
   "source": [
    "6.3\n",
    "---"
   ]
  },
  {
   "cell_type": "code",
   "execution_count": 1,
   "metadata": {},
   "outputs": [
    {
     "name": "stdout",
     "output_type": "stream",
     "text": [
      "[[[175  37 192 120 181]\n",
      "  [ 15 114 217 168  95]\n",
      "  [190 174 175 107 203]\n",
      "  [250 210 189 229  47]\n",
      "  [169 110 130 148 160]]\n",
      "\n",
      " [[ 72 194 176 105 244]\n",
      "  [ 16 250 136 153  28]\n",
      "  [110  61 159  98   5]\n",
      "  [ 90 233 151 244 235]\n",
      "  [136 123  25 225 141]]\n",
      "\n",
      " [[ 28 168 112 247 165]\n",
      "  [ 58  69 212 204 153]\n",
      "  [174  90 164  52  28]\n",
      "  [ 92 226 183 255 100]\n",
      "  [190 169 199 242 201]]\n",
      "\n",
      " ...\n",
      "\n",
      " [[148  81 144  29   5]\n",
      "  [219 118 185  42 248]\n",
      "  [248 136  94  25  55]\n",
      "  [135  37  51  90   4]\n",
      "  [ 66 188  50 109  93]]\n",
      "\n",
      " [[ 78 192 135  75 109]\n",
      "  [ 85  27  48  51  25]\n",
      "  [135 161 227  71 177]\n",
      "  [229 240 251 114 152]\n",
      "  [129  27 187 131 140]]\n",
      "\n",
      " [[157  25 163 205  31]\n",
      "  [193 138  83 111 183]\n",
      "  [ 43 245 163 253 139]\n",
      "  [ 65  35  44 248 135]\n",
      "  [ 98  24 148 225 123]]]\n"
     ]
    }
   ],
   "source": [
    "import numpy as np\n",
    "import numpy.random as rdm\n",
    "\n",
    "n_frames = 50\n",
    "n_pixel_x = 5\n",
    "n_pixel_y = 5\n",
    "movie = rdm.randint(0, 256, (n_frames, n_pixel_x, n_pixel_y))\n",
    "print(movie)"
   ]
  },
  {
   "cell_type": "code",
   "execution_count": 2,
   "metadata": {},
   "outputs": [
    {
     "name": "stdout",
     "output_type": "stream",
     "text": [
      "(50, 5, 5)\n"
     ]
    }
   ],
   "source": [
    "print(movie.shape)"
   ]
  },
  {
   "cell_type": "code",
   "execution_count": 3,
   "metadata": {},
   "outputs": [
    {
     "name": "stdout",
     "output_type": "stream",
     "text": [
      "[[114.48 110.74 142.62 114.56 123.72]\n",
      " [124.78 132.6  121.52 111.9  118.92]\n",
      " [129.82 121.78 113.22 129.1  147.8 ]\n",
      " [139.24 128.6  149.04 146.88 132.04]\n",
      " [124.98 124.86 129.32 143.84 112.62]]\n",
      "(5, 5)\n"
     ]
    }
   ],
   "source": [
    "pixel_mean_intensity = np.mean(movie, axis=0)\n",
    "print(pixel_mean_intensity)\n",
    "print(pixel_mean_intensity.shape)"
   ]
  },
  {
   "cell_type": "markdown",
   "metadata": {},
   "source": [
    "6.4\n",
    "---"
   ]
  },
  {
   "cell_type": "code",
   "execution_count": 1,
   "metadata": {},
   "outputs": [
    {
     "name": "stdout",
     "output_type": "stream",
     "text": [
      "4.9992\n",
      "-0.0008\n",
      "3.001901282433962 3.001901282433962\n"
     ]
    }
   ],
   "source": [
    "import numpy as np\n",
    "import numpy.random as rdm\n",
    "\n",
    "values = rdm.normal(5, 3, 1000000)\n",
    "\n",
    "#sottraggo 5 e guardo se ha funzionato\n",
    "print(round(np.mean(values), 4))\n",
    "values -= 5\n",
    "print(round(np.mean(values), 4))\n",
    "\n",
    "#implemento deviazione std e confronto con np.std\n",
    "residuals = values - np.mean(values)\n",
    "squared_residuals = residuals**2\n",
    "variance = np.sum(squared_residuals) / values.size\n",
    "print(np.std(values), np.sqrt(variance))"
   ]
  },
  {
   "cell_type": "markdown",
   "metadata": {},
   "source": [
    "KNN1\n",
    "---"
   ]
  },
  {
   "cell_type": "code",
   "execution_count": 7,
   "metadata": {},
   "outputs": [
    {
     "name": "stdout",
     "output_type": "stream",
     "text": [
      "[[ 1  2  3]\n",
      " [ 0  2 -1]\n",
      " [-1  2  3]\n",
      " [ 3  1  3]]\n",
      "[0 1 0 1]\n",
      "[1 1 2]\n"
     ]
    }
   ],
   "source": [
    "import numpy as np\n",
    "\n",
    "X_train = np.array([[1,2,3],\n",
    "                    [0,2,-1],\n",
    "                    [-1,2,3],\n",
    "                    [3,1,3]])\n",
    "\n",
    "x_new = np.array([1,1,2])\n",
    "\n",
    "y_train = np.array([0,1,0,1])\n",
    "\n",
    "print(X_train)\n",
    "print(y_train)\n",
    "print(x_new)"
   ]
  },
  {
   "cell_type": "code",
   "execution_count": 8,
   "metadata": {},
   "outputs": [
    {
     "name": "stdout",
     "output_type": "stream",
     "text": [
      "[1.4 3.3 2.4 2.2]\n"
     ]
    }
   ],
   "source": [
    "distances = [np.sqrt(np.sum((x - x_new) ** 2)) for x in X_train]#riga per riga\n",
    "distances = np.round(distances, 1)\n",
    "print(distances)"
   ]
  },
  {
   "cell_type": "markdown",
   "metadata": {},
   "source": [
    "Posso calcolare le distanze in modo ancora più compatto. Definita la *Norma* di un vettore $d$-dimensionale,\n",
    "\n",
    "$$\\|x\\|_2 := \\sqrt{\\sum_{i=1}^d x_i^2},$$\n",
    "\n",
    "si può dire che la distanza euclidea tra due vettori $x$ e $x'$ è la norma del *vettore differenza* $x - x'$:\n",
    "\n",
    "$$D(x, x') = \\sqrt{\\sum_{i=1}^{d}(x_i-x'_i)^2} = \\|x - x'\\|_2.$$\n",
    "\n",
    "Proviamo intanto ad operare vettorialmente."
   ]
  },
  {
   "cell_type": "code",
   "execution_count": 19,
   "metadata": {},
   "outputs": [
    {
     "data": {
      "text/plain": [
       "array([[ 0,  1,  1],\n",
       "       [-1,  1, -3],\n",
       "       [-2,  1,  1],\n",
       "       [ 2,  0,  1]])"
      ]
     },
     "execution_count": 19,
     "metadata": {},
     "output_type": "execute_result"
    }
   ],
   "source": [
    "X_train - x_new#vettori differenza"
   ]
  },
  {
   "cell_type": "code",
   "execution_count": 20,
   "metadata": {},
   "outputs": [
    {
     "data": {
      "text/plain": [
       "array([[0, 1, 1],\n",
       "       [1, 1, 9],\n",
       "       [4, 1, 1],\n",
       "       [4, 0, 1]])"
      ]
     },
     "execution_count": 20,
     "metadata": {},
     "output_type": "execute_result"
    }
   ],
   "source": [
    "(X_train - x_new) ** 2#differenze al quadrato"
   ]
  },
  {
   "cell_type": "code",
   "execution_count": 21,
   "metadata": {},
   "outputs": [
    {
     "data": {
      "text/plain": [
       "array([ 2, 11,  6,  5])"
      ]
     },
     "execution_count": 21,
     "metadata": {},
     "output_type": "execute_result"
    }
   ],
   "source": [
    "np.sum((X_train - x_new) ** 2, axis=1)#somma (lungo le colonne) degli scarti al quadrato"
   ]
  },
  {
   "cell_type": "code",
   "execution_count": 25,
   "metadata": {},
   "outputs": [
    {
     "name": "stdout",
     "output_type": "stream",
     "text": [
      "[1.4 3.3 2.4 2.2]\n"
     ]
    }
   ],
   "source": [
    "distances = np.sqrt(np.sum((X_train - x_new) ** 2, axis=1))#tutto vettoriale\n",
    "distances = np.round(distances, 1)\n",
    "print(distances)"
   ]
  },
  {
   "cell_type": "markdown",
   "metadata": {},
   "source": [
    "Volendo, tutto in una riga:"
   ]
  },
  {
   "cell_type": "code",
   "execution_count": 24,
   "metadata": {},
   "outputs": [
    {
     "name": "stdout",
     "output_type": "stream",
     "text": [
      "[1.4 3.3 2.4 2.2]\n"
     ]
    }
   ],
   "source": [
    "print(np.round(np.sqrt(np.sum((X_train - x_new) ** 2, axis=1)), 1))"
   ]
  },
  {
   "cell_type": "markdown",
   "metadata": {},
   "source": [
    "Adesso utilizziamo la funzione *norm* di numpy."
   ]
  },
  {
   "cell_type": "code",
   "execution_count": 26,
   "metadata": {},
   "outputs": [
    {
     "name": "stdout",
     "output_type": "stream",
     "text": [
      "[0.61306346 0.90234858 0.09928035 0.96980907 0.65314004]\n",
      "1.6022040728828197\n",
      "1.6022040728828197\n"
     ]
    }
   ],
   "source": [
    "from numpy.linalg import norm\n",
    "\n",
    "vec = np.random.random((5,))\n",
    "print(vec)\n",
    "print(np.sqrt(np.sum(vec**2)))\n",
    "print(norm(vec))"
   ]
  },
  {
   "cell_type": "code",
   "execution_count": 29,
   "metadata": {},
   "outputs": [
    {
     "name": "stdout",
     "output_type": "stream",
     "text": [
      "[1.4 3.3 2.4 2.2]\n"
     ]
    }
   ],
   "source": [
    "print(np.round(norm(X_train - x_new, axis=1), 1))#utilizzando la norma vettorialmente"
   ]
  },
  {
   "cell_type": "markdown",
   "metadata": {},
   "source": [
    "**Nota**: abbiamo smesso di scrivere cicli for!"
   ]
  },
  {
   "cell_type": "markdown",
   "metadata": {},
   "source": [
    "KNN2\n",
    "---"
   ]
  },
  {
   "cell_type": "code",
   "execution_count": 34,
   "metadata": {},
   "outputs": [
    {
     "name": "stdout",
     "output_type": "stream",
     "text": [
      "[[ 1.6 66. ]\n",
      " [ 1.6 63. ]\n",
      " [ 1.9 67. ]]\n"
     ]
    }
   ],
   "source": [
    "people = np.array([[1.60, 66],\n",
    "                   [1.60, 63],\n",
    "                   [1.90, 67]])\n",
    "\n",
    "print(people)"
   ]
  },
  {
   "cell_type": "code",
   "execution_count": 35,
   "metadata": {},
   "outputs": [
    {
     "name": "stdout",
     "output_type": "stream",
     "text": [
      "[ 1.6 66. ]\n",
      "[ 1.6 63. ]\n",
      "[ 1.9 67. ]\n"
     ]
    }
   ],
   "source": [
    "A, B, C = people\n",
    "print(A)\n",
    "print(B)\n",
    "print(C)"
   ]
  },
  {
   "cell_type": "code",
   "execution_count": 36,
   "metadata": {},
   "outputs": [
    {
     "name": "stdout",
     "output_type": "stream",
     "text": [
      "3.0\n",
      "1.0440306508910548\n"
     ]
    }
   ],
   "source": [
    "print(norm(A-B))\n",
    "print(norm(A-C))"
   ]
  },
  {
   "cell_type": "code",
   "execution_count": 37,
   "metadata": {},
   "outputs": [
    {
     "name": "stdout",
     "output_type": "stream",
     "text": [
      "[0. 0. 1.]\n",
      "[0.75 0.   1.  ]\n"
     ]
    }
   ],
   "source": [
    "def scale_01(column):\n",
    "    return (column - np.min(column)) / (np.max(column) - np.min(column))\n",
    "\n",
    "scaled_height = scale_01(people[:, 0])\n",
    "scaled_weight = scale_01(people[:, 1])\n",
    "\n",
    "print(scaled_height)\n",
    "print(scaled_weight)"
   ]
  },
  {
   "cell_type": "code",
   "execution_count": 38,
   "metadata": {},
   "outputs": [
    {
     "name": "stdout",
     "output_type": "stream",
     "text": [
      "[[0.   0.   1.  ]\n",
      " [0.75 0.   1.  ]]\n"
     ]
    }
   ],
   "source": [
    "scaled_people = np.vstack([scaled_height, scaled_weight])\n",
    "print(scaled_people)"
   ]
  },
  {
   "cell_type": "code",
   "execution_count": 39,
   "metadata": {},
   "outputs": [
    {
     "name": "stdout",
     "output_type": "stream",
     "text": [
      "[[0.   0.75]\n",
      " [0.   0.  ]\n",
      " [1.   1.  ]]\n"
     ]
    }
   ],
   "source": [
    "scaled_people = scaled_people.T#trasposizione\n",
    "print(scaled_people)"
   ]
  },
  {
   "cell_type": "markdown",
   "metadata": {},
   "source": [
    "Scriviamo tutto in modo più veloce e compatto, utilizzando il calcolo vettoriale."
   ]
  },
  {
   "cell_type": "code",
   "execution_count": 46,
   "metadata": {},
   "outputs": [
    {
     "name": "stdout",
     "output_type": "stream",
     "text": [
      "[[ 1.6 66. ]\n",
      " [ 1.6 63. ]\n",
      " [ 1.9 67. ]]\n"
     ]
    }
   ],
   "source": [
    "print(people)"
   ]
  },
  {
   "cell_type": "code",
   "execution_count": 47,
   "metadata": {},
   "outputs": [
    {
     "name": "stdout",
     "output_type": "stream",
     "text": [
      "[ 1.6 63. ]\n"
     ]
    }
   ],
   "source": [
    "print(np.min(people, axis=0))#minimo per colonna (cioè, 'lungo le righe')"
   ]
  },
  {
   "cell_type": "code",
   "execution_count": 49,
   "metadata": {},
   "outputs": [
    {
     "name": "stdout",
     "output_type": "stream",
     "text": [
      "[[0.  3. ]\n",
      " [0.  0. ]\n",
      " [0.3 4. ]]\n"
     ]
    }
   ],
   "source": [
    "print(people - np.min(people, axis=0))"
   ]
  },
  {
   "cell_type": "code",
   "execution_count": 52,
   "metadata": {},
   "outputs": [
    {
     "name": "stdout",
     "output_type": "stream",
     "text": [
      "[0.3 4. ]\n"
     ]
    }
   ],
   "source": [
    "print(np.max(people, axis=0) - np.min(people, axis=0))"
   ]
  },
  {
   "cell_type": "code",
   "execution_count": 53,
   "metadata": {},
   "outputs": [
    {
     "name": "stdout",
     "output_type": "stream",
     "text": [
      "[[0.   0.75]\n",
      " [0.   0.  ]\n",
      " [1.   1.  ]]\n"
     ]
    }
   ],
   "source": [
    "scaled_people = (people - np.min(people, axis=0)) / (np.max(people, axis=0) - np.min(people, axis=0))\n",
    "print(scaled_people)"
   ]
  },
  {
   "cell_type": "code",
   "execution_count": 55,
   "metadata": {},
   "outputs": [
    {
     "name": "stdout",
     "output_type": "stream",
     "text": [
      "[0.   0.75]\n",
      "[0. 0.]\n",
      "[1. 1.]\n"
     ]
    }
   ],
   "source": [
    "scaled_A, scaled_B, scaled_C = scaled_people\n",
    "print(scaled_A)\n",
    "print(scaled_B)\n",
    "print(scaled_C)"
   ]
  },
  {
   "cell_type": "code",
   "execution_count": 56,
   "metadata": {},
   "outputs": [
    {
     "name": "stdout",
     "output_type": "stream",
     "text": [
      "0.75\n",
      "1.0307764064044151\n"
     ]
    }
   ],
   "source": [
    "print(norm(scaled_A-scaled_B))\n",
    "print(norm(scaled_A-scaled_C))"
   ]
  },
  {
   "cell_type": "markdown",
   "metadata": {},
   "source": [
    "6.5\n",
    "---"
   ]
  },
  {
   "cell_type": "code",
   "execution_count": 60,
   "metadata": {},
   "outputs": [
    {
     "name": "stdout",
     "output_type": "stream",
     "text": [
      "Matrice delle feature:\n",
      " [[0.5488135  0.71518937 0.60276338 0.54488318]\n",
      " [0.4236548  0.64589411 0.43758721 0.891773  ]\n",
      " [0.96366276 0.38344152 0.79172504 0.52889492]\n",
      " [0.56804456 0.92559664 0.07103606 0.0871293 ]\n",
      " [0.0202184  0.83261985 0.77815675 0.87001215]\n",
      " [0.97861834 0.79915856 0.46147936 0.78052918]\n",
      " [0.11827443 0.63992102 0.14335329 0.94466892]]\n",
      "\n",
      "Vettore delle etichette: [1 0 0 1 1 0 1]\n",
      "\n",
      "Nuovo esempio da classificare: [0.73691818 0.21655035 0.13521817 0.32414101]\n",
      "\n",
      "Predizione (k=3): 1\n",
      "Predizione (k=5): 0\n"
     ]
    }
   ],
   "source": [
    "import numpy as np\n",
    "from numpy.linalg import norm\n",
    "\n",
    "np.random.seed(0)#fisso il generatore casuale per la riproducibilità dell'esperimento\n",
    "\n",
    "def KNN(k, X, y, x):\n",
    "    distances = norm(X - x, axis=1)\n",
    "    sorted_labels = y[distances.argsort()]\n",
    "    return np.argmax(np.bincount(sorted_labels[:k]))\n",
    "\n",
    "def one_line_KNN(k, X, y, x):\n",
    "    return np.argmax(np.bincount(y[norm(X - x, axis=1).argsort()][:k]))\n",
    "\n",
    "X_train = np.random.random((7,4))\n",
    "y_train = np.random.randint(0, 2, (7))\n",
    "x_new = np.random.random((4,))\n",
    "\n",
    "print('Matrice delle feature:\\n', X_train)\n",
    "\n",
    "print('\\nVettore delle etichette:', y_train)\n",
    "\n",
    "print('\\nNuovo esempio da classificare:', x_new)\n",
    "\n",
    "print('\\nPredizione (k=3):', one_line_KNN(3, X_train, y_train, x_new))\n",
    "print('Predizione (k=5):', one_line_KNN(5, X_train, y_train, x_new))"
   ]
  },
  {
   "cell_type": "markdown",
   "metadata": {},
   "source": [
    "7.4\n",
    "---"
   ]
  },
  {
   "cell_type": "code",
   "execution_count": 11,
   "metadata": {},
   "outputs": [
    {
     "name": "stdout",
     "output_type": "stream",
     "text": [
      "Validation accuracy with k 1: 0.97\n",
      "Validation accuracy with k 2: 0.96\n",
      "Validation accuracy with k 3: 0.98\n",
      "Validation accuracy with k 5: 0.97\n",
      "Validation accuracy with k 10: 0.95\n"
     ]
    }
   ],
   "source": [
    "from sklearn import datasets, neighbors\n",
    "from sklearn.utils import shuffle\n",
    "from sklearn.preprocessing import StandardScaler\n",
    "\n",
    "#Carico il dataset\n",
    "digits = datasets.load_digits()\n",
    "X, y = digits['data'], digits['target']\n",
    "\n",
    "#Separo train e test\n",
    "X, y = shuffle(X, y, random_state=123)\n",
    "X_tr, X_val, X_test = X[:500], X[500:1000], X[1000:]\n",
    "y_tr, y_val, y_test = y[:500], y[500:1000], y[1000:]\n",
    "\n",
    "#Scalo i dati\n",
    "scaler = StandardScaler()\n",
    "X_tr_scaled = scaler.fit_transform(X_tr)\n",
    "X_val_scaled = scaler.transform(X_val)\n",
    "\n",
    "#Valuto accuratezza dei modelli sul set di validazione\n",
    "for k in [1,2,3,5,10]:\n",
    "    val_acc = neighbors.KNeighborsClassifier(n_neighbors=k).fit(X_tr_scaled, y_tr).score(X_val_scaled, y_val)\n",
    "    print('Validation accuracy with k {}: {:.2f}'.format(k, val_acc))                  "
   ]
  },
  {
   "cell_type": "code",
   "execution_count": 12,
   "metadata": {},
   "outputs": [
    {
     "name": "stdout",
     "output_type": "stream",
     "text": [
      "Test accuracy with selected k: 0.97\n"
     ]
    }
   ],
   "source": [
    "import numpy as np\n",
    "\n",
    "#Rifitto su tutto il training set\n",
    "X_train, y_train = np.vstack([X_tr, X_val]), np.hstack([y_tr, y_val])\n",
    "X_train_scaled = scaler.fit_transform(X_train)\n",
    "best_model = neighbors.KNeighborsClassifier(n_neighbors=3).fit(X_train_scaled,\n",
    "                                                               y_train)\n",
    "\n",
    "#Valuto accuratezza del miglior modello sul test set\n",
    "X_test_scaled = scaler.transform(X_test)\n",
    "print('Test accuracy with selected k: {:.2f}'.format(best_model.score(X_test_scaled,\n",
    "                                                                      y_test))) "
   ]
  },
  {
   "cell_type": "markdown",
   "metadata": {},
   "source": [
    "<script>\n",
    "  $(document).ready(function(){\n",
    "    $('div.back-to-top').hide();\n",
    "    $('nav#menubar').hide();\n",
    "    $('div.prompt').hide();\n",
    "    $('.hidden-print').hide();\n",
    "  });\n",
    "</script>\n",
    "\n",
    "<footer id=\"attribution\" style=\"float:right; color:#999; background:#fff;\">\n",
    "Created with Jupyter, delivered by Fastly, rendered by Rackspace.\n",
    "</footer>"
   ]
  }
 ],
 "metadata": {
  "kernelspec": {
   "display_name": "Python 3",
   "language": "python",
   "name": "python3"
  },
  "language_info": {
   "codemirror_mode": {
    "name": "ipython",
    "version": 3
   },
   "file_extension": ".py",
   "mimetype": "text/x-python",
   "name": "python",
   "nbconvert_exporter": "python",
   "pygments_lexer": "ipython3",
   "version": "3.6.8"
  }
 },
 "nbformat": 4,
 "nbformat_minor": 2
}
