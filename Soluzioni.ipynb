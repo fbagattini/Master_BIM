{
 "cells": [
  {
   "cell_type": "markdown",
   "metadata": {},
   "source": [
    "- [3.4](#3.4)\n",
    "- [3.5](#3.5)\n",
    "- [3.6](#3.6)\n",
    "- [4.1, 4.2](#4.1,-4.2)\n",
    "- [5.1](#5.1)\n",
    "- [5.2](#5.2)\n",
    "- [5.3](#5.3)\n",
    "- [6.2](#6.2)\n",
    "- [6.3](#6.3)\n",
    "- [6.4](#6.4)\n",
    "- [6.5](#6.5)\n",
    "- [6.6](#6.6)\n",
    "- [6.7](#6.7)\n",
    "- [7.3](#7.3)\n",
    "- [7.4](#7.4)"
   ]
  },
  {
   "cell_type": "markdown",
   "metadata": {},
   "source": [
    "3.4\n",
    "---"
   ]
  },
  {
   "cell_type": "code",
   "execution_count": 2,
   "metadata": {},
   "outputs": [
    {
     "name": "stdout",
     "output_type": "stream",
     "text": [
      "Il numero in posizione 0 è 10\n",
      "Il numero in posizione 1 è 2\n",
      "Il numero in posizione 2 è 4\n",
      "Il numero in posizione 3 è 8\n",
      "Il numero in posizione 4 è 1.7\n"
     ]
    },
    {
     "data": {
      "text/plain": [
       "[100, 4, 16, 64, 2.8899999999999997]"
      ]
     },
     "execution_count": 2,
     "metadata": {},
     "output_type": "execute_result"
    }
   ],
   "source": [
    "numbers = [10, 2, 4, 8, 1.7]\n",
    "squared_numbers = []\n",
    "\n",
    "for i, x in enumerate(numbers):\n",
    "    print('Il numero in posizione {} è {}'.format(i, x))\n",
    "    squared_numbers += [x**2]\n",
    "    \n",
    "squared_numbers"
   ]
  },
  {
   "cell_type": "markdown",
   "metadata": {},
   "source": [
    "3.5\n",
    "---"
   ]
  },
  {
   "cell_type": "code",
   "execution_count": 2,
   "metadata": {},
   "outputs": [
    {
     "data": {
      "text/plain": [
       "[[0, 'alessandro'],\n",
       " [1, 'elisa'],\n",
       " [2, 'francesco'],\n",
       " [3, 'giovanni'],\n",
       " [4, 'maria teresa']]"
      ]
     },
     "execution_count": 2,
     "metadata": {},
     "output_type": "execute_result"
    }
   ],
   "source": [
    "names = ['francesco', 'elisa', 'alessandro', 'giovanni', 'maria teresa']\n",
    "indexed_sorted_names = [[i, n] for i, n in enumerate(sorted(names))]\n",
    "\n",
    "indexed_sorted_names"
   ]
  },
  {
   "cell_type": "markdown",
   "metadata": {},
   "source": [
    "3.6\n",
    "---"
   ]
  },
  {
   "cell_type": "code",
   "execution_count": 3,
   "metadata": {},
   "outputs": [
    {
     "data": {
      "text/plain": [
       "[100, 4, 16, 64, 2.8899999999999997]"
      ]
     },
     "execution_count": 3,
     "metadata": {},
     "output_type": "execute_result"
    }
   ],
   "source": [
    "numbers = [10, 2, 4, 8, 1.7]\n",
    "squared_numbers = [x**2 for x in numbers]\n",
    "\n",
    "squared_numbers"
   ]
  },
  {
   "cell_type": "markdown",
   "metadata": {},
   "source": [
    "4.1, 4.2\n",
    "---"
   ]
  },
  {
   "cell_type": "code",
   "execution_count": 6,
   "metadata": {},
   "outputs": [
    {
     "name": "stdout",
     "output_type": "stream",
     "text": [
      "Il quadrato di 3 è 9, che è multiplo di 3 ma non di 2\n",
      "Il quadrato di 6 è 36, che è multiplo sia di 2 che di 3\n",
      "Il quadrato di 5 è 25, che non è multiplo né di 2 né di 3\n",
      "Il quadrato di 8 è 64, che è multiplo di 2 ma non di 3\n",
      "Il quadrato di 12 è 144, che è multiplo sia di 2 che di 3\n",
      "\n",
      "**************************************************************\n",
      "\n",
      "[36, 64, 144]\n",
      "[9, 36, 144]\n",
      "[64]\n"
     ]
    }
   ],
   "source": [
    "lst = [3,6,5,8,12]\n",
    "\n",
    "for element in lst:\n",
    "    if element**2 % 2 == 0 and element**2 % 3 == 0:\n",
    "        print('Il quadrato di {} è {}, che è multiplo sia di 2 che di 3'.format(element, element**2))\n",
    "    elif element**2 % 2 == 0:\n",
    "        print('Il quadrato di {} è {}, che è multiplo di 2 ma non di 3'.format(element, element**2))\n",
    "    elif element**2 % 3 == 0:\n",
    "        print('Il quadrato di {} è {}, che è multiplo di 3 ma non di 2'.format(element, element**2))\n",
    "    else:\n",
    "        print('Il quadrato di {} è {}, che non è multiplo né di 2 né di 3'.format(element, element**2))\n",
    "        \n",
    "print('\\n**************************************************************\\n')\n",
    "\n",
    "multiples_of_2 = [element**2 for element in lst if element**2 % 2 == 0]\n",
    "multiples_of_3 = [element**2 for element in lst if element**2 % 3 == 0]\n",
    "multiples_of_2_and_not_of_3 = [element**2 for element in lst if element**2 % 2 == 0 and not element**2 % 3 == 0]\n",
    "\n",
    "print(multiples_of_2)\n",
    "print(multiples_of_3)\n",
    "print(multiples_of_2_and_not_of_3)"
   ]
  },
  {
   "cell_type": "markdown",
   "metadata": {},
   "source": [
    "5.1\n",
    "---"
   ]
  },
  {
   "cell_type": "code",
   "execution_count": 7,
   "metadata": {},
   "outputs": [
    {
     "name": "stdout",
     "output_type": "stream",
     "text": [
      "Mount Everest è alta 8858\n",
      "K2 è alta 8611\n",
      "Kangchenjunga è alta 8586\n",
      "La montagna numero 1 è K2 ed è alta 8611\n",
      "La montagna numero 2 è Kangchenjunga ed è alta 8586\n",
      "La montagna numero 3 è Mount Everest ed è alta 8858\n"
     ]
    }
   ],
   "source": [
    "heights = {}\n",
    "heights['Mount Everest'] = 8858\n",
    "heights['K2'] = 8611\n",
    "heights['Kangchenjunga'] = 8586\n",
    "\n",
    "for mountain, height in heights.items():\n",
    "    print('{} è alta {}'.format(mountain, height))\n",
    "    \n",
    "for i, mountain in enumerate(sorted(heights.keys())):\n",
    "    print('La montagna numero {} è {} ed è alta {}'.format(i+1, mountain, heights[mountain]))"
   ]
  },
  {
   "cell_type": "markdown",
   "metadata": {},
   "source": [
    "5.2\n",
    "---"
   ]
  },
  {
   "cell_type": "code",
   "execution_count": 8,
   "metadata": {},
   "outputs": [
    {
     "name": "stdout",
     "output_type": "stream",
     "text": [
      "La montagna numero 0 è Mount Everest, è alta 8858 e si trova in Nepal\n",
      "La montagna numero 1 è K2, è alta 8611 e si trova in Pakistan\n",
      "La montagna numero 2 è Kangchenjunga, è alta 8586 e si trova in Nepal\n"
     ]
    }
   ],
   "source": [
    "mountains = []\n",
    "\n",
    "mountains += [{'name':'Mount Everest', 'height':8858, 'country':'Nepal'}]\n",
    "mountains += [{'name':'K2', 'height':8611, 'country':'Pakistan'}]\n",
    "mountains += [{'name':'Kangchenjunga', 'height':8586, 'country':'Nepal'}]\n",
    "\n",
    "for i, m in enumerate(mountains):\n",
    "    print('La montagna numero {} è {}, è alta {} e si trova in {}'.format(i,\n",
    "                                                                          m['name'],\n",
    "                                                                          m['height'],\n",
    "                                                                          m['country']))"
   ]
  },
  {
   "cell_type": "code",
   "execution_count": 9,
   "metadata": {},
   "outputs": [
    {
     "name": "stdout",
     "output_type": "stream",
     "text": [
      "{'Mount Everest': 8858, 'K2': 8611, 'Kangchenjunga': 8586}\n"
     ]
    }
   ],
   "source": [
    "mountain_names = [m['name'] for m in mountains]\n",
    "mountain_heights = [m['height'] for m in mountains]\n",
    "\n",
    "heights = {}\n",
    "\n",
    "for i,n in enumerate(mountain_names):\n",
    "    heights[n] = mountain_heights[i]\n",
    "    \n",
    "print(heights)"
   ]
  },
  {
   "cell_type": "markdown",
   "metadata": {},
   "source": [
    "5.3\n",
    "---"
   ]
  },
  {
   "cell_type": "code",
   "execution_count": 5,
   "metadata": {},
   "outputs": [],
   "source": [
    "def show_estate_info(e):\n",
    "    print('Paese: {}'.format(e['country']))\n",
    "    print('Estensione (mq): {}'.format(e['extension']))\n",
    "    print('Terreno annesso?: {}'.format('Sì' if e['has_land'] else 'No'))\n",
    "    print('Prezzo: {}K Euro'.format(e['price']))"
   ]
  },
  {
   "cell_type": "code",
   "execution_count": 9,
   "metadata": {},
   "outputs": [
    {
     "name": "stdout",
     "output_type": "stream",
     "text": [
      "\n",
      "Immobile #0\n",
      "Paese: Italia\n",
      "Estensione (mq): 2000\n",
      "Terreno annesso?: No\n",
      "Prezzo: 10K Euro\n",
      "\n",
      "Immobile #1\n",
      "Paese: Spagna\n",
      "Estensione (mq): 12000\n",
      "Terreno annesso?: No\n",
      "Prezzo: 125K Euro\n",
      "\n",
      "Immobile #2\n",
      "Paese: Argentina\n",
      "Estensione (mq): 50000\n",
      "Terreno annesso?: Sì\n",
      "Prezzo: 300K Euro\n"
     ]
    }
   ],
   "source": [
    "estates = []\n",
    "\n",
    "e1 = {'country':'Italia',    'extension':2000,  'has_land':False, 'price':10}\n",
    "e2 = {'country':'Spagna',    'extension':12000, 'has_land':False, 'price':125}\n",
    "e3 = {'country':'Argentina', 'extension':50000, 'has_land':True,  'price':300}\n",
    "\n",
    "estates += [e1, e2, e3]\n",
    "\n",
    "for i, e in enumerate(estates):\n",
    "    print(f'\\nImmobile #{i}')#sintassi alternativa a format, disponibile da Python 3.6\n",
    "    show_estate_info(e)"
   ]
  },
  {
   "cell_type": "markdown",
   "metadata": {},
   "source": [
    "6.2\n",
    "---"
   ]
  },
  {
   "cell_type": "code",
   "execution_count": 2,
   "metadata": {},
   "outputs": [
    {
     "name": "stdout",
     "output_type": "stream",
     "text": [
      "1.000364008741215\n",
      "1.000364008741213\n",
      "428 ms ± 22.1 ms per loop (mean ± std. dev. of 7 runs, 1 loop each)\n",
      "2.52 ms ± 498 µs per loop (mean ± std. dev. of 7 runs, 100 loops each)\n"
     ]
    }
   ],
   "source": [
    "import numpy as np\n",
    "import numpy.random as rdm\n",
    "from math import sqrt\n",
    "\n",
    "def py_std(x):\n",
    "    mean_val = sum(x) / len(x)\n",
    "    return sqrt(sum((val-mean_val)**2 for val in x) / len(x))\n",
    "\n",
    "large_array = rdm.normal(size=(1000000,))\n",
    "\n",
    "print(py_std(large_array))\n",
    "print(np.std(large_array))\n",
    "\n",
    "#confronto tempi di esecuzione\n",
    "%timeit py_std(large_array)\n",
    "%timeit np.std(large_array)"
   ]
  },
  {
   "cell_type": "markdown",
   "metadata": {},
   "source": [
    "6.3\n",
    "---"
   ]
  },
  {
   "cell_type": "code",
   "execution_count": 3,
   "metadata": {},
   "outputs": [
    {
     "name": "stdout",
     "output_type": "stream",
     "text": [
      "[[[206   1 111  55 205]\n",
      "  [ 66 240  32  41  23]\n",
      "  [167 132 152 138 113]\n",
      "  [181  39  58   7  38]\n",
      "  [ 25 112 160  42  84]]\n",
      "\n",
      " [[153  54 173 239 152]\n",
      "  [158 251  21 222  28]\n",
      "  [ 81 235 196 139  12]\n",
      "  [ 82 236 192  81 221]\n",
      "  [ 22 230 189  94 210]]\n",
      "\n",
      " [[ 18 162  27  60 184]\n",
      "  [233  68 204 153 159]\n",
      "  [160 223 205 114 173]\n",
      "  [129 184 228  61 172]\n",
      "  [158  61  20 163 227]]\n",
      "\n",
      " ...\n",
      "\n",
      " [[243 183 191  90  91]\n",
      "  [141  87 115 230  13]\n",
      "  [169 145 108  93  67]\n",
      "  [176 116 207 100 154]\n",
      "  [ 99 203  58  26  11]]\n",
      "\n",
      " [[196  83 183 171 209]\n",
      "  [ 11 128  32  42 213]\n",
      "  [243 168  74 178 199]\n",
      "  [167  93 198  94 143]\n",
      "  [140 219   7  52   0]]\n",
      "\n",
      " [[ 52 132  40 222 120]\n",
      "  [199  44 184 174 186]\n",
      "  [ 67 150 214 212  17]\n",
      "  [ 45 169 253  63 149]\n",
      "  [ 12  42  51 150 226]]]\n"
     ]
    }
   ],
   "source": [
    "import numpy as np\n",
    "import numpy.random as rdm\n",
    "\n",
    "n_frames = 50\n",
    "n_pixel_x = 5\n",
    "n_pixel_y = 5\n",
    "movie = rdm.randint(0, 256, (n_frames, n_pixel_x, n_pixel_y))\n",
    "print(movie)"
   ]
  },
  {
   "cell_type": "code",
   "execution_count": 4,
   "metadata": {},
   "outputs": [
    {
     "name": "stdout",
     "output_type": "stream",
     "text": [
      "(50, 5, 5)\n"
     ]
    }
   ],
   "source": [
    "print(movie.shape)"
   ]
  },
  {
   "cell_type": "code",
   "execution_count": 5,
   "metadata": {},
   "outputs": [
    {
     "name": "stdout",
     "output_type": "stream",
     "text": [
      "[[114.88 130.8  127.14 151.04 127.52]\n",
      " [133.58 123.46 109.34 136.06 134.06]\n",
      " [139.88 138.62 140.88 138.32 130.14]\n",
      " [119.26 144.7  123.38 131.96 127.3 ]\n",
      " [129.42 121.88 124.82 131.48 118.78]]\n",
      "(5, 5)\n"
     ]
    }
   ],
   "source": [
    "pixel_mean_intensity = np.mean(movie, axis=0)\n",
    "print(pixel_mean_intensity)\n",
    "print(pixel_mean_intensity.shape)"
   ]
  },
  {
   "cell_type": "markdown",
   "metadata": {},
   "source": [
    "6.4\n",
    "---"
   ]
  },
  {
   "cell_type": "code",
   "execution_count": 6,
   "metadata": {},
   "outputs": [
    {
     "name": "stdout",
     "output_type": "stream",
     "text": [
      "5.004\n",
      "0.004\n",
      "2.998506349757395 2.998506349757395\n"
     ]
    }
   ],
   "source": [
    "import numpy as np\n",
    "import numpy.random as rdm\n",
    "\n",
    "values = rdm.normal(5, 3, 1000000)\n",
    "\n",
    "#sottraggo 5 e guardo se ha funzionato\n",
    "print(round(np.mean(values), 4))\n",
    "values -= 5\n",
    "print(round(np.mean(values), 4))\n",
    "\n",
    "#implemento deviazione std e confronto con np.std\n",
    "residuals = values - np.mean(values)\n",
    "squared_residuals = residuals**2\n",
    "variance = np.sum(squared_residuals) / values.size\n",
    "print(np.std(values), np.sqrt(variance))"
   ]
  },
  {
   "cell_type": "markdown",
   "metadata": {},
   "source": [
    "6.5\n",
    "---"
   ]
  },
  {
   "cell_type": "code",
   "execution_count": 7,
   "metadata": {},
   "outputs": [
    {
     "name": "stdout",
     "output_type": "stream",
     "text": [
      "[[ 1  2  3]\n",
      " [ 0  2 -1]\n",
      " [-1  2  3]\n",
      " [ 3  1  3]]\n",
      "[0 1 0 1]\n",
      "[1 1 2]\n"
     ]
    }
   ],
   "source": [
    "import numpy as np\n",
    "\n",
    "X_train = np.array([[1,2,3],\n",
    "                    [0,2,-1],\n",
    "                    [-1,2,3],\n",
    "                    [3,1,3]])\n",
    "\n",
    "x_new = np.array([1,1,2])\n",
    "\n",
    "y_train = np.array([0,1,0,1])\n",
    "\n",
    "print(X_train)\n",
    "print(y_train)\n",
    "print(x_new)"
   ]
  },
  {
   "cell_type": "code",
   "execution_count": 8,
   "metadata": {},
   "outputs": [
    {
     "name": "stdout",
     "output_type": "stream",
     "text": [
      "[1.4 3.3 2.4 2.2]\n"
     ]
    }
   ],
   "source": [
    "distances = [np.sqrt(np.sum((x - x_new) ** 2)) for x in X_train]#riga per riga\n",
    "distances = np.round(distances, 1)\n",
    "print(distances)"
   ]
  },
  {
   "cell_type": "markdown",
   "metadata": {},
   "source": [
    "Posso calcolare le distanze in modo ancora più compatto. Definita la *Norma* di un vettore $d$-dimensionale,\n",
    "\n",
    "$$\\|x\\|_2 := \\sqrt{\\sum_{i=1}^d x_i^2},$$\n",
    "\n",
    "si può dire che la distanza euclidea tra due vettori $x$ e $x'$ è la norma del *vettore differenza* $x - x'$:\n",
    "\n",
    "$$D(x, x') = \\sqrt{\\sum_{i=1}^{d}(x_i-x'_i)^2} = \\|x - x'\\|_2.$$\n",
    "\n",
    "Proviamo intanto ad operare vettorialmente."
   ]
  },
  {
   "cell_type": "code",
   "execution_count": 19,
   "metadata": {},
   "outputs": [
    {
     "data": {
      "text/plain": [
       "array([[ 0,  1,  1],\n",
       "       [-1,  1, -3],\n",
       "       [-2,  1,  1],\n",
       "       [ 2,  0,  1]])"
      ]
     },
     "execution_count": 19,
     "metadata": {},
     "output_type": "execute_result"
    }
   ],
   "source": [
    "X_train - x_new#vettori differenza"
   ]
  },
  {
   "cell_type": "code",
   "execution_count": 20,
   "metadata": {},
   "outputs": [
    {
     "data": {
      "text/plain": [
       "array([[0, 1, 1],\n",
       "       [1, 1, 9],\n",
       "       [4, 1, 1],\n",
       "       [4, 0, 1]])"
      ]
     },
     "execution_count": 20,
     "metadata": {},
     "output_type": "execute_result"
    }
   ],
   "source": [
    "(X_train - x_new) ** 2#differenze al quadrato"
   ]
  },
  {
   "cell_type": "code",
   "execution_count": 21,
   "metadata": {},
   "outputs": [
    {
     "data": {
      "text/plain": [
       "array([ 2, 11,  6,  5])"
      ]
     },
     "execution_count": 21,
     "metadata": {},
     "output_type": "execute_result"
    }
   ],
   "source": [
    "np.sum((X_train - x_new) ** 2, axis=1)#somma (lungo le colonne) degli scarti al quadrato"
   ]
  },
  {
   "cell_type": "code",
   "execution_count": 25,
   "metadata": {},
   "outputs": [
    {
     "name": "stdout",
     "output_type": "stream",
     "text": [
      "[1.4 3.3 2.4 2.2]\n"
     ]
    }
   ],
   "source": [
    "distances = np.sqrt(np.sum((X_train - x_new) ** 2, axis=1))#tutto vettoriale\n",
    "distances = np.round(distances, 1)\n",
    "print(distances)"
   ]
  },
  {
   "cell_type": "markdown",
   "metadata": {},
   "source": [
    "Volendo, tutto in una riga:"
   ]
  },
  {
   "cell_type": "code",
   "execution_count": 24,
   "metadata": {},
   "outputs": [
    {
     "name": "stdout",
     "output_type": "stream",
     "text": [
      "[1.4 3.3 2.4 2.2]\n"
     ]
    }
   ],
   "source": [
    "print(np.round(np.sqrt(np.sum((X_train - x_new) ** 2, axis=1)), 1))"
   ]
  },
  {
   "cell_type": "markdown",
   "metadata": {},
   "source": [
    "Adesso utilizziamo la funzione *norm* di numpy."
   ]
  },
  {
   "cell_type": "code",
   "execution_count": 26,
   "metadata": {},
   "outputs": [
    {
     "name": "stdout",
     "output_type": "stream",
     "text": [
      "[0.61306346 0.90234858 0.09928035 0.96980907 0.65314004]\n",
      "1.6022040728828197\n",
      "1.6022040728828197\n"
     ]
    }
   ],
   "source": [
    "from numpy.linalg import norm\n",
    "\n",
    "vec = np.random.random((5,))\n",
    "print(vec)\n",
    "print(np.sqrt(np.sum(vec**2)))\n",
    "print(norm(vec))"
   ]
  },
  {
   "cell_type": "code",
   "execution_count": 29,
   "metadata": {},
   "outputs": [
    {
     "name": "stdout",
     "output_type": "stream",
     "text": [
      "[1.4 3.3 2.4 2.2]\n"
     ]
    }
   ],
   "source": [
    "print(np.round(norm(X_train - x_new, axis=1), 1))#utilizzando la norma vettorialmente"
   ]
  },
  {
   "cell_type": "markdown",
   "metadata": {},
   "source": [
    "**Nota**: abbiamo smesso di scrivere cicli for!"
   ]
  },
  {
   "cell_type": "markdown",
   "metadata": {},
   "source": [
    "6.6\n",
    "---"
   ]
  },
  {
   "cell_type": "code",
   "execution_count": 34,
   "metadata": {},
   "outputs": [
    {
     "name": "stdout",
     "output_type": "stream",
     "text": [
      "[[ 1.6 66. ]\n",
      " [ 1.6 63. ]\n",
      " [ 1.9 67. ]]\n"
     ]
    }
   ],
   "source": [
    "people = np.array([[1.60, 66],\n",
    "                   [1.60, 63],\n",
    "                   [1.90, 67]])\n",
    "\n",
    "print(people)"
   ]
  },
  {
   "cell_type": "code",
   "execution_count": 35,
   "metadata": {},
   "outputs": [
    {
     "name": "stdout",
     "output_type": "stream",
     "text": [
      "[ 1.6 66. ]\n",
      "[ 1.6 63. ]\n",
      "[ 1.9 67. ]\n"
     ]
    }
   ],
   "source": [
    "A, B, C = people\n",
    "print(A)\n",
    "print(B)\n",
    "print(C)"
   ]
  },
  {
   "cell_type": "code",
   "execution_count": 36,
   "metadata": {},
   "outputs": [
    {
     "name": "stdout",
     "output_type": "stream",
     "text": [
      "3.0\n",
      "1.0440306508910548\n"
     ]
    }
   ],
   "source": [
    "print(norm(A-B))\n",
    "print(norm(A-C))"
   ]
  },
  {
   "cell_type": "code",
   "execution_count": 37,
   "metadata": {},
   "outputs": [
    {
     "name": "stdout",
     "output_type": "stream",
     "text": [
      "[0. 0. 1.]\n",
      "[0.75 0.   1.  ]\n"
     ]
    }
   ],
   "source": [
    "def scale_01(column):\n",
    "    return (column - np.min(column)) / (np.max(column) - np.min(column))\n",
    "\n",
    "scaled_height = scale_01(people[:, 0])\n",
    "scaled_weight = scale_01(people[:, 1])\n",
    "\n",
    "print(scaled_height)\n",
    "print(scaled_weight)"
   ]
  },
  {
   "cell_type": "code",
   "execution_count": 38,
   "metadata": {},
   "outputs": [
    {
     "name": "stdout",
     "output_type": "stream",
     "text": [
      "[[0.   0.   1.  ]\n",
      " [0.75 0.   1.  ]]\n"
     ]
    }
   ],
   "source": [
    "scaled_people = np.vstack([scaled_height, scaled_weight])\n",
    "print(scaled_people)"
   ]
  },
  {
   "cell_type": "code",
   "execution_count": 39,
   "metadata": {},
   "outputs": [
    {
     "name": "stdout",
     "output_type": "stream",
     "text": [
      "[[0.   0.75]\n",
      " [0.   0.  ]\n",
      " [1.   1.  ]]\n"
     ]
    }
   ],
   "source": [
    "scaled_people = scaled_people.T#trasposizione\n",
    "print(scaled_people)"
   ]
  },
  {
   "cell_type": "markdown",
   "metadata": {},
   "source": [
    "Scriviamo tutto in modo più veloce e compatto, utilizzando il calcolo vettoriale."
   ]
  },
  {
   "cell_type": "code",
   "execution_count": 46,
   "metadata": {},
   "outputs": [
    {
     "name": "stdout",
     "output_type": "stream",
     "text": [
      "[[ 1.6 66. ]\n",
      " [ 1.6 63. ]\n",
      " [ 1.9 67. ]]\n"
     ]
    }
   ],
   "source": [
    "print(people)"
   ]
  },
  {
   "cell_type": "code",
   "execution_count": 47,
   "metadata": {},
   "outputs": [
    {
     "name": "stdout",
     "output_type": "stream",
     "text": [
      "[ 1.6 63. ]\n"
     ]
    }
   ],
   "source": [
    "print(np.min(people, axis=0))#minimo per colonna (cioè, 'lungo le righe')"
   ]
  },
  {
   "cell_type": "code",
   "execution_count": 49,
   "metadata": {},
   "outputs": [
    {
     "name": "stdout",
     "output_type": "stream",
     "text": [
      "[[0.  3. ]\n",
      " [0.  0. ]\n",
      " [0.3 4. ]]\n"
     ]
    }
   ],
   "source": [
    "print(people - np.min(people, axis=0))"
   ]
  },
  {
   "cell_type": "code",
   "execution_count": 52,
   "metadata": {},
   "outputs": [
    {
     "name": "stdout",
     "output_type": "stream",
     "text": [
      "[0.3 4. ]\n"
     ]
    }
   ],
   "source": [
    "print(np.max(people, axis=0) - np.min(people, axis=0))"
   ]
  },
  {
   "cell_type": "code",
   "execution_count": 53,
   "metadata": {},
   "outputs": [
    {
     "name": "stdout",
     "output_type": "stream",
     "text": [
      "[[0.   0.75]\n",
      " [0.   0.  ]\n",
      " [1.   1.  ]]\n"
     ]
    }
   ],
   "source": [
    "scaled_people = (people - np.min(people, axis=0)) / (np.max(people, axis=0) - np.min(people, axis=0))\n",
    "print(scaled_people)"
   ]
  },
  {
   "cell_type": "code",
   "execution_count": 55,
   "metadata": {},
   "outputs": [
    {
     "name": "stdout",
     "output_type": "stream",
     "text": [
      "[0.   0.75]\n",
      "[0. 0.]\n",
      "[1. 1.]\n"
     ]
    }
   ],
   "source": [
    "scaled_A, scaled_B, scaled_C = scaled_people\n",
    "print(scaled_A)\n",
    "print(scaled_B)\n",
    "print(scaled_C)"
   ]
  },
  {
   "cell_type": "code",
   "execution_count": 56,
   "metadata": {},
   "outputs": [
    {
     "name": "stdout",
     "output_type": "stream",
     "text": [
      "0.75\n",
      "1.0307764064044151\n"
     ]
    }
   ],
   "source": [
    "print(norm(scaled_A-scaled_B))\n",
    "print(norm(scaled_A-scaled_C))"
   ]
  },
  {
   "cell_type": "markdown",
   "metadata": {},
   "source": [
    "6.7\n",
    "---"
   ]
  },
  {
   "cell_type": "code",
   "execution_count": 60,
   "metadata": {},
   "outputs": [
    {
     "name": "stdout",
     "output_type": "stream",
     "text": [
      "Matrice delle feature:\n",
      " [[0.5488135  0.71518937 0.60276338 0.54488318]\n",
      " [0.4236548  0.64589411 0.43758721 0.891773  ]\n",
      " [0.96366276 0.38344152 0.79172504 0.52889492]\n",
      " [0.56804456 0.92559664 0.07103606 0.0871293 ]\n",
      " [0.0202184  0.83261985 0.77815675 0.87001215]\n",
      " [0.97861834 0.79915856 0.46147936 0.78052918]\n",
      " [0.11827443 0.63992102 0.14335329 0.94466892]]\n",
      "\n",
      "Vettore delle etichette: [1 0 0 1 1 0 1]\n",
      "\n",
      "Nuovo esempio da classificare: [0.73691818 0.21655035 0.13521817 0.32414101]\n",
      "\n",
      "Predizione (k=3): 1\n",
      "Predizione (k=5): 0\n"
     ]
    }
   ],
   "source": [
    "import numpy as np\n",
    "from numpy.linalg import norm\n",
    "\n",
    "np.random.seed(0)#fisso il generatore casuale per la riproducibilità dell'esperimento\n",
    "\n",
    "def KNN(k, X, y, x):\n",
    "    distances = norm(X - x, axis=1)\n",
    "    sorted_labels = y[distances.argsort()]\n",
    "    return np.argmax(np.bincount(sorted_labels[:k]))\n",
    "\n",
    "def one_line_KNN(k, X, y, x):\n",
    "    return np.argmax(np.bincount(y[norm(X - x, axis=1).argsort()][:k]))\n",
    "\n",
    "X_train = np.random.random((7,4))\n",
    "y_train = np.random.randint(0, 2, (7))\n",
    "x_new = np.random.random((4,))\n",
    "\n",
    "print('Matrice delle feature:\\n', X_train)\n",
    "\n",
    "print('\\nVettore delle etichette:', y_train)\n",
    "\n",
    "print('\\nNuovo esempio da classificare:', x_new)\n",
    "\n",
    "print('\\nPredizione (k=3):', one_line_KNN(3, X_train, y_train, x_new))\n",
    "print('Predizione (k=5):', one_line_KNN(5, X_train, y_train, x_new))"
   ]
  },
  {
   "cell_type": "markdown",
   "metadata": {},
   "source": [
    "7.3\n",
    "---"
   ]
  },
  {
   "cell_type": "code",
   "execution_count": 7,
   "metadata": {},
   "outputs": [
    {
     "name": "stdout",
     "output_type": "stream",
     "text": [
      ".. _boston_dataset:\n",
      "\n",
      "Boston house prices dataset\n",
      "---------------------------\n",
      "\n",
      "**Data Set Characteristics:**  \n",
      "\n",
      "    :Number of Instances: 506 \n",
      "\n",
      "    :Number of Attributes: 13 numeric/categorical predictive. Median Value (attribute 14) is usually the target.\n",
      "\n",
      "    :Attribute Information (in order):\n",
      "        - CRIM     per capita crime rate by town\n",
      "        - ZN       proportion of residential land zoned for lots over 25,000 sq.ft.\n",
      "        - INDUS    proportion of non-retail business acres per town\n",
      "        - CHAS     Charles River dummy variable (= 1 if tract bounds river; 0 otherwise)\n",
      "        - NOX      nitric oxides concentration (parts per 10 million)\n",
      "        - RM       average number of rooms per dwelling\n",
      "        - AGE      proportion of owner-occupied units built prior to 1940\n",
      "        - DIS      weighted distances to five Boston employment centres\n",
      "        - RAD      index of accessibility to radial highways\n",
      "        - TAX      full-value property-tax rate per $10,000\n",
      "        - PTRATIO  pupil-teacher ratio by town\n",
      "        - B        1000(Bk - 0.63)^2 where Bk is the proportion of blacks by town\n",
      "        - LSTAT    % lower status of the population\n",
      "        - MEDV     Median value of owner-occupied homes in $1000's\n",
      "\n",
      "    :Missing Attribute Values: None\n",
      "\n",
      "    :Creator: Harrison, D. and Rubinfeld, D.L.\n",
      "\n",
      "This is a copy of UCI ML housing dataset.\n",
      "https://archive.ics.uci.edu/ml/machine-learning-databases/housing/\n",
      "\n",
      "\n",
      "This dataset was taken from the StatLib library which is maintained at Carnegie Mellon University.\n",
      "\n",
      "The Boston house-price data of Harrison, D. and Rubinfeld, D.L. 'Hedonic\n",
      "prices and the demand for clean air', J. Environ. Economics & Management,\n",
      "vol.5, 81-102, 1978.   Used in Belsley, Kuh & Welsch, 'Regression diagnostics\n",
      "...', Wiley, 1980.   N.B. Various transformations are used in the table on\n",
      "pages 244-261 of the latter.\n",
      "\n",
      "The Boston house-price data has been used in many machine learning papers that address regression\n",
      "problems.   \n",
      "     \n",
      ".. topic:: References\n",
      "\n",
      "   - Belsley, Kuh & Welsch, 'Regression diagnostics: Identifying Influential Data and Sources of Collinearity', Wiley, 1980. 244-261.\n",
      "   - Quinlan,R. (1993). Combining Instance-Based and Model-Based Learning. In Proceedings on the Tenth International Conference of Machine Learning, 236-243, University of Massachusetts, Amherst. Morgan Kaufmann.\n",
      "\n"
     ]
    }
   ],
   "source": [
    "#Importo librerie\n",
    "from sklearn import datasets, neighbors\n",
    "from sklearn.utils import shuffle\n",
    "from sklearn.preprocessing import MinMaxScaler\n",
    "from sklearn.neighbors import KNeighborsRegressor as KNN\n",
    "from sklearn.metrics import mean_absolute_error\n",
    "\n",
    "#Carico il dataset\n",
    "boston = datasets.load_boston()\n",
    "X, y = boston['data'], boston['target']\n",
    "\n",
    "print(boston['DESCR'])"
   ]
  },
  {
   "cell_type": "code",
   "execution_count": 8,
   "metadata": {},
   "outputs": [
    {
     "name": "stdout",
     "output_type": "stream",
     "text": [
      "Model accuracy on test set: 2.845\n"
     ]
    }
   ],
   "source": [
    "#Scalo le feature tra 0 e 1\n",
    "scaler = MinMaxScaler()\n",
    "X = scaler.fit_transform(X)\n",
    "\n",
    "#Separo train e test\n",
    "X, y = shuffle(X, y, random_state=0)\n",
    "X_train, X_test = X[:400], X[400:]\n",
    "y_train, y_test = y[:400], y[400:]\n",
    "\n",
    "#Addestro il modello\n",
    "model = KNN(n_neighbors=3).fit(X_train, y_train)\n",
    "\n",
    "#Ottengo predizioni e valuto il mae\n",
    "predictions = model.predict(X_test)\n",
    "mae = mean_absolute_error(y_test, predictions)\n",
    "print('Model accuracy on test set: {:.3f}'.format(mae))"
   ]
  },
  {
   "cell_type": "markdown",
   "metadata": {},
   "source": [
    "7.4\n",
    "---"
   ]
  },
  {
   "cell_type": "code",
   "execution_count": 46,
   "metadata": {},
   "outputs": [
    {
     "name": "stdout",
     "output_type": "stream",
     "text": [
      "(75, 4) (25, 4) (50, 4)\n"
     ]
    }
   ],
   "source": [
    "from sklearn.datasets import load_iris\n",
    "from sklearn.preprocessing import MinMaxScaler\n",
    "from sklearn.utils import shuffle\n",
    "from sklearn.neighbors import KNeighborsClassifier as KNN\n",
    "from sklearn.metrics import accuracy_score\n",
    "import numpy as np\n",
    "\n",
    "#Carico il dataset\n",
    "iris = load_iris()\n",
    "X, y = iris['data'], iris['target']\n",
    "\n",
    "#Scalo le feature tra 0 e 1\n",
    "scaler = MinMaxScaler()\n",
    "X = scaler.fit_transform(X)\n",
    "\n",
    "#Separo train , validation e test\n",
    "X, y = shuffle(X, y, random_state=123)\n",
    "X_tr, X_val, X_test = X[:75], X[75:100], X[100:]\n",
    "y_tr, y_val, y_test = y[:75], y[75:100], y[100:]\n",
    "\n",
    "print(X_tr.shape, X_val.shape, X_test.shape)"
   ]
  },
  {
   "cell_type": "code",
   "execution_count": 47,
   "metadata": {},
   "outputs": [
    {
     "name": "stdout",
     "output_type": "stream",
     "text": [
      "Validation accuracy with k 1: 0.92\n",
      "Validation accuracy with k 2: 0.96\n",
      "Validation accuracy with k 3: 0.92\n",
      "Validation accuracy with k 5: 0.92\n",
      "Validation accuracy with k 10: 0.92\n"
     ]
    }
   ],
   "source": [
    "for k in [1,2,3,5,10]:\n",
    "    model = KNN(n_neighbors=k)\n",
    "    model.fit(X_tr, y_tr)\n",
    "    predictions = model.predict(X_val)\n",
    "    validation_accuracy = accuracy_score(y_val, predictions)\n",
    "    print('Validation accuracy with k {}: {:.2f}'.format(k, validation_accuracy))   "
   ]
  },
  {
   "cell_type": "code",
   "execution_count": 48,
   "metadata": {},
   "outputs": [
    {
     "name": "stdout",
     "output_type": "stream",
     "text": [
      "(100, 4) (100,)\n"
     ]
    }
   ],
   "source": [
    "X_train = np.vstack([X_tr, X_val])\n",
    "y_train = np.hstack([y_tr, y_val])\n",
    "\n",
    "print(X_train.shape, y_train.shape)"
   ]
  },
  {
   "cell_type": "code",
   "execution_count": 49,
   "metadata": {},
   "outputs": [
    {
     "name": "stdout",
     "output_type": "stream",
     "text": [
      "Test accuracy: 0.96\n"
     ]
    }
   ],
   "source": [
    "predictions = KNN(n_neighbors=2).fit(X_train, y_train).predict(X_test)\n",
    "print('Test accuracy:', accuracy_score(y_test, predictions))"
   ]
  },
  {
   "cell_type": "markdown",
   "metadata": {},
   "source": [
    "8.1\n",
    "---"
   ]
  },
  {
   "cell_type": "code",
   "execution_count": 50,
   "metadata": {},
   "outputs": [
    {
     "data": {
      "text/html": [
       "<div>\n",
       "<style scoped>\n",
       "    .dataframe tbody tr th:only-of-type {\n",
       "        vertical-align: middle;\n",
       "    }\n",
       "\n",
       "    .dataframe tbody tr th {\n",
       "        vertical-align: top;\n",
       "    }\n",
       "\n",
       "    .dataframe thead th {\n",
       "        text-align: right;\n",
       "    }\n",
       "</style>\n",
       "<table border=\"1\" class=\"dataframe\">\n",
       "  <thead>\n",
       "    <tr style=\"text-align: right;\">\n",
       "      <th></th>\n",
       "      <th>BOROUGH</th>\n",
       "      <th>NEIGHBORHOOD</th>\n",
       "      <th>BUILDING CLASS CATEGORY</th>\n",
       "      <th>TAX CLASS AT PRESENT</th>\n",
       "      <th>BLOCK</th>\n",
       "      <th>LOT</th>\n",
       "      <th>BUILDING CLASS AT PRESENT</th>\n",
       "      <th>ADDRESS</th>\n",
       "      <th>ZIP CODE</th>\n",
       "      <th>RESIDENTIAL UNITS</th>\n",
       "      <th>COMMERCIAL UNITS</th>\n",
       "      <th>LAND SQUARE FEET</th>\n",
       "      <th>GROSS SQUARE FEET</th>\n",
       "      <th>YEAR BUILT</th>\n",
       "      <th>TAX CLASS AT TIME OF SALE</th>\n",
       "      <th>BUILDING CLASS AT TIME OF SALE</th>\n",
       "      <th>SALE DATE</th>\n",
       "      <th>SALE PRICE</th>\n",
       "    </tr>\n",
       "  </thead>\n",
       "  <tbody>\n",
       "    <tr>\n",
       "      <th>0</th>\n",
       "      <td>MANHATTAN</td>\n",
       "      <td>ALPHABET CITY</td>\n",
       "      <td>07 RENTALS - WALKUP APARTMENTS</td>\n",
       "      <td>2A</td>\n",
       "      <td>392</td>\n",
       "      <td>6</td>\n",
       "      <td>C2</td>\n",
       "      <td>153 AVENUE B</td>\n",
       "      <td>10009</td>\n",
       "      <td>5</td>\n",
       "      <td>0</td>\n",
       "      <td>1633</td>\n",
       "      <td>6440</td>\n",
       "      <td>1900</td>\n",
       "      <td>2</td>\n",
       "      <td>C2</td>\n",
       "      <td>2017-07-19 00:00:00</td>\n",
       "      <td>6625000</td>\n",
       "    </tr>\n",
       "    <tr>\n",
       "      <th>1</th>\n",
       "      <td>MANHATTAN</td>\n",
       "      <td>ALPHABET CITY</td>\n",
       "      <td>07 RENTALS - WALKUP APARTMENTS</td>\n",
       "      <td>2B</td>\n",
       "      <td>402</td>\n",
       "      <td>21</td>\n",
       "      <td>C4</td>\n",
       "      <td>154 EAST 7TH STREET</td>\n",
       "      <td>10009</td>\n",
       "      <td>10</td>\n",
       "      <td>0</td>\n",
       "      <td>2272</td>\n",
       "      <td>6794</td>\n",
       "      <td>1913</td>\n",
       "      <td>2</td>\n",
       "      <td>C4</td>\n",
       "      <td>2016-09-23 00:00:00</td>\n",
       "      <td>3936272</td>\n",
       "    </tr>\n",
       "    <tr>\n",
       "      <th>2</th>\n",
       "      <td>MANHATTAN</td>\n",
       "      <td>ALPHABET CITY</td>\n",
       "      <td>07 RENTALS - WALKUP APARTMENTS</td>\n",
       "      <td>2A</td>\n",
       "      <td>404</td>\n",
       "      <td>55</td>\n",
       "      <td>C2</td>\n",
       "      <td>301 EAST 10TH   STREET</td>\n",
       "      <td>10009</td>\n",
       "      <td>6</td>\n",
       "      <td>0</td>\n",
       "      <td>2369</td>\n",
       "      <td>4615</td>\n",
       "      <td>1900</td>\n",
       "      <td>2</td>\n",
       "      <td>C2</td>\n",
       "      <td>2016-11-17 00:00:00</td>\n",
       "      <td>8000000</td>\n",
       "    </tr>\n",
       "    <tr>\n",
       "      <th>3</th>\n",
       "      <td>MANHATTAN</td>\n",
       "      <td>ALPHABET CITY</td>\n",
       "      <td>07 RENTALS - WALKUP APARTMENTS</td>\n",
       "      <td>2B</td>\n",
       "      <td>406</td>\n",
       "      <td>32</td>\n",
       "      <td>C4</td>\n",
       "      <td>210 AVENUE B</td>\n",
       "      <td>10009</td>\n",
       "      <td>8</td>\n",
       "      <td>0</td>\n",
       "      <td>1750</td>\n",
       "      <td>4226</td>\n",
       "      <td>1920</td>\n",
       "      <td>2</td>\n",
       "      <td>C4</td>\n",
       "      <td>2016-09-23 00:00:00</td>\n",
       "      <td>3192840</td>\n",
       "    </tr>\n",
       "    <tr>\n",
       "      <th>4</th>\n",
       "      <td>MANHATTAN</td>\n",
       "      <td>ALPHABET CITY</td>\n",
       "      <td>08 RENTALS - ELEVATOR APARTMENTS</td>\n",
       "      <td>2</td>\n",
       "      <td>387</td>\n",
       "      <td>153</td>\n",
       "      <td>D9</td>\n",
       "      <td>629 EAST 5TH STREET</td>\n",
       "      <td>10009</td>\n",
       "      <td>24</td>\n",
       "      <td>0</td>\n",
       "      <td>4489</td>\n",
       "      <td>18523</td>\n",
       "      <td>1920</td>\n",
       "      <td>2</td>\n",
       "      <td>D9</td>\n",
       "      <td>2016-11-07 00:00:00</td>\n",
       "      <td>16232000</td>\n",
       "    </tr>\n",
       "  </tbody>\n",
       "</table>\n",
       "</div>"
      ],
      "text/plain": [
       "     BOROUGH   NEIGHBORHOOD                      BUILDING CLASS CATEGORY  \\\n",
       "0  MANHATTAN  ALPHABET CITY  07 RENTALS - WALKUP APARTMENTS                \n",
       "1  MANHATTAN  ALPHABET CITY  07 RENTALS - WALKUP APARTMENTS                \n",
       "2  MANHATTAN  ALPHABET CITY  07 RENTALS - WALKUP APARTMENTS                \n",
       "3  MANHATTAN  ALPHABET CITY  07 RENTALS - WALKUP APARTMENTS                \n",
       "4  MANHATTAN  ALPHABET CITY  08 RENTALS - ELEVATOR APARTMENTS              \n",
       "\n",
       "  TAX CLASS AT PRESENT  BLOCK  LOT BUILDING CLASS AT PRESENT  \\\n",
       "0                   2A    392    6                        C2   \n",
       "1                   2B    402   21                        C4   \n",
       "2                   2A    404   55                        C2   \n",
       "3                   2B    406   32                        C4   \n",
       "4                    2    387  153                        D9   \n",
       "\n",
       "                  ADDRESS  ZIP CODE  RESIDENTIAL UNITS  COMMERCIAL UNITS  \\\n",
       "0            153 AVENUE B     10009                  5                 0   \n",
       "1     154 EAST 7TH STREET     10009                 10                 0   \n",
       "2  301 EAST 10TH   STREET     10009                  6                 0   \n",
       "3            210 AVENUE B     10009                  8                 0   \n",
       "4     629 EAST 5TH STREET     10009                 24                 0   \n",
       "\n",
       "   LAND SQUARE FEET  GROSS SQUARE FEET  YEAR BUILT  TAX CLASS AT TIME OF SALE  \\\n",
       "0              1633               6440        1900                          2   \n",
       "1              2272               6794        1913                          2   \n",
       "2              2369               4615        1900                          2   \n",
       "3              1750               4226        1920                          2   \n",
       "4              4489              18523        1920                          2   \n",
       "\n",
       "  BUILDING CLASS AT TIME OF SALE            SALE DATE  SALE PRICE  \n",
       "0                             C2  2017-07-19 00:00:00     6625000  \n",
       "1                             C4  2016-09-23 00:00:00     3936272  \n",
       "2                             C2  2016-11-17 00:00:00     8000000  \n",
       "3                             C4  2016-09-23 00:00:00     3192840  \n",
       "4                             D9  2016-11-07 00:00:00    16232000  "
      ]
     },
     "execution_count": 50,
     "metadata": {},
     "output_type": "execute_result"
    }
   ],
   "source": [
    "import pandas as pd\n",
    "\n",
    "df = pd.read_csv('data/nyc_rolling_sales.csv')\n",
    "df.head()"
   ]
  },
  {
   "cell_type": "markdown",
   "metadata": {},
   "source": [
    "Nell'ottica di predire il prezzo di una unità immobiliare o di un edificio, alcune colonne risultano inutili o ridondanti. Per esempio:\n",
    "- l'informazione data da *BOROUGH* è contenuta (con maggiore dettaglio) anche in *NEIGHBORHOOD* e in *ZIP CODE*; quale colonna scegliamo?\n",
    "- lo stesso vale (vedi glossario qui sotto) per le colonne relative alla *BUILDING CLASS*\n",
    "- *ADDRESS* e la coppia *BLOCK*+*LOT* (vedi glossario) sono identificativi *univoci*, e non sono adatti ad essere usati come feature; perchè?\n",
    "- l'utilità di *SALE DATE* dipende dal contesto: come la possiamo usare?\n",
    "- ...\n",
    "\n",
    "Glossario: https://www1.nyc.gov/assets/finance/downloads/pdf/07pdf/glossary_rsf071607.pdf."
   ]
  },
  {
   "cell_type": "code",
   "execution_count": 51,
   "metadata": {},
   "outputs": [
    {
     "data": {
      "text/plain": [
       "Index(['BOROUGH', 'NEIGHBORHOOD', 'BUILDING CLASS CATEGORY',\n",
       "       'TAX CLASS AT PRESENT', 'BLOCK', 'LOT', 'BUILDING CLASS AT PRESENT',\n",
       "       'ADDRESS', 'ZIP CODE', 'RESIDENTIAL UNITS', 'COMMERCIAL UNITS',\n",
       "       'LAND SQUARE FEET', 'GROSS SQUARE FEET', 'YEAR BUILT',\n",
       "       'TAX CLASS AT TIME OF SALE', 'BUILDING CLASS AT TIME OF SALE',\n",
       "       'SALE DATE', 'SALE PRICE'],\n",
       "      dtype='object')"
      ]
     },
     "execution_count": 51,
     "metadata": {},
     "output_type": "execute_result"
    }
   ],
   "source": [
    "df.columns"
   ]
  },
  {
   "cell_type": "code",
   "execution_count": 52,
   "metadata": {},
   "outputs": [],
   "source": [
    "df = df.drop(columns=['NEIGHBORHOOD',\n",
    "                      'ZIP CODE',\n",
    "                      'BLOCK',\n",
    "                      'LOT',\n",
    "                      'ADDRESS',\n",
    "                      'BUILDING CLASS AT PRESENT',\n",
    "                      'BUILDING CLASS AT TIME OF SALE',\n",
    "                      'TAX CLASS AT PRESENT',\n",
    "                      'SALE DATE'])"
   ]
  },
  {
   "cell_type": "code",
   "execution_count": 53,
   "metadata": {},
   "outputs": [
    {
     "data": {
      "text/html": [
       "<div>\n",
       "<style scoped>\n",
       "    .dataframe tbody tr th:only-of-type {\n",
       "        vertical-align: middle;\n",
       "    }\n",
       "\n",
       "    .dataframe tbody tr th {\n",
       "        vertical-align: top;\n",
       "    }\n",
       "\n",
       "    .dataframe thead th {\n",
       "        text-align: right;\n",
       "    }\n",
       "</style>\n",
       "<table border=\"1\" class=\"dataframe\">\n",
       "  <thead>\n",
       "    <tr style=\"text-align: right;\">\n",
       "      <th></th>\n",
       "      <th>BOROUGH</th>\n",
       "      <th>BUILDING CLASS CATEGORY</th>\n",
       "      <th>RESIDENTIAL UNITS</th>\n",
       "      <th>COMMERCIAL UNITS</th>\n",
       "      <th>LAND SQUARE FEET</th>\n",
       "      <th>GROSS SQUARE FEET</th>\n",
       "      <th>YEAR BUILT</th>\n",
       "      <th>TAX CLASS AT TIME OF SALE</th>\n",
       "      <th>SALE PRICE</th>\n",
       "    </tr>\n",
       "  </thead>\n",
       "  <tbody>\n",
       "    <tr>\n",
       "      <th>0</th>\n",
       "      <td>MANHATTAN</td>\n",
       "      <td>07 RENTALS - WALKUP APARTMENTS</td>\n",
       "      <td>5</td>\n",
       "      <td>0</td>\n",
       "      <td>1633</td>\n",
       "      <td>6440</td>\n",
       "      <td>1900</td>\n",
       "      <td>2</td>\n",
       "      <td>6625000</td>\n",
       "    </tr>\n",
       "    <tr>\n",
       "      <th>1</th>\n",
       "      <td>MANHATTAN</td>\n",
       "      <td>07 RENTALS - WALKUP APARTMENTS</td>\n",
       "      <td>10</td>\n",
       "      <td>0</td>\n",
       "      <td>2272</td>\n",
       "      <td>6794</td>\n",
       "      <td>1913</td>\n",
       "      <td>2</td>\n",
       "      <td>3936272</td>\n",
       "    </tr>\n",
       "    <tr>\n",
       "      <th>2</th>\n",
       "      <td>MANHATTAN</td>\n",
       "      <td>07 RENTALS - WALKUP APARTMENTS</td>\n",
       "      <td>6</td>\n",
       "      <td>0</td>\n",
       "      <td>2369</td>\n",
       "      <td>4615</td>\n",
       "      <td>1900</td>\n",
       "      <td>2</td>\n",
       "      <td>8000000</td>\n",
       "    </tr>\n",
       "    <tr>\n",
       "      <th>3</th>\n",
       "      <td>MANHATTAN</td>\n",
       "      <td>07 RENTALS - WALKUP APARTMENTS</td>\n",
       "      <td>8</td>\n",
       "      <td>0</td>\n",
       "      <td>1750</td>\n",
       "      <td>4226</td>\n",
       "      <td>1920</td>\n",
       "      <td>2</td>\n",
       "      <td>3192840</td>\n",
       "    </tr>\n",
       "    <tr>\n",
       "      <th>4</th>\n",
       "      <td>MANHATTAN</td>\n",
       "      <td>08 RENTALS - ELEVATOR APARTMENTS</td>\n",
       "      <td>24</td>\n",
       "      <td>0</td>\n",
       "      <td>4489</td>\n",
       "      <td>18523</td>\n",
       "      <td>1920</td>\n",
       "      <td>2</td>\n",
       "      <td>16232000</td>\n",
       "    </tr>\n",
       "  </tbody>\n",
       "</table>\n",
       "</div>"
      ],
      "text/plain": [
       "     BOROUGH                      BUILDING CLASS CATEGORY  RESIDENTIAL UNITS  \\\n",
       "0  MANHATTAN  07 RENTALS - WALKUP APARTMENTS                               5   \n",
       "1  MANHATTAN  07 RENTALS - WALKUP APARTMENTS                              10   \n",
       "2  MANHATTAN  07 RENTALS - WALKUP APARTMENTS                               6   \n",
       "3  MANHATTAN  07 RENTALS - WALKUP APARTMENTS                               8   \n",
       "4  MANHATTAN  08 RENTALS - ELEVATOR APARTMENTS                            24   \n",
       "\n",
       "   COMMERCIAL UNITS  LAND SQUARE FEET  GROSS SQUARE FEET  YEAR BUILT  \\\n",
       "0                 0              1633               6440        1900   \n",
       "1                 0              2272               6794        1913   \n",
       "2                 0              2369               4615        1900   \n",
       "3                 0              1750               4226        1920   \n",
       "4                 0              4489              18523        1920   \n",
       "\n",
       "   TAX CLASS AT TIME OF SALE  SALE PRICE  \n",
       "0                          2     6625000  \n",
       "1                          2     3936272  \n",
       "2                          2     8000000  \n",
       "3                          2     3192840  \n",
       "4                          2    16232000  "
      ]
     },
     "execution_count": 53,
     "metadata": {},
     "output_type": "execute_result"
    }
   ],
   "source": [
    "df.head()"
   ]
  },
  {
   "cell_type": "code",
   "execution_count": 54,
   "metadata": {},
   "outputs": [
    {
     "data": {
      "text/plain": [
       "(29280, 9)"
      ]
     },
     "execution_count": 54,
     "metadata": {},
     "output_type": "execute_result"
    }
   ],
   "source": [
    "df.shape"
   ]
  },
  {
   "cell_type": "markdown",
   "metadata": {},
   "source": [
    "Passiamo alla codifica one-hot delle feature nominali."
   ]
  },
  {
   "cell_type": "code",
   "execution_count": 55,
   "metadata": {},
   "outputs": [
    {
     "data": {
      "text/html": [
       "<div>\n",
       "<style scoped>\n",
       "    .dataframe tbody tr th:only-of-type {\n",
       "        vertical-align: middle;\n",
       "    }\n",
       "\n",
       "    .dataframe tbody tr th {\n",
       "        vertical-align: top;\n",
       "    }\n",
       "\n",
       "    .dataframe thead th {\n",
       "        text-align: right;\n",
       "    }\n",
       "</style>\n",
       "<table border=\"1\" class=\"dataframe\">\n",
       "  <thead>\n",
       "    <tr style=\"text-align: right;\">\n",
       "      <th></th>\n",
       "      <th>RESIDENTIAL UNITS</th>\n",
       "      <th>COMMERCIAL UNITS</th>\n",
       "      <th>LAND SQUARE FEET</th>\n",
       "      <th>GROSS SQUARE FEET</th>\n",
       "      <th>YEAR BUILT</th>\n",
       "      <th>SALE PRICE</th>\n",
       "      <th>BOR_BRONX</th>\n",
       "      <th>BOR_BROOKLYN</th>\n",
       "      <th>BOR_MANHATTAN</th>\n",
       "      <th>BOR_QUEENS</th>\n",
       "      <th>...</th>\n",
       "      <th>BC_34 THEATRES</th>\n",
       "      <th>BC_35 INDOOR PUBLIC AND CULTURAL FACILITIES</th>\n",
       "      <th>BC_36 OUTDOOR RECREATIONAL FACILITIES</th>\n",
       "      <th>BC_37 RELIGIOUS FACILITIES</th>\n",
       "      <th>BC_38 ASYLUMS AND HOMES</th>\n",
       "      <th>BC_40 SELECTED GOVERNMENTAL FACILITIES</th>\n",
       "      <th>BC_41 TAX CLASS 4 - OTHER</th>\n",
       "      <th>TC_1</th>\n",
       "      <th>TC_2</th>\n",
       "      <th>TC_4</th>\n",
       "    </tr>\n",
       "  </thead>\n",
       "  <tbody>\n",
       "    <tr>\n",
       "      <th>0</th>\n",
       "      <td>5</td>\n",
       "      <td>0</td>\n",
       "      <td>1633</td>\n",
       "      <td>6440</td>\n",
       "      <td>1900</td>\n",
       "      <td>6625000</td>\n",
       "      <td>0</td>\n",
       "      <td>0</td>\n",
       "      <td>1</td>\n",
       "      <td>0</td>\n",
       "      <td>...</td>\n",
       "      <td>0</td>\n",
       "      <td>0</td>\n",
       "      <td>0</td>\n",
       "      <td>0</td>\n",
       "      <td>0</td>\n",
       "      <td>0</td>\n",
       "      <td>0</td>\n",
       "      <td>0</td>\n",
       "      <td>1</td>\n",
       "      <td>0</td>\n",
       "    </tr>\n",
       "    <tr>\n",
       "      <th>1</th>\n",
       "      <td>10</td>\n",
       "      <td>0</td>\n",
       "      <td>2272</td>\n",
       "      <td>6794</td>\n",
       "      <td>1913</td>\n",
       "      <td>3936272</td>\n",
       "      <td>0</td>\n",
       "      <td>0</td>\n",
       "      <td>1</td>\n",
       "      <td>0</td>\n",
       "      <td>...</td>\n",
       "      <td>0</td>\n",
       "      <td>0</td>\n",
       "      <td>0</td>\n",
       "      <td>0</td>\n",
       "      <td>0</td>\n",
       "      <td>0</td>\n",
       "      <td>0</td>\n",
       "      <td>0</td>\n",
       "      <td>1</td>\n",
       "      <td>0</td>\n",
       "    </tr>\n",
       "    <tr>\n",
       "      <th>2</th>\n",
       "      <td>6</td>\n",
       "      <td>0</td>\n",
       "      <td>2369</td>\n",
       "      <td>4615</td>\n",
       "      <td>1900</td>\n",
       "      <td>8000000</td>\n",
       "      <td>0</td>\n",
       "      <td>0</td>\n",
       "      <td>1</td>\n",
       "      <td>0</td>\n",
       "      <td>...</td>\n",
       "      <td>0</td>\n",
       "      <td>0</td>\n",
       "      <td>0</td>\n",
       "      <td>0</td>\n",
       "      <td>0</td>\n",
       "      <td>0</td>\n",
       "      <td>0</td>\n",
       "      <td>0</td>\n",
       "      <td>1</td>\n",
       "      <td>0</td>\n",
       "    </tr>\n",
       "    <tr>\n",
       "      <th>3</th>\n",
       "      <td>8</td>\n",
       "      <td>0</td>\n",
       "      <td>1750</td>\n",
       "      <td>4226</td>\n",
       "      <td>1920</td>\n",
       "      <td>3192840</td>\n",
       "      <td>0</td>\n",
       "      <td>0</td>\n",
       "      <td>1</td>\n",
       "      <td>0</td>\n",
       "      <td>...</td>\n",
       "      <td>0</td>\n",
       "      <td>0</td>\n",
       "      <td>0</td>\n",
       "      <td>0</td>\n",
       "      <td>0</td>\n",
       "      <td>0</td>\n",
       "      <td>0</td>\n",
       "      <td>0</td>\n",
       "      <td>1</td>\n",
       "      <td>0</td>\n",
       "    </tr>\n",
       "    <tr>\n",
       "      <th>4</th>\n",
       "      <td>24</td>\n",
       "      <td>0</td>\n",
       "      <td>4489</td>\n",
       "      <td>18523</td>\n",
       "      <td>1920</td>\n",
       "      <td>16232000</td>\n",
       "      <td>0</td>\n",
       "      <td>0</td>\n",
       "      <td>1</td>\n",
       "      <td>0</td>\n",
       "      <td>...</td>\n",
       "      <td>0</td>\n",
       "      <td>0</td>\n",
       "      <td>0</td>\n",
       "      <td>0</td>\n",
       "      <td>0</td>\n",
       "      <td>0</td>\n",
       "      <td>0</td>\n",
       "      <td>0</td>\n",
       "      <td>1</td>\n",
       "      <td>0</td>\n",
       "    </tr>\n",
       "  </tbody>\n",
       "</table>\n",
       "<p>5 rows × 43 columns</p>\n",
       "</div>"
      ],
      "text/plain": [
       "   RESIDENTIAL UNITS  COMMERCIAL UNITS  LAND SQUARE FEET  GROSS SQUARE FEET  \\\n",
       "0                  5                 0              1633               6440   \n",
       "1                 10                 0              2272               6794   \n",
       "2                  6                 0              2369               4615   \n",
       "3                  8                 0              1750               4226   \n",
       "4                 24                 0              4489              18523   \n",
       "\n",
       "   YEAR BUILT  SALE PRICE  BOR_BRONX  BOR_BROOKLYN  BOR_MANHATTAN  BOR_QUEENS  \\\n",
       "0        1900     6625000          0             0              1           0   \n",
       "1        1913     3936272          0             0              1           0   \n",
       "2        1900     8000000          0             0              1           0   \n",
       "3        1920     3192840          0             0              1           0   \n",
       "4        1920    16232000          0             0              1           0   \n",
       "\n",
       "   ...  BC_34 THEATRES                                  \\\n",
       "0  ...                                               0   \n",
       "1  ...                                               0   \n",
       "2  ...                                               0   \n",
       "3  ...                                               0   \n",
       "4  ...                                               0   \n",
       "\n",
       "   BC_35 INDOOR PUBLIC AND CULTURAL FACILITIES     \\\n",
       "0                                               0   \n",
       "1                                               0   \n",
       "2                                               0   \n",
       "3                                               0   \n",
       "4                                               0   \n",
       "\n",
       "   BC_36 OUTDOOR RECREATIONAL FACILITIES           \\\n",
       "0                                               0   \n",
       "1                                               0   \n",
       "2                                               0   \n",
       "3                                               0   \n",
       "4                                               0   \n",
       "\n",
       "   BC_37 RELIGIOUS FACILITIES                      \\\n",
       "0                                               0   \n",
       "1                                               0   \n",
       "2                                               0   \n",
       "3                                               0   \n",
       "4                                               0   \n",
       "\n",
       "   BC_38 ASYLUMS AND HOMES                         \\\n",
       "0                                               0   \n",
       "1                                               0   \n",
       "2                                               0   \n",
       "3                                               0   \n",
       "4                                               0   \n",
       "\n",
       "   BC_40 SELECTED GOVERNMENTAL FACILITIES          \\\n",
       "0                                               0   \n",
       "1                                               0   \n",
       "2                                               0   \n",
       "3                                               0   \n",
       "4                                               0   \n",
       "\n",
       "   BC_41 TAX CLASS 4 - OTHER                       TC_1  TC_2  TC_4  \n",
       "0                                               0     0     1     0  \n",
       "1                                               0     0     1     0  \n",
       "2                                               0     0     1     0  \n",
       "3                                               0     0     1     0  \n",
       "4                                               0     0     1     0  \n",
       "\n",
       "[5 rows x 43 columns]"
      ]
     },
     "execution_count": 55,
     "metadata": {},
     "output_type": "execute_result"
    }
   ],
   "source": [
    "df = pd.get_dummies(df,\n",
    "                    prefix=['BOR',\n",
    "                            'BC',\n",
    "                            'TC'],#nuovi prefissi comuni\n",
    "                    columns=['BOROUGH',\n",
    "                             'BUILDING CLASS CATEGORY',\n",
    "                             'TAX CLASS AT TIME OF SALE'])#lista colonne da codificare\n",
    "\n",
    "df.head()"
   ]
  },
  {
   "cell_type": "code",
   "execution_count": 56,
   "metadata": {},
   "outputs": [
    {
     "data": {
      "text/plain": [
       "(29280, 43)"
      ]
     },
     "execution_count": 56,
     "metadata": {},
     "output_type": "execute_result"
    }
   ],
   "source": [
    "df.shape"
   ]
  },
  {
   "cell_type": "markdown",
   "metadata": {},
   "source": [
    "Siamo pronti per fare machine learning. Separiamo $X$ e $y$."
   ]
  },
  {
   "cell_type": "code",
   "execution_count": 57,
   "metadata": {},
   "outputs": [],
   "source": [
    "y = df['SALE PRICE']\n",
    "X = df.drop(columns=['SALE PRICE'])"
   ]
  },
  {
   "cell_type": "code",
   "execution_count": 58,
   "metadata": {},
   "outputs": [
    {
     "data": {
      "text/plain": [
       "((29280, 42), (29280,))"
      ]
     },
     "execution_count": 58,
     "metadata": {},
     "output_type": "execute_result"
    }
   ],
   "source": [
    "X.shape, y.shape"
   ]
  },
  {
   "cell_type": "markdown",
   "metadata": {},
   "source": [
    "Per trasformare un DataFrame in un array NumPy possiamo usare il costrutto\n",
    "\n",
    "        df.values"
   ]
  },
  {
   "cell_type": "code",
   "execution_count": 59,
   "metadata": {},
   "outputs": [
    {
     "data": {
      "text/plain": [
       "array([[     5,      0,   1633, ...,      0,      1,      0],\n",
       "       [    10,      0,   2272, ...,      0,      1,      0],\n",
       "       [     6,      0,   2369, ...,      0,      1,      0],\n",
       "       ...,\n",
       "       [     2,      0,   4000, ...,      1,      0,      0],\n",
       "       [     0,      7, 208033, ...,      0,      0,      1],\n",
       "       [     0,      1,  10796, ...,      0,      0,      1]])"
      ]
     },
     "execution_count": 59,
     "metadata": {},
     "output_type": "execute_result"
    }
   ],
   "source": [
    "X_np = X.values\n",
    "\n",
    "X_np"
   ]
  },
  {
   "cell_type": "markdown",
   "metadata": {},
   "source": [
    "<script>\n",
    "  $(document).ready(function(){\n",
    "    $('div.back-to-top').hide();\n",
    "    $('nav#menubar').hide();\n",
    "    $('div.prompt').hide();\n",
    "    $('.hidden-print').hide();\n",
    "  });\n",
    "</script>\n",
    "\n",
    "<footer id=\"attribution\" style=\"float:right; color:#999; background:#fff;\">\n",
    "Created with Jupyter, delivered by Fastly, rendered by Rackspace.\n",
    "</footer>"
   ]
  }
 ],
 "metadata": {
  "kernelspec": {
   "display_name": "Python 3",
   "language": "python",
   "name": "python3"
  },
  "language_info": {
   "codemirror_mode": {
    "name": "ipython",
    "version": 3
   },
   "file_extension": ".py",
   "mimetype": "text/x-python",
   "name": "python",
   "nbconvert_exporter": "python",
   "pygments_lexer": "ipython3",
   "version": "3.8.5"
  }
 },
 "nbformat": 4,
 "nbformat_minor": 2
}
