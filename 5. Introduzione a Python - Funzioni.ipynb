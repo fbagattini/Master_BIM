{
 "cells": [
  {
   "cell_type": "markdown",
   "metadata": {},
   "source": [
    "*Contenuti*\n",
    "===\n",
    "- [Funzioni](#Funzioni)\n",
    "    - [Sintassi](#Sintassi)\n",
    "    - [Operatore \\*](#Operatore-*)\n",
    "    - [Argomenti opzionali](#Argomenti-opzionali)\n",
    "    - [Ordine delle chiamate](#Ordine-delle-chiamate)\n",
    "    - [Valore di ritorno](#Valore-di-ritorno)\n",
    "    - [*Esercizio 1*](#Esercizio-1)\n",
    "    - [*Esercizio 2*](#Esercizio-2)\n",
    "    - [*Esercizio 3*](#Esercizio-3)    \n",
    "    - [*Esercizio 4*](#Esercizio-4)\n",
    "    - [*Esercizio 5*](#Esercizio-5)"
   ]
  },
  {
   "cell_type": "markdown",
   "metadata": {},
   "source": [
    "Funzioni\n",
    "===\n",
    "Spesso, quando si scrive codice, una certa sequenza di azioni viene utilizzata molte volte, magari con piccole differenze di contesto.\n",
    "\n",
    "Riprendiamo il database di utenti della Lezione 3, e supponiamo di voler visualizzare le informazioni di ogni record via via che riempiamo la struttura dati."
   ]
  },
  {
   "cell_type": "code",
   "execution_count": 1,
   "metadata": {},
   "outputs": [
    {
     "name": "stdout",
     "output_type": "stream",
     "text": [
      "Nome: Francesco\n",
      "Età: 30\n",
      "Sesso: M\n",
      "\n",
      "Nome: Elisa\n",
      "Età: 27\n",
      "Sesso: F\n",
      "\n",
      "Nome: Alessandro\n",
      "Età: 31\n",
      "Sesso: M\n"
     ]
    }
   ],
   "source": [
    "users = []#database\n",
    "\n",
    "francesco = {'name':'Francesco', 'age':30, 'gender':'M'}\n",
    "print('Nome:', francesco['name'])\n",
    "print('Età:', francesco['age'])\n",
    "print('Sesso:', francesco['gender'])\n",
    "users += [francesco]\n",
    "\n",
    "#...\n",
    "\n",
    "elisa = {'name':'Elisa', 'age':27, 'gender':'F'}\n",
    "print('\\nNome:', elisa['name'])#'\\n' inserisce un 'a capo'\n",
    "print('Età:', elisa['age'])\n",
    "print('Sesso:', elisa['gender'])\n",
    "users += [elisa]\n",
    "\n",
    "#...\n",
    "\n",
    "alessandro = {'name':'Alessandro', 'age':31, 'gender':'M'}\n",
    "print('\\nNome:', alessandro['name'])\n",
    "print('Età:', alessandro['age'])\n",
    "print('Sesso:', alessandro['gender'])\n",
    "users += [alessandro]"
   ]
  },
  {
   "cell_type": "markdown",
   "metadata": {},
   "source": [
    "La stampa viene ripetuta per ogni nuovo utente: il codice è lungo e ripetitivo, ed è facile fare errori.\n",
    "\n",
    "Sintassi\n",
    "---\n",
    "Una *funzione* è una sequenza di azioni a cui si dà un nome, e che si può *chiamare* all'occorrenza. Abbiamo già visto ed usato alcune funzioni: tra le altre, print, len, title, round e sorted."
   ]
  },
  {
   "cell_type": "code",
   "execution_count": null,
   "metadata": {},
   "outputs": [],
   "source": [
    "def function_name(argument_1, argument_2):\n",
    "    #fai qualcosa, utilizzando argument_1 e argument_2\n",
    "    #volendo, restituisci un valore\n",
    "    \n",
    "function_name(a, b)#chiamata"
   ]
  },
  {
   "cell_type": "markdown",
   "metadata": {},
   "source": [
    "Il codice qui sopra non compila, è solo un esempio generale di funzione.\n",
    "\n",
    "- *function_name* è il nome della funzione da usare al momento della chiamata\n",
    "- *argument_1* e *argument_2* sono detti *argomenti* e possono essere tanti a piacere\n",
    "- il nome della funzione e la lista ordinata dei suoi argomenti è detta *firma*\n",
    "- gli argomenti  seguono un ordine, che deve essere rispettato al momento della chiamata\n",
    "- **def** è una keyword del linguaggio, come for e if\n",
    "- la definizione deve precedere la chiamata nell'ordine di scrittura del codice.\n",
    "\n",
    "Torniamo al nostro database, e condensiamo in una funzione la stampa delle informazioni di un utente."
   ]
  },
  {
   "cell_type": "code",
   "execution_count": 3,
   "metadata": {},
   "outputs": [
    {
     "name": "stdout",
     "output_type": "stream",
     "text": [
      "\n",
      "Nome: Francesco\n",
      "Età: 30\n",
      "Sesso: M\n",
      "\n",
      "Nome: Elisa\n",
      "Età: 27\n",
      "Sesso: F\n",
      "\n",
      "Nome: Alessandro\n",
      "Età: 31\n",
      "Sesso: M\n"
     ]
    }
   ],
   "source": [
    "def show_user_info(user):\n",
    "    print('\\nNome:', user['name'])\n",
    "    print('Età:', user['age'])\n",
    "    print('Sesso:', user['gender'])\n",
    "    \n",
    "users = []\n",
    "\n",
    "francesco = {'name':'Francesco', 'age':30, 'gender':'M'}\n",
    "show_user_info(francesco)\n",
    "users += [francesco]\n",
    "\n",
    "elisa = {'name':'Elisa', 'age':27, 'gender':'F'}\n",
    "show_user_info(elisa)\n",
    "users += [elisa]\n",
    "\n",
    "alessandro = {'name':'Alessandro', 'age':31, 'gender':'M'}\n",
    "show_user_info(alessandro)\n",
    "users += [alessandro]"
   ]
  },
  {
   "cell_type": "markdown",
   "metadata": {},
   "source": [
    "Operatore *\n",
    "---\n",
    "Il costrutto\n",
    "\n",
    "            *lista          \n",
    "permette di passare una lista ad una funzione, sotto forma di argomenti 'spacchettati'. L'ordine degli elementi della lista deve rispettare quello degli argomenti nella firma della funzione."
   ]
  },
  {
   "cell_type": "code",
   "execution_count": 6,
   "metadata": {},
   "outputs": [
    {
     "name": "stdout",
     "output_type": "stream",
     "text": [
      "\n",
      "Nome: Francesco\n",
      "Età: 30\n",
      "Sesso: M\n"
     ]
    }
   ],
   "source": [
    "def show_user_info(name, age, gender):#implementazione differente\n",
    "    print('\\nNome:', name)\n",
    "    print('Età:', age)\n",
    "    print('Sesso:', gender)\n",
    "    \n",
    "francesco = ['Francesco', 30, 'M']\n",
    "show_user_info(*francesco)"
   ]
  },
  {
   "cell_type": "code",
   "execution_count": 7,
   "metadata": {},
   "outputs": [
    {
     "name": "stdout",
     "output_type": "stream",
     "text": [
      "\n",
      "Nome: Michael\n",
      "Età: 30\n",
      "Sesso: M\n"
     ]
    }
   ],
   "source": [
    "michael = {'name':'Michael', 'age':30, 'gender':'M'}\n",
    "show_user_info(*michael.values())#lista dei valori del dizionario"
   ]
  },
  {
   "cell_type": "markdown",
   "metadata": {},
   "source": [
    "Argomenti opzionali\n",
    "---\n",
    "Una funzione può avere degli *argomenti opzionali* (tanti a piacere). Questi devono seguire, nella *firma* della funzione, quelli obbligatori. Sono inizializzati con un valore di default (attraverso un *=*) e non conta l'ordine in cui vengono passati."
   ]
  },
  {
   "cell_type": "code",
   "execution_count": 1,
   "metadata": {},
   "outputs": [
    {
     "name": "stdout",
     "output_type": "stream",
     "text": [
      "\n",
      "Nome: Francesco\n",
      "Età: 30\n",
      "Sesso: M\n",
      "Email: not available\n",
      "\n",
      "Nome: Elisa\n",
      "Età: 27\n",
      "Sesso: F\n",
      "Email: not available\n",
      "\n",
      "Nome: Giovanni\n",
      "Età: 68\n",
      "Sesso: M\n",
      "Email: gio@mail.it\n"
     ]
    }
   ],
   "source": [
    "def show_user_info(user, email='not available'):\n",
    "    print('\\nNome:', user['name'])\n",
    "    print('Età:', user['age'])\n",
    "    print('Sesso:', user['gender'])\n",
    "    print('Email:', email)\n",
    "    \n",
    "francesco = {'name':'Francesco', 'age':30, 'gender':'M'}\n",
    "show_user_info(francesco)\n",
    "\n",
    "elisa = {'name':'Elisa', 'age':27, 'gender':'F'}\n",
    "show_user_info(elisa)\n",
    "\n",
    "giovanni = {'name':'Giovanni', 'age':68, 'gender':'M'}\n",
    "show_user_info(giovanni, email='gio@mail.it')"
   ]
  },
  {
   "cell_type": "markdown",
   "metadata": {},
   "source": [
    "Ordine delle chiamate\n",
    "---\n",
    "\n",
    "Una funzione può chiamarne un'altra, come nel caso di print negli esempi precedenti. Attenzione all'ordine di dichiarazione.\n",
    "\n",
    "L'ordine delle chiamate è salvato nella *stack trace*: https://en.wikipedia.org/wiki/Stack_trace."
   ]
  },
  {
   "cell_type": "code",
   "execution_count": 10,
   "metadata": {},
   "outputs": [
    {
     "name": "stdout",
     "output_type": "stream",
     "text": [
      "fun_1: sto chiamando fun_2\n",
      "fun_2: ciao!\n"
     ]
    }
   ],
   "source": [
    "def fun_2(arg):\n",
    "    print('fun_2:', arg)\n",
    "\n",
    "def fun_1(arg):\n",
    "    print('fun_1: sto chiamando fun_2')\n",
    "    fun_2(arg)#f_1 chiama f_2, che deve essere già stata dichiarata\n",
    "    \n",
    "fun_1('ciao!')"
   ]
  },
  {
   "cell_type": "markdown",
   "metadata": {},
   "source": [
    "Valore di ritorno\n",
    "---\n",
    "Oltre ad eseguire delle azioni, una funzione può restituire uno o più valori attraverso la keyword *return*."
   ]
  },
  {
   "cell_type": "code",
   "execution_count": 1,
   "metadata": {},
   "outputs": [
    {
     "name": "stdout",
     "output_type": "stream",
     "text": [
      "Eseguo e restituisco il prodotto di 10 e 5.\n",
      "50\n"
     ]
    }
   ],
   "source": [
    "def product(a, b):\n",
    "    print(f'Eseguo e restituisco il prodotto di {a} e {b}.')\n",
    "    c = a*b\n",
    "    return c\n",
    "\n",
    "print(product(10, 5))"
   ]
  },
  {
   "cell_type": "markdown",
   "metadata": {},
   "source": [
    "*Esercizio 1*\n",
    "---\n",
    "- costruire un database di utenti specificandone l'età e altri campi a piacere\n",
    "- scrivere una funzione che ordina gli utenti per età (dal più piccolo) e chiama show_user_info per stamparne le info; per ordinare in ordine crescente di età, usare il costrutto:\n",
    "        sorted(users, key = lambda user : user['age'])\n",
    "- testare il funzionamento con una chiamata."
   ]
  },
  {
   "cell_type": "code",
   "execution_count": null,
   "metadata": {},
   "outputs": [],
   "source": [
    "def show_user_info(user):\n",
    "    print('\\nNome:', user['name'])\n",
    "    print('Età:', user['age'])\n",
    "    print('Sesso:', user['gender'])\n",
    "\n",
    "def show_all_users_by_age(users):\n",
    "    #FILL ME"
   ]
  },
  {
   "cell_type": "markdown",
   "metadata": {},
   "source": [
    "Nell'esercizio precedente abbiamo usato la keyword *lambda*. In particolare, la funzione sorted accetta un argomento (opzionale) *key* che specifica il criterio con cui gli elementi devono essere ordinati.\n",
    "\n",
    "Utilizzare lambda, nel nostro esempio, equivale a definire una funzione 'sul posto' che, preso un utente, ne restituisce l'età. Questa viene associata a key, e serve alla funzione sorted come criterio di ordinamento. Quando si tratta di numeri, l'ordinamento è per convenzione crescente."
   ]
  },
  {
   "cell_type": "code",
   "execution_count": 5,
   "metadata": {},
   "outputs": [
    {
     "name": "stdout",
     "output_type": "stream",
     "text": [
      "Montagne per altezza (dalla più bassa):\n",
      "{'name': 'Kangchenjunga', 'height': 8586, 'country': 'Nepal'}\n",
      "{'name': 'K2', 'height': 8611, 'country': 'Pakistan'}\n",
      "{'name': 'Mount Everest', 'height': 8858, 'country': 'Nepal'}\n",
      "\n",
      "Montagne per altezza (dalla più alta):\n",
      "{'name': 'Mount Everest', 'height': 8858, 'country': 'Nepal'}\n",
      "{'name': 'K2', 'height': 8611, 'country': 'Pakistan'}\n",
      "{'name': 'Kangchenjunga', 'height': 8586, 'country': 'Nepal'}\n",
      "\n",
      "Montagne in ordine alfabetico:\n",
      "{'name': 'K2', 'height': 8611, 'country': 'Pakistan'}\n",
      "{'name': 'Kangchenjunga', 'height': 8586, 'country': 'Nepal'}\n",
      "{'name': 'Mount Everest', 'height': 8858, 'country': 'Nepal'}\n"
     ]
    }
   ],
   "source": [
    "mountains = []\n",
    "\n",
    "mountains += [{'name':'Mount Everest', 'height':8858, 'country':'Nepal'}]\n",
    "mountains += [{'name':'K2', 'height':8611, 'country':'Pakistan'}]\n",
    "mountains += [{'name':'Kangchenjunga', 'height':8586, 'country':'Nepal'}]\n",
    "\n",
    "print('Montagne per altezza (dalla più bassa):')\n",
    "for m in sorted(mountains, key = lambda mountain : mountain['height']):\n",
    "    print(m)\n",
    "    \n",
    "print('\\nMontagne per altezza (dalla più alta):')\n",
    "for m in sorted(mountains, key = lambda mountain : -mountain['height']):\n",
    "    print(m)\n",
    "    \n",
    "print('\\nMontagne in ordine alfabetico:')\n",
    "for m in sorted(mountains, key = lambda mountain : mountain['name']):\n",
    "    print(m)"
   ]
  },
  {
   "cell_type": "markdown",
   "metadata": {},
   "source": [
    "Le lambda sono funzioni a tutti gli effetti, con l'unica differenza di essere anonime. Si usano quando una funzione viene chiamata una sola volta o, più esattamente, in una sola riga del codice. Per saperne di più sulle funzioni lambda: \n",
    "\n",
    "- https://stackoverflow.com/questions/890128/why-are-python-lambdas-useful\n",
    "- https://www.python-course.eu/python3_lambda.php"
   ]
  },
  {
   "cell_type": "markdown",
   "metadata": {},
   "source": [
    "*Esercizio 2*\n",
    "---\n",
    "Ripetere l'Esercizio 1, passando alla funzione che stampa tutti i contatti anche il campo in base al quale fare l'ordinamento. Questo deve essere opzionale, e l'ordinamento di default deve essere quello per nome."
   ]
  },
  {
   "cell_type": "code",
   "execution_count": 54,
   "metadata": {},
   "outputs": [],
   "source": [
    "def show_all_users_by_field(...):\n",
    "    #FILL ME"
   ]
  },
  {
   "cell_type": "markdown",
   "metadata": {},
   "source": [
    "*Esercizio 3*\n",
    "---\n",
    "Dato il database di utenti costruito con gli esercizi precedenti, scrivere una funzione che stampa SOLO i nomi degli utenti in ordine alfabetico, usando una comprensione di lista."
   ]
  },
  {
   "cell_type": "code",
   "execution_count": null,
   "metadata": {},
   "outputs": [],
   "source": [
    "def show_names_alphabetically(users):\n",
    "    #FILL ME"
   ]
  },
  {
   "cell_type": "markdown",
   "metadata": {},
   "source": [
    "*Esercizio 4*\n",
    "---\n",
    "Immaginiamo di dover riempire il database di utenti da zero. Scrivere una funzione che, presi in ingresso un nuovo utente e il database,\n",
    "\n",
    "- stampa le informazioni dell'utente, usando show_user_info\n",
    "- aggiunge l'utente al database solo se è maggiorenne\n",
    "- restituisce il database aggiornato\n",
    "\n",
    "Testare il funzionamento con utenti maggiorenni e minorenni e verificare con una stampa che il database contenga tutti e soli i maggiorenni."
   ]
  },
  {
   "cell_type": "code",
   "execution_count": null,
   "metadata": {},
   "outputs": [],
   "source": [
    "def show_and_add_if_adult(user, db):\n",
    "    #FILL ME\n",
    "\n",
    "adult_users = []#database\n",
    "\n",
    "adult_users = show_and_add_if_adult({'name':'Francesco', 'age':30, 'gender':'M'}, adult_users)\n",
    "\n",
    "print(adult_users)"
   ]
  },
  {
   "cell_type": "markdown",
   "metadata": {},
   "source": [
    "*Esercizio 5*\n",
    "---\n",
    "\n",
    "Ripetere l'Esercizio 4, ma utilizzando una funzione esterna per controllare se un utente è maggiorenne."
   ]
  },
  {
   "cell_type": "code",
   "execution_count": null,
   "metadata": {},
   "outputs": [],
   "source": [
    "#FILL ME"
   ]
  },
  {
   "cell_type": "markdown",
   "metadata": {},
   "source": [
    "<script>\n",
    "  $(document).ready(function(){\n",
    "    $('div.back-to-top').hide();\n",
    "    $('nav#menubar').hide();\n",
    "    $('div.prompt').hide();\n",
    "    $('.hidden-print').hide();\n",
    "  });\n",
    "</script>\n",
    "\n",
    "<footer id=\"attribution\" style=\"float:right; color:#999; background:#fff;\">\n",
    "Created with Jupyter, delivered by Fastly, rendered by Rackspace.\n",
    "</footer>"
   ]
  }
 ],
 "metadata": {
  "kernelspec": {
   "display_name": "Python 3",
   "language": "python",
   "name": "python3"
  },
  "language_info": {
   "codemirror_mode": {
    "name": "ipython",
    "version": 3
   },
   "file_extension": ".py",
   "mimetype": "text/x-python",
   "name": "python",
   "nbconvert_exporter": "python",
   "pygments_lexer": "ipython3",
   "version": "3.6.8"
  }
 },
 "nbformat": 4,
 "nbformat_minor": 2
}
