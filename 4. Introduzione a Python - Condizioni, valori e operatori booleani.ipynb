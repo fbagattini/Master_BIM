{
 "cells": [
  {
   "cell_type": "markdown",
   "metadata": {},
   "source": [
    "*Contenuti*\n",
    "===\n",
    "- [Il costrutto if-elif-else](#Il-costrutto-if-elif-else)\n",
    "    - [*if*](#if)\n",
    "    - [*else*](#else)\n",
    "    - [*elif*](#elif)\n",
    "    - [*switch* e *case*](#switch-e-case)\n",
    "- [if e comprensioni di liste](#if-e-comprensioni-di-liste)\n",
    "- [Assegnazione condizionata](#Assegnazione-condizionata)\n",
    "- [Test logici](#Test-logici)\n",
    "- [*Esercizio 1*](#Esercizio-1)\n",
    "- [*Esercizio 2*](#Esercizio-2)"
   ]
  },
  {
   "cell_type": "markdown",
   "metadata": {},
   "source": [
    "Il costrutto *if-elif-else*\n",
    "==="
   ]
  },
  {
   "cell_type": "markdown",
   "metadata": {},
   "source": [
    "*if*\n",
    "---\n",
    "Attraverso la keyword *if* si testano una o più condizioni."
   ]
  },
  {
   "cell_type": "code",
   "execution_count": 1,
   "metadata": {},
   "outputs": [
    {
     "name": "stdout",
     "output_type": "stream",
     "text": [
      "8 è un numero pari\n"
     ]
    }
   ],
   "source": [
    "number = 8\n",
    "\n",
    "if number % 2 == 0:#'%' è l'operatore 'modulo'\n",
    "    print(number, 'è un numero pari')"
   ]
  },
  {
   "cell_type": "code",
   "execution_count": 2,
   "metadata": {},
   "outputs": [
    {
     "name": "stdout",
     "output_type": "stream",
     "text": [
      "18 è un numero pari ed è multiplo di 3\n"
     ]
    }
   ],
   "source": [
    "number = 18\n",
    "\n",
    "if number % 2 == 0 and number % 3 == 0:#condizione multipla\n",
    "    print(number, 'è un numero pari ed è multiplo di 3')"
   ]
  },
  {
   "cell_type": "markdown",
   "metadata": {},
   "source": [
    "*else*\n",
    "---\n",
    "Attraverso la keyword *else*, possiamo associare un'azione all'evento di fallimento della condizione testata da if."
   ]
  },
  {
   "cell_type": "code",
   "execution_count": 3,
   "metadata": {},
   "outputs": [
    {
     "name": "stdout",
     "output_type": "stream",
     "text": [
      "7 è un numero dispari\n"
     ]
    }
   ],
   "source": [
    "number = 7\n",
    "\n",
    "if number % 2 == 0:\n",
    "    print(number, 'è un numero pari')\n",
    "else:\n",
    "    print(number, 'è un numero dispari')"
   ]
  },
  {
   "cell_type": "markdown",
   "metadata": {},
   "source": [
    "*elif*\n",
    "---\n",
    "Se vogliamo testare una serie di condizioni (piuttosto che una del tipo *'A o non A'* ) utilizziamo *elif*, contrazione di else e if."
   ]
  },
  {
   "cell_type": "code",
   "execution_count": 7,
   "metadata": {},
   "outputs": [
    {
     "name": "stdout",
     "output_type": "stream",
     "text": [
      "ciao è di tipo stringa\n",
      "5 è di tipo intero\n",
      "4.7 non è né stringa, né intero, né lista!\n",
      "mamma è di tipo stringa\n",
      "[4, 5, 6] è di tipo list\n"
     ]
    }
   ],
   "source": [
    "mixed_list = ['ciao', 5, 4.7, 'mamma', [4,5,6]]\n",
    "\n",
    "for element in mixed_list:\n",
    "    if type(element) == str : print(element, 'è di tipo stringa')#corpo dell'azione in una sola riga\n",
    "    elif type(element) == int : print(element, 'è di tipo intero')\n",
    "    elif type(element) == list : print(element, 'è di tipo list')\n",
    "    else : print(element, 'non è né stringa, né intero, né lista!')"
   ]
  },
  {
   "cell_type": "markdown",
   "metadata": {},
   "source": [
    "Nel costrutto if-elif-else si può usare un solo else, che verrà eseguito quando tutte le altre condizioni (testate da if ed elif) falliranno. Se una della condizioni testate si verifica, quelle successive vengono ignorate."
   ]
  },
  {
   "cell_type": "markdown",
   "metadata": {},
   "source": [
    "if e comprensioni di liste\n",
    "===\n",
    "Il test di una condizione è particolarmente comodo quando si vuole derivare una lista da una nota attraverso una comprensione."
   ]
  },
  {
   "cell_type": "code",
   "execution_count": 1,
   "metadata": {},
   "outputs": [
    {
     "data": {
      "text/plain": [
       "['ciao', 'mamma']"
      ]
     },
     "execution_count": 1,
     "metadata": {},
     "output_type": "execute_result"
    }
   ],
   "source": [
    "mixed_list = ['ciao', 5, 4.7, 'mamma', [4,5,6]]\n",
    "strings = [element for element in mixed_list if type(element) == str]\n",
    "strings"
   ]
  },
  {
   "cell_type": "markdown",
   "metadata": {},
   "source": [
    "Test logici\n",
    "===\n",
    "Le condizioni testate da if ed elif sono vere (*True*) o false (*False*). In Python, la risposta al test di una condizione è di tipo *booleano*. Vediamo alcuni esempi."
   ]
  },
  {
   "cell_type": "code",
   "execution_count": 5,
   "metadata": {},
   "outputs": [
    {
     "data": {
      "text/plain": [
       "bool"
      ]
     },
     "execution_count": 5,
     "metadata": {},
     "output_type": "execute_result"
    }
   ],
   "source": [
    "a = 5\n",
    "b = 7\n",
    "type(a == b)"
   ]
  },
  {
   "cell_type": "code",
   "execution_count": 11,
   "metadata": {},
   "outputs": [
    {
     "name": "stdout",
     "output_type": "stream",
     "text": [
      "False\n"
     ]
    }
   ],
   "source": [
    "a == b"
   ]
  },
  {
   "cell_type": "code",
   "execution_count": 12,
   "metadata": {},
   "outputs": [
    {
     "data": {
      "text/plain": [
       "True"
      ]
     },
     "execution_count": 12,
     "metadata": {},
     "output_type": "execute_result"
    }
   ],
   "source": [
    "(a == b) == False"
   ]
  },
  {
   "cell_type": "code",
   "execution_count": 3,
   "metadata": {},
   "outputs": [
    {
     "data": {
      "text/plain": [
       "bool"
      ]
     },
     "execution_count": 3,
     "metadata": {},
     "output_type": "execute_result"
    }
   ],
   "source": [
    "type(True)"
   ]
  },
  {
   "cell_type": "code",
   "execution_count": 4,
   "metadata": {},
   "outputs": [
    {
     "data": {
      "text/plain": [
       "bool"
      ]
     },
     "execution_count": 4,
     "metadata": {},
     "output_type": "execute_result"
    }
   ],
   "source": [
    "type(False)"
   ]
  },
  {
   "cell_type": "code",
   "execution_count": 15,
   "metadata": {},
   "outputs": [
    {
     "name": "stdout",
     "output_type": "stream",
     "text": [
      "True\n"
     ]
    }
   ],
   "source": [
    "c = 5\n",
    "a >= c"
   ]
  },
  {
   "cell_type": "code",
   "execution_count": 16,
   "metadata": {},
   "outputs": [
    {
     "name": "stdout",
     "output_type": "stream",
     "text": [
      "False\n"
     ]
    }
   ],
   "source": [
    "a > c"
   ]
  },
  {
   "cell_type": "code",
   "execution_count": 6,
   "metadata": {},
   "outputs": [
    {
     "data": {
      "text/plain": [
       "True"
      ]
     },
     "execution_count": 6,
     "metadata": {},
     "output_type": "execute_result"
    }
   ],
   "source": [
    "a != b#'diverso da'"
   ]
  },
  {
   "cell_type": "code",
   "execution_count": 7,
   "metadata": {},
   "outputs": [
    {
     "data": {
      "text/plain": [
       "True"
      ]
     },
     "execution_count": 7,
     "metadata": {},
     "output_type": "execute_result"
    }
   ],
   "source": [
    "lst = [3,6,2,10]\n",
    "3 in lst#test di inclusione"
   ]
  },
  {
   "cell_type": "code",
   "execution_count": 8,
   "metadata": {},
   "outputs": [
    {
     "data": {
      "text/plain": [
       "False"
      ]
     },
     "execution_count": 8,
     "metadata": {},
     "output_type": "execute_result"
    }
   ],
   "source": [
    "7 in lst"
   ]
  },
  {
   "cell_type": "markdown",
   "metadata": {},
   "source": [
    "Operatori booleani\n",
    "===\n",
    "Le condizioni booleane si possono combinare in vari modi attraverso gli *operatori booleani*.\n",
    "\n",
    "Come abbiamo visto all'[inizio](#if) della lezione, usiamo l'operatore *and* se vogliamo verificare CONTEMPORANEAMENTE due o più condizioni."
   ]
  },
  {
   "cell_type": "code",
   "execution_count": 9,
   "metadata": {},
   "outputs": [
    {
     "data": {
      "text/plain": [
       "True"
      ]
     },
     "execution_count": 9,
     "metadata": {},
     "output_type": "execute_result"
    }
   ],
   "source": [
    "number = 7\n",
    "number > 5 and number < 10"
   ]
  },
  {
   "cell_type": "code",
   "execution_count": 10,
   "metadata": {},
   "outputs": [
    {
     "data": {
      "text/plain": [
       "False"
      ]
     },
     "execution_count": 10,
     "metadata": {},
     "output_type": "execute_result"
    }
   ],
   "source": [
    "number = 4\n",
    "number > 5 and number < 10"
   ]
  },
  {
   "cell_type": "code",
   "execution_count": 11,
   "metadata": {},
   "outputs": [
    {
     "data": {
      "text/plain": [
       "False"
      ]
     },
     "execution_count": 11,
     "metadata": {},
     "output_type": "execute_result"
    }
   ],
   "source": [
    "number = 12\n",
    "number > 5 and number < 10"
   ]
  },
  {
   "cell_type": "markdown",
   "metadata": {},
   "source": [
    "Il test di due condizioni legate da *or*, invece, passerà se ALMENO UNA delle due si verifica."
   ]
  },
  {
   "cell_type": "code",
   "execution_count": 12,
   "metadata": {},
   "outputs": [
    {
     "data": {
      "text/plain": [
       "True"
      ]
     },
     "execution_count": 12,
     "metadata": {},
     "output_type": "execute_result"
    }
   ],
   "source": [
    "number = 4\n",
    "number > 5 or number % 2 == 0"
   ]
  },
  {
   "cell_type": "code",
   "execution_count": 13,
   "metadata": {},
   "outputs": [
    {
     "data": {
      "text/plain": [
       "True"
      ]
     },
     "execution_count": 13,
     "metadata": {},
     "output_type": "execute_result"
    }
   ],
   "source": [
    "number = 33\n",
    "number > 5 or number % 2 == 0"
   ]
  },
  {
   "cell_type": "code",
   "execution_count": 14,
   "metadata": {},
   "outputs": [
    {
     "data": {
      "text/plain": [
       "False"
      ]
     },
     "execution_count": 14,
     "metadata": {},
     "output_type": "execute_result"
    }
   ],
   "source": [
    "number = 3\n",
    "number > 5 or number % 2 == 0"
   ]
  },
  {
   "cell_type": "markdown",
   "metadata": {},
   "source": [
    "Infine, l'operatore *not* nega una condizione."
   ]
  },
  {
   "cell_type": "code",
   "execution_count": 15,
   "metadata": {},
   "outputs": [
    {
     "data": {
      "text/plain": [
       "True"
      ]
     },
     "execution_count": 15,
     "metadata": {},
     "output_type": "execute_result"
    }
   ],
   "source": [
    "number = 10\n",
    "not type(number) == str"
   ]
  },
  {
   "cell_type": "code",
   "execution_count": 17,
   "metadata": {},
   "outputs": [
    {
     "name": "stdout",
     "output_type": "stream",
     "text": [
      "True\n",
      "False\n",
      "True\n",
      "False\n"
     ]
    }
   ],
   "source": [
    "number = 5\n",
    "print(number > 2)\n",
    "print(not number > 2)\n",
    "print(not not number > 2)\n",
    "print(not not not number > 2)"
   ]
  },
  {
   "cell_type": "code",
   "execution_count": 16,
   "metadata": {},
   "outputs": [
    {
     "data": {
      "text/plain": [
       "True"
      ]
     },
     "execution_count": 16,
     "metadata": {},
     "output_type": "execute_result"
    }
   ],
   "source": [
    "number = 5\n",
    "number < 10 and not number % 2 == 0"
   ]
  },
  {
   "cell_type": "markdown",
   "metadata": {},
   "source": [
    "*Esercizio 1*\n",
    "===\n",
    "Iterando su una lista di numeri interi,\n",
    "- se il quadrato del numero corrente è multiplo sia di 2 che di 3, stampare\n",
    "        Il quadrato di ... è ..., che è multiplo sia di 2 che di 3\n",
    "- se il quadrato del numero corrente è multiplo di 2 ma non di 3, stampare\n",
    "        Il quadrato di ... è ..., che è multiplo di 2 ma non di 3\n",
    "- se il quadrato del numero corrente è multiplo di 3 ma non di 2, stampare\n",
    "        Il quadrato di ... è ..., che è multiplo di 3 ma non di 2\n",
    "- se il quadrato del numero corrente non è multiplo né di 2 né di 3, stampare\n",
    "        Il quadrato di ... è ..., che non è multiplo né di 2 né di 3"
   ]
  },
  {
   "cell_type": "code",
   "execution_count": 50,
   "metadata": {},
   "outputs": [
    {
     "name": "stdout",
     "output_type": "stream",
     "text": [
      "Il quadrato di 3 è 9, che è multiplo di 3 ma non di 2\n",
      "Il quadrato di 6 è 36, che è multiplo sia di 2 che di 3\n",
      "Il quadrato di 5 è 25, che non è multiplo né di 2 né di 3\n",
      "Il quadrato di 8 è 64, che è multiplo di 2 ma non di 3\n",
      "Il quadrato di 12 è 144, che è multiplo sia di 2 che di 3\n"
     ]
    }
   ],
   "source": [
    "lst = [3,6,5,8,12]\n",
    "\n",
    "#FILL ME"
   ]
  },
  {
   "cell_type": "markdown",
   "metadata": {},
   "source": [
    "*Esercizio 2*\n",
    "===\n",
    "A partire dalla lista di numeri dell'esercizio precedente,\n",
    "- derivare la lista dei quadrati che sono multipli di 2\n",
    "- derivare la lista dei quadrati che sono multipli di 3\n",
    "- derivare la lista dei quadrati che sono multipli di 2 ma non di 3"
   ]
  },
  {
   "cell_type": "code",
   "execution_count": 46,
   "metadata": {},
   "outputs": [],
   "source": [
    "lst = [3,6,5,8,12]\n",
    "\n",
    "#FILL ME"
   ]
  },
  {
   "cell_type": "markdown",
   "metadata": {},
   "source": [
    "<script>\n",
    "  $(document).ready(function(){\n",
    "    $('div.back-to-top').hide();\n",
    "    $('nav#menubar').hide();\n",
    "    $('div.prompt').hide();\n",
    "    $('.hidden-print').hide();\n",
    "  });\n",
    "</script>\n",
    "\n",
    "<footer id=\"attribution\" style=\"float:right; color:#999; background:#fff;\">\n",
    "Created with Jupyter, delivered by Fastly, rendered by Rackspace.\n",
    "</footer>"
   ]
  }
 ],
 "metadata": {
  "kernelspec": {
   "display_name": "Python 3",
   "language": "python",
   "name": "python3"
  },
  "language_info": {
   "codemirror_mode": {
    "name": "ipython",
    "version": 3
   },
   "file_extension": ".py",
   "mimetype": "text/x-python",
   "name": "python",
   "nbconvert_exporter": "python",
   "pygments_lexer": "ipython3",
   "version": "3.6.8"
  }
 },
 "nbformat": 4,
 "nbformat_minor": 2
}
